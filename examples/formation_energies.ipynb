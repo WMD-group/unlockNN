{
 "cells": [
  {
   "cell_type": "markdown",
   "metadata": {},
   "source": [
    "# Binary compound formation energy prediction example\n",
    "\n",
    "This notebook demonstrates how to create a probabilistic model for predicting\n",
    "formation energies of binary compounds with a quantified uncertainty.\n"
   ]
  },
  {
   "cell_type": "code",
   "execution_count": 1,
   "metadata": {},
   "outputs": [],
   "source": [
    "import shutil\n",
    "from pathlib import Path\n",
    "\n",
    "import pandas as pd\n",
    "from megnet.models import MEGNetModel\n",
    "from pymatgen.ext.matproj import MPRester\n",
    "from tensorflow.keras.callbacks import TensorBoard\n",
    "from unlockgnn.download import load_data\n",
    "from unlockgnn.model import MEGNetProbModel\n",
    "from unlockgnn.metrics import evaluate_uq_metrics\n"
   ]
  },
  {
   "cell_type": "code",
   "execution_count": 2,
   "metadata": {},
   "outputs": [],
   "source": [
    "THIS_DIR = Path(\".\").parent\n",
    "CONFIG_FILE = THIS_DIR / \".config\"\n",
    "\n",
    "MODEL_SAVE_DIR: Path = THIS_DIR / \"binary_e_form_model\"\n",
    "LOG_DIR = THIS_DIR / \"logs\"\n",
    "BATCH_SIZE: int = 128\n",
    "NUM_INDUCING_POINTS: int = 500\n",
    "OVERWRITE: bool = True\n",
    "TRAINING_RATIO: float = 0.8\n",
    "\n",
    "if OVERWRITE:\n",
    "    for directory in [MODEL_SAVE_DIR, LOG_DIR]:\n",
    "        if directory.exists():\n",
    "            shutil.rmtree(directory)\n"
   ]
  },
  {
   "cell_type": "markdown",
   "metadata": {},
   "source": [
    "# Data gathering\n",
    "\n",
    "Here we download binary compounds that lie on the convex hull from the Materials\n",
    "Project, then split them into training and validation subsets.\n"
   ]
  },
  {
   "cell_type": "code",
   "execution_count": 3,
   "metadata": {},
   "outputs": [
    {
     "data": {
      "text/html": [
       "<div>\n",
       "<style scoped>\n",
       "    .dataframe tbody tr th:only-of-type {\n",
       "        vertical-align: middle;\n",
       "    }\n",
       "\n",
       "    .dataframe tbody tr th {\n",
       "        vertical-align: top;\n",
       "    }\n",
       "\n",
       "    .dataframe thead th {\n",
       "        text-align: right;\n",
       "    }\n",
       "</style>\n",
       "<table border=\"1\" class=\"dataframe\">\n",
       "  <thead>\n",
       "    <tr style=\"text-align: right;\">\n",
       "      <th></th>\n",
       "      <th>structure</th>\n",
       "      <th>formation_energy_per_atom</th>\n",
       "    </tr>\n",
       "  </thead>\n",
       "  <tbody>\n",
       "    <tr>\n",
       "      <th>0</th>\n",
       "      <td>[[ 1.982598   -4.08421341  3.2051745 ] La, [1....</td>\n",
       "      <td>-0.737439</td>\n",
       "    </tr>\n",
       "    <tr>\n",
       "      <th>1</th>\n",
       "      <td>[[0. 0. 0.] Fe, [1.880473 1.880473 1.880473] H]</td>\n",
       "      <td>-0.068482</td>\n",
       "    </tr>\n",
       "    <tr>\n",
       "      <th>2</th>\n",
       "      <td>[[1.572998 0.       0.      ] Ta, [0.         ...</td>\n",
       "      <td>-0.773151</td>\n",
       "    </tr>\n",
       "    <tr>\n",
       "      <th>3</th>\n",
       "      <td>[[0.         0.         7.42288687] Hf, [0.   ...</td>\n",
       "      <td>-0.177707</td>\n",
       "    </tr>\n",
       "    <tr>\n",
       "      <th>4</th>\n",
       "      <td>[[ 1.823716   -3.94193291  3.47897025] Tm, [1....</td>\n",
       "      <td>-0.905038</td>\n",
       "    </tr>\n",
       "  </tbody>\n",
       "</table>\n",
       "</div>"
      ],
      "text/plain": [
       "                                           structure  \\\n",
       "0  [[ 1.982598   -4.08421341  3.2051745 ] La, [1....   \n",
       "1    [[0. 0. 0.] Fe, [1.880473 1.880473 1.880473] H]   \n",
       "2  [[1.572998 0.       0.      ] Ta, [0.         ...   \n",
       "3  [[0.         0.         7.42288687] Hf, [0.   ...   \n",
       "4  [[ 1.823716   -3.94193291  3.47897025] Tm, [1....   \n",
       "\n",
       "   formation_energy_per_atom  \n",
       "0                  -0.737439  \n",
       "1                  -0.068482  \n",
       "2                  -0.773151  \n",
       "3                  -0.177707  \n",
       "4                  -0.905038  "
      ]
     },
     "execution_count": 3,
     "metadata": {},
     "output_type": "execute_result"
    }
   ],
   "source": [
    "full_df = load_data(\"binary_e_form\")\n",
    "full_df.head()"
   ]
  },
  {
   "cell_type": "code",
   "execution_count": 4,
   "metadata": {},
   "outputs": [
    {
     "name": "stdout",
     "output_type": "stream",
     "text": [
      "4217 training samples, 1055 validation samples.\n"
     ]
    }
   ],
   "source": [
    "num_training = int(TRAINING_RATIO * len(full_df.index))\n",
    "train_df = full_df[:num_training]\n",
    "val_df = full_df[num_training:]\n",
    "\n",
    "print(f\"{num_training} training samples, {len(val_df.index)} validation samples.\")\n",
    "\n",
    "train_structs = train_df[\"structure\"]\n",
    "val_structs = val_df[\"structure\"]\n",
    "\n",
    "train_targets = train_df[\"formation_energy_per_atom\"]\n",
    "val_targets = val_df[\"formation_energy_per_atom\"]\n"
   ]
  },
  {
   "cell_type": "markdown",
   "metadata": {},
   "source": [
    "# Model creation\n",
    "\n",
    "Now we load the `MEGNet` 2019 formation energies model, then convert this to a\n",
    "probabilistic model.\n"
   ]
  },
  {
   "cell_type": "code",
   "execution_count": 5,
   "metadata": {
    "scrolled": true
   },
   "outputs": [
    {
     "name": "stderr",
     "output_type": "stream",
     "text": [
      "INFO:megnet.utils.models:Package-level mvl_models not included, trying temperary mvl_models downloads..\n",
      "INFO:megnet.utils.models:Model found in local mvl_models path\n"
     ]
    },
    {
     "name": "stdout",
     "output_type": "stream",
     "text": [
      "WARNING:tensorflow:From /home/awsm/anaconda3/envs/unlockGNN/lib/python3.8/site-packages/tensorflow/python/ops/array_ops.py:5043: calling gather (from tensorflow.python.ops.array_ops) with validate_indices is deprecated and will be removed in a future version.\n",
      "Instructions for updating:\n",
      "The `validate_indices` argument has no effect. Indices are always validated on CPU and never validated on GPU.\n"
     ]
    },
    {
     "name": "stderr",
     "output_type": "stream",
     "text": [
      "WARNING:tensorflow:From /home/awsm/anaconda3/envs/unlockGNN/lib/python3.8/site-packages/tensorflow/python/ops/array_ops.py:5043: calling gather (from tensorflow.python.ops.array_ops) with validate_indices is deprecated and will be removed in a future version.\n",
      "Instructions for updating:\n",
      "The `validate_indices` argument has no effect. Indices are always validated on CPU and never validated on GPU.\n"
     ]
    }
   ],
   "source": [
    "meg_model = MEGNetModel.from_mvl_models(\"Eform_MP_2019\")\n"
   ]
  },
  {
   "cell_type": "code",
   "execution_count": 6,
   "metadata": {
    "scrolled": true
   },
   "outputs": [
    {
     "name": "stdout",
     "output_type": "stream",
     "text": [
      "INFO:tensorflow:Assets written to: binary_e_form_model/megnet/assets\n"
     ]
    },
    {
     "name": "stderr",
     "output_type": "stream",
     "text": [
      "/home/awsm/anaconda3/envs/unlockGNN/lib/python3.8/site-packages/tensorflow/python/keras/utils/generic_utils.py:494: CustomMaskWarning: Custom mask layers require a config and must override get_config. When loading, the custom mask layer must be passed to the custom_objects argument.\n",
      "  warnings.warn('Custom mask layers require a config and must override '\n",
      "INFO:tensorflow:Assets written to: binary_e_form_model/megnet/assets\n"
     ]
    },
    {
     "name": "stdout",
     "output_type": "stream",
     "text": [
      "INFO:tensorflow:Assets written to: binary_e_form_model/gnn/assets\n"
     ]
    },
    {
     "name": "stderr",
     "output_type": "stream",
     "text": [
      "/home/awsm/anaconda3/envs/unlockGNN/lib/python3.8/site-packages/tensorflow/python/keras/utils/generic_utils.py:494: CustomMaskWarning: Custom mask layers require a config and must override get_config. When loading, the custom mask layer must be passed to the custom_objects argument.\n",
      "  warnings.warn('Custom mask layers require a config and must override '\n",
      "INFO:tensorflow:Assets written to: binary_e_form_model/gnn/assets\n"
     ]
    },
    {
     "name": "stdout",
     "output_type": "stream",
     "text": [
      "WARNING:tensorflow:From /home/awsm/anaconda3/envs/unlockGNN/lib/python3.8/site-packages/tensorflow_probability/python/distributions/distribution.py:346: calling GaussianProcess.__init__ (from tensorflow_probability.python.distributions.gaussian_process) with jitter is deprecated and will be removed after 2021-05-10.\n",
      "Instructions for updating:\n",
      "`jitter` is deprecated; please use `marginal_fn` directly.\n"
     ]
    },
    {
     "name": "stderr",
     "output_type": "stream",
     "text": [
      "WARNING:tensorflow:From /home/awsm/anaconda3/envs/unlockGNN/lib/python3.8/site-packages/tensorflow_probability/python/distributions/distribution.py:346: calling GaussianProcess.__init__ (from tensorflow_probability.python.distributions.gaussian_process) with jitter is deprecated and will be removed after 2021-05-10.\n",
      "Instructions for updating:\n",
      "`jitter` is deprecated; please use `marginal_fn` directly.\n",
      "/home/awsm/anaconda3/envs/unlockGNN/lib/python3.8/site-packages/tensorflow_probability/python/distributions/gaussian_process.py:363: UserWarning: Unable to detect statically whether the number of index_points is 1. As a result, defaulting to treating the marginal GP at `index_points` as a multivariate Gaussian. This makes some methods, like `cdf` unavailable.\n",
      "  warnings.warn(\n"
     ]
    }
   ],
   "source": [
    "kl_weight = BATCH_SIZE / num_training\n",
    "\n",
    "prob_model = MEGNetProbModel(\n",
    "    num_inducing_points=NUM_INDUCING_POINTS,\n",
    "    save_path=MODEL_SAVE_DIR,\n",
    "    meg_model=meg_model,\n",
    "    kl_weight=kl_weight,\n",
    ")\n"
   ]
  },
  {
   "cell_type": "markdown",
   "metadata": {},
   "source": [
    "# Train the uncertainty quantifier\n",
    "\n",
    "Now we train the model. By default, the `MEGNet` (GNN) layers of the model are\n",
    "frozen after initialization. Therefore, when we call `prob_model.train()`, the\n",
    "only layers that are optimized are the `VariationalGaussianProcess` (VGP) and the\n",
    "`BatchNormalization` layer (`Norm`) that feeds into it.\n",
    "\n",
    "After this initial training, we unfreeze _all_ the layers and train the full model simulateously.\n"
   ]
  },
  {
   "cell_type": "code",
   "execution_count": 7,
   "metadata": {},
   "outputs": [],
   "source": [
    "tb_callback_1 = TensorBoard(log_dir=LOG_DIR / \"vgp_training\", write_graph=False)\n",
    "tb_callback_2 = TensorBoard(log_dir=LOG_DIR / \"fine_tuning\", write_graph=False)\n"
   ]
  },
  {
   "cell_type": "code",
   "execution_count": 8,
   "metadata": {},
   "outputs": [
    {
     "data": {
      "text/html": [
       "\n",
       "      <iframe id=\"tensorboard-frame-49a5d8fb08f5ed71\" width=\"100%\" height=\"800\" frameborder=\"0\">\n",
       "      </iframe>\n",
       "      <script>\n",
       "        (function() {\n",
       "          const frame = document.getElementById(\"tensorboard-frame-49a5d8fb08f5ed71\");\n",
       "          const url = new URL(\"/\", window.location);\n",
       "          const port = 6006;\n",
       "          if (port) {\n",
       "            url.port = port;\n",
       "          }\n",
       "          frame.src = url;\n",
       "        })();\n",
       "      </script>\n",
       "    "
      ],
      "text/plain": [
       "<IPython.core.display.HTML object>"
      ]
     },
     "metadata": {},
     "output_type": "display_data"
    }
   ],
   "source": [
    "%load_ext tensorboard\n",
    "%tensorboard --logdir logs"
   ]
  },
  {
   "cell_type": "code",
   "execution_count": 9,
   "metadata": {},
   "outputs": [
    {
     "name": "stdout",
     "output_type": "stream",
     "text": [
      "Epoch 1/50\n"
     ]
    },
    {
     "name": "stderr",
     "output_type": "stream",
     "text": [
      "/home/awsm/anaconda3/envs/unlockGNN/lib/python3.8/site-packages/tensorflow_probability/python/distributions/gaussian_process.py:363: UserWarning: Unable to detect statically whether the number of index_points is 1. As a result, defaulting to treating the marginal GP at `index_points` as a multivariate Gaussian. This makes some methods, like `cdf` unavailable.\n",
      "  warnings.warn(\n",
      "/home/awsm/anaconda3/envs/unlockGNN/lib/python3.8/site-packages/tensorflow/python/framework/indexed_slices.py:447: UserWarning: Converting sparse IndexedSlices(IndexedSlices(indices=Tensor(\"gradient_tape/model/set2_set_1/Reshape_9:0\", shape=(None,), dtype=int32), values=Tensor(\"gradient_tape/model/set2_set_1/Reshape_8:0\", shape=(None,), dtype=float32), dense_shape=Tensor(\"gradient_tape/model/set2_set_1/Cast:0\", shape=(1,), dtype=int32))) to a dense Tensor of unknown shape. This may consume a large amount of memory.\n",
      "  warnings.warn(\n",
      "/home/awsm/anaconda3/envs/unlockGNN/lib/python3.8/site-packages/tensorflow/python/framework/indexed_slices.py:447: UserWarning: Converting sparse IndexedSlices(IndexedSlices(indices=Tensor(\"gradient_tape/model/set2_set_2/Reshape_9:0\", shape=(None,), dtype=int32), values=Tensor(\"gradient_tape/model/set2_set_2/Reshape_8:0\", shape=(None,), dtype=float32), dense_shape=Tensor(\"gradient_tape/model/set2_set_2/Cast:0\", shape=(1,), dtype=int32))) to a dense Tensor of unknown shape. This may consume a large amount of memory.\n",
      "  warnings.warn(\n",
      "/home/awsm/anaconda3/envs/unlockGNN/lib/python3.8/site-packages/tensorflow/python/framework/indexed_slices.py:447: UserWarning: Converting sparse IndexedSlices(IndexedSlices(indices=Tensor(\"gradient_tape/model/set2_set_1/Reshape_27:0\", shape=(None,), dtype=int32), values=Tensor(\"gradient_tape/model/set2_set_1/Reshape_26:0\", shape=(None,), dtype=float32), dense_shape=Tensor(\"gradient_tape/model/set2_set_1/Cast_2:0\", shape=(1,), dtype=int32))) to a dense Tensor of unknown shape. This may consume a large amount of memory.\n",
      "  warnings.warn(\n",
      "/home/awsm/anaconda3/envs/unlockGNN/lib/python3.8/site-packages/tensorflow/python/framework/indexed_slices.py:447: UserWarning: Converting sparse IndexedSlices(IndexedSlices(indices=Tensor(\"gradient_tape/model/set2_set_2/Reshape_27:0\", shape=(None,), dtype=int32), values=Tensor(\"gradient_tape/model/set2_set_2/Reshape_26:0\", shape=(None,), dtype=float32), dense_shape=Tensor(\"gradient_tape/model/set2_set_2/Cast_2:0\", shape=(1,), dtype=int32))) to a dense Tensor of unknown shape. This may consume a large amount of memory.\n",
      "  warnings.warn(\n"
     ]
    },
    {
     "name": "stdout",
     "output_type": "stream",
     "text": [
      "33/33 - 21s - loss: 2044489.2500 - val_loss: 1890266.8750\n",
      "Epoch 2/50\n",
      "33/33 - 9s - loss: 1892080.8750 - val_loss: 1733111.5000\n",
      "Epoch 3/50\n",
      "33/33 - 9s - loss: 1611927.8750 - val_loss: 1363083.5000\n",
      "Epoch 4/50\n",
      "33/33 - 9s - loss: 1240741.3750 - val_loss: 955943.0000\n",
      "Epoch 5/50\n",
      "33/33 - 9s - loss: 890893.8750 - val_loss: 602054.0000\n",
      "Epoch 6/50\n",
      "33/33 - 9s - loss: 571936.0000 - val_loss: 337989.4375\n",
      "Epoch 7/50\n",
      "33/33 - 9s - loss: 344380.3438 - val_loss: 171421.3906\n",
      "Epoch 8/50\n",
      "33/33 - 9s - loss: 211042.9062 - val_loss: 106291.5469\n",
      "Epoch 9/50\n",
      "33/33 - 9s - loss: 155044.4375 - val_loss: 83854.5938\n",
      "Epoch 10/50\n",
      "33/33 - 9s - loss: 123114.7344 - val_loss: 67730.7812\n",
      "Epoch 11/50\n",
      "33/33 - 9s - loss: 107424.1094 - val_loss: 58536.0352\n",
      "Epoch 12/50\n",
      "33/33 - 9s - loss: 88169.8984 - val_loss: 52115.5156\n",
      "Epoch 13/50\n",
      "33/33 - 9s - loss: 76644.9922 - val_loss: 45150.8438\n",
      "Epoch 14/50\n",
      "33/33 - 9s - loss: 70484.7188 - val_loss: 46568.0898\n",
      "Epoch 15/50\n",
      "33/33 - 9s - loss: 61135.7930 - val_loss: 37954.0234\n",
      "Epoch 16/50\n",
      "33/33 - 9s - loss: 53087.9609 - val_loss: 34939.5156\n",
      "Epoch 17/50\n",
      "33/33 - 9s - loss: 54145.0820 - val_loss: 31267.7363\n",
      "Epoch 18/50\n",
      "33/33 - 9s - loss: 46189.6523 - val_loss: 28914.8516\n",
      "Epoch 19/50\n",
      "33/33 - 9s - loss: 47262.6523 - val_loss: 26610.8203\n",
      "Epoch 20/50\n",
      "33/33 - 9s - loss: 37494.5352 - val_loss: 24947.4082\n",
      "Epoch 21/50\n",
      "33/33 - 9s - loss: 41412.4648 - val_loss: 26308.7148\n",
      "Epoch 22/50\n",
      "33/33 - 9s - loss: 36783.2734 - val_loss: 22565.9082\n",
      "Epoch 23/50\n",
      "33/33 - 9s - loss: 35414.0781 - val_loss: 22196.3750\n",
      "Epoch 24/50\n",
      "33/33 - 9s - loss: 31103.7812 - val_loss: 23587.0508\n",
      "Epoch 25/50\n",
      "33/33 - 8s - loss: 31058.7129 - val_loss: 20804.4004\n",
      "Epoch 26/50\n",
      "33/33 - 9s - loss: 32783.1641 - val_loss: 19758.2734\n",
      "Epoch 27/50\n",
      "33/33 - 9s - loss: 27509.7930 - val_loss: 18348.4844\n",
      "Epoch 28/50\n",
      "33/33 - 9s - loss: 31775.2656 - val_loss: 18015.8672\n",
      "Epoch 29/50\n",
      "33/33 - 9s - loss: 31472.6426 - val_loss: 18093.5273\n",
      "Epoch 30/50\n",
      "33/33 - 9s - loss: 25686.3027 - val_loss: 17002.4609\n",
      "Epoch 31/50\n",
      "33/33 - 9s - loss: 26513.5586 - val_loss: 16744.1348\n",
      "Epoch 32/50\n",
      "33/33 - 8s - loss: 25893.1133 - val_loss: 17839.1484\n",
      "Epoch 33/50\n",
      "33/33 - 9s - loss: 29375.9570 - val_loss: 15879.1387\n",
      "Epoch 34/50\n",
      "33/33 - 9s - loss: 29775.4375 - val_loss: 15478.2812\n",
      "Epoch 35/50\n",
      "33/33 - 9s - loss: 31554.8555 - val_loss: 16517.3750\n",
      "Epoch 36/50\n",
      "33/33 - 9s - loss: 25943.9199 - val_loss: 15038.3193\n",
      "Epoch 37/50\n",
      "33/33 - 9s - loss: 23861.2227 - val_loss: 15129.9824\n",
      "Epoch 38/50\n",
      "33/33 - 8s - loss: 29088.3008 - val_loss: 15196.0000\n",
      "Epoch 39/50\n",
      "33/33 - 9s - loss: 25570.7148 - val_loss: 14209.2314\n",
      "Epoch 40/50\n",
      "33/33 - 9s - loss: 25078.5352 - val_loss: 13975.4453\n",
      "Epoch 41/50\n",
      "33/33 - 9s - loss: 22859.1465 - val_loss: 14490.6758\n",
      "Epoch 42/50\n",
      "33/33 - 9s - loss: 25604.9766 - val_loss: 14949.6270\n",
      "Epoch 43/50\n",
      "33/33 - 9s - loss: 27119.7773 - val_loss: 14034.2715\n",
      "Epoch 44/50\n",
      "33/33 - 8s - loss: 27038.9844 - val_loss: 14905.0195\n",
      "Epoch 45/50\n",
      "33/33 - 9s - loss: 22493.3086 - val_loss: 16343.6025\n",
      "Epoch 46/50\n",
      "33/33 - 9s - loss: 21946.6699 - val_loss: 13217.0742\n",
      "Epoch 47/50\n",
      "33/33 - 9s - loss: 27035.6719 - val_loss: 12968.6992\n",
      "Epoch 48/50\n",
      "33/33 - 8s - loss: 24379.7246 - val_loss: 12779.7227\n",
      "Epoch 49/50\n",
      "33/33 - 9s - loss: 23360.4688 - val_loss: 12653.5908\n",
      "Epoch 50/50\n",
      "33/33 - 9s - loss: 21958.2754 - val_loss: 12688.8770\n"
     ]
    }
   ],
   "source": [
    "prob_model.train(\n",
    "    train_structs,\n",
    "    train_targets,\n",
    "    epochs=50,\n",
    "    val_structs=val_structs,\n",
    "    val_targets=val_targets,\n",
    "    callbacks=[tb_callback_1],\n",
    ")\n",
    "prob_model.save()\n"
   ]
  },
  {
   "cell_type": "code",
   "execution_count": 10,
   "metadata": {},
   "outputs": [],
   "source": [
    "prob_model.set_frozen([\"GNN\", \"VGP\"], freeze=False)\n"
   ]
  },
  {
   "cell_type": "code",
   "execution_count": 11,
   "metadata": {
    "scrolled": true
   },
   "outputs": [
    {
     "name": "stdout",
     "output_type": "stream",
     "text": [
      "Epoch 1/50\n",
      "33/33 - 20s - loss: 63314.0469 - val_loss: 221106.9062\n",
      "Epoch 2/50\n",
      "33/33 - 9s - loss: 30254.3105 - val_loss: 51659.4648\n",
      "Epoch 3/50\n",
      "33/33 - 9s - loss: 23182.4062 - val_loss: 23414.0781\n",
      "Epoch 4/50\n",
      "33/33 - 9s - loss: 19415.3867 - val_loss: 12821.4141\n",
      "Epoch 5/50\n",
      "33/33 - 9s - loss: 16007.1553 - val_loss: 9837.3643\n",
      "Epoch 6/50\n",
      "33/33 - 9s - loss: 15056.1191 - val_loss: 11087.1143\n",
      "Epoch 7/50\n",
      "33/33 - 9s - loss: 12715.9199 - val_loss: 23158.5977\n",
      "Epoch 8/50\n",
      "33/33 - 9s - loss: 9836.6113 - val_loss: 13169.1006\n",
      "Epoch 9/50\n",
      "33/33 - 9s - loss: 9448.9180 - val_loss: 15868.6494\n",
      "Epoch 10/50\n",
      "33/33 - 9s - loss: 9751.2949 - val_loss: 11778.0898\n",
      "Epoch 11/50\n",
      "33/33 - 9s - loss: 10222.7979 - val_loss: 10327.6270\n",
      "Epoch 12/50\n",
      "33/33 - 9s - loss: 11687.4141 - val_loss: 7964.2944\n",
      "Epoch 13/50\n",
      "33/33 - 9s - loss: 7418.4922 - val_loss: 9480.5498\n",
      "Epoch 14/50\n",
      "33/33 - 9s - loss: 9931.1279 - val_loss: 10010.1680\n",
      "Epoch 15/50\n",
      "33/33 - 9s - loss: 8833.6992 - val_loss: 9882.1807\n",
      "Epoch 16/50\n",
      "33/33 - 9s - loss: 7542.1870 - val_loss: 7715.1572\n",
      "Epoch 17/50\n",
      "33/33 - 9s - loss: 7113.7847 - val_loss: 7643.0479\n",
      "Epoch 18/50\n",
      "33/33 - 9s - loss: 10152.2666 - val_loss: 10595.9219\n",
      "Epoch 19/50\n",
      "33/33 - 9s - loss: 9061.5049 - val_loss: 8018.1465\n",
      "Epoch 20/50\n",
      "33/33 - 9s - loss: 7634.4688 - val_loss: 9451.9922\n",
      "Epoch 21/50\n",
      "33/33 - 9s - loss: 6457.3438 - val_loss: 6477.7334\n",
      "Epoch 22/50\n",
      "33/33 - 9s - loss: 5813.7827 - val_loss: 8384.6670\n",
      "Epoch 23/50\n",
      "33/33 - 9s - loss: 7556.5991 - val_loss: 6777.5449\n",
      "Epoch 24/50\n",
      "33/33 - 9s - loss: 4819.8242 - val_loss: 5873.7559\n",
      "Epoch 25/50\n",
      "33/33 - 9s - loss: 6197.0308 - val_loss: 5877.6489\n",
      "Epoch 26/50\n",
      "33/33 - 9s - loss: 6633.1572 - val_loss: 6167.2290\n",
      "Epoch 27/50\n",
      "33/33 - 9s - loss: 8239.0156 - val_loss: 12223.6221\n",
      "Epoch 28/50\n",
      "33/33 - 9s - loss: 8879.5840 - val_loss: 7447.7837\n",
      "Epoch 29/50\n",
      "33/33 - 9s - loss: 7665.4971 - val_loss: 6733.3716\n",
      "Epoch 30/50\n",
      "33/33 - 9s - loss: 6408.9844 - val_loss: 6585.7285\n",
      "Epoch 31/50\n",
      "33/33 - 9s - loss: 6786.4917 - val_loss: 6791.7671\n",
      "Epoch 32/50\n",
      "33/33 - 9s - loss: 6363.2725 - val_loss: 7063.7852\n",
      "Epoch 33/50\n",
      "33/33 - 9s - loss: 6570.8105 - val_loss: 6591.4482\n",
      "Epoch 34/50\n",
      "33/33 - 9s - loss: 4845.7461 - val_loss: 5718.4844\n",
      "Epoch 35/50\n",
      "33/33 - 9s - loss: 6062.0659 - val_loss: 6956.9668\n",
      "Epoch 36/50\n",
      "33/33 - 9s - loss: 5552.3335 - val_loss: 6791.5845\n",
      "Epoch 37/50\n",
      "33/33 - 9s - loss: 4280.7739 - val_loss: 6110.9668\n",
      "Epoch 38/50\n",
      "33/33 - 9s - loss: 5346.6367 - val_loss: 5475.0693\n",
      "Epoch 39/50\n",
      "33/33 - 9s - loss: 4375.2441 - val_loss: 7514.9629\n",
      "Epoch 40/50\n",
      "33/33 - 9s - loss: 6001.1045 - val_loss: 6131.5625\n",
      "Epoch 41/50\n",
      "33/33 - 9s - loss: 4842.2778 - val_loss: 5534.3965\n",
      "Epoch 42/50\n",
      "33/33 - 9s - loss: 4273.0791 - val_loss: 8652.5020\n",
      "Epoch 43/50\n",
      "33/33 - 9s - loss: 8148.8711 - val_loss: 8690.8770\n",
      "Epoch 44/50\n",
      "33/33 - 9s - loss: 5047.6001 - val_loss: 7749.5088\n",
      "Epoch 45/50\n",
      "33/33 - 9s - loss: 4405.8037 - val_loss: 5354.4897\n",
      "Epoch 46/50\n",
      "33/33 - 9s - loss: 5620.7041 - val_loss: 6230.9937\n",
      "Epoch 47/50\n",
      "33/33 - 9s - loss: 6047.4297 - val_loss: 5757.9458\n",
      "Epoch 48/50\n",
      "33/33 - 9s - loss: 4267.5830 - val_loss: 5862.1763\n",
      "Epoch 49/50\n",
      "33/33 - 9s - loss: 4081.6538 - val_loss: 5157.4097\n",
      "Epoch 50/50\n",
      "33/33 - 9s - loss: 5148.0586 - val_loss: 6863.5488\n"
     ]
    }
   ],
   "source": [
    "prob_model.train(\n",
    "    train_structs,\n",
    "    train_targets,\n",
    "    epochs=50,\n",
    "    val_structs=val_structs,\n",
    "    val_targets=val_targets,\n",
    "    callbacks=[tb_callback_2],\n",
    ")\n",
    "prob_model.save()\n"
   ]
  },
  {
   "cell_type": "markdown",
   "metadata": {},
   "source": [
    "# Model evaluation\n",
    "\n",
    "Finally, we'll evaluate model metrics and make some sample predictions! Note that the predictions give predicted values and standard deviations. The standard deviations can then be converted to an uncertainty;\n",
    "in this example, we'll take the uncertainty as twice the standard deviation, which will give us the 95% confidence interval (see <https://en.wikipedia.org/wiki/68%E2%80%9395%E2%80%9399.7_rule>).\n"
   ]
  },
  {
   "cell_type": "code",
   "execution_count": 12,
   "metadata": {},
   "outputs": [],
   "source": [
    "example_structs = val_structs[:10].tolist()\n",
    "example_targets = val_targets[:10].tolist()\n",
    "\n",
    "predicted, stddevs = prob_model.predict(example_structs)\n",
    "uncerts = 2 * stddevs\n"
   ]
  },
  {
   "cell_type": "code",
   "execution_count": 13,
   "metadata": {},
   "outputs": [
    {
     "data": {
      "text/html": [
       "<div>\n",
       "<style scoped>\n",
       "    .dataframe tbody tr th:only-of-type {\n",
       "        vertical-align: middle;\n",
       "    }\n",
       "\n",
       "    .dataframe tbody tr th {\n",
       "        vertical-align: top;\n",
       "    }\n",
       "\n",
       "    .dataframe thead th {\n",
       "        text-align: right;\n",
       "    }\n",
       "</style>\n",
       "<table border=\"1\" class=\"dataframe\">\n",
       "  <thead>\n",
       "    <tr style=\"text-align: right;\">\n",
       "      <th></th>\n",
       "      <th>Composition</th>\n",
       "      <th>Formation energy per atom / eV</th>\n",
       "      <th>Predicted / eV</th>\n",
       "    </tr>\n",
       "  </thead>\n",
       "  <tbody>\n",
       "    <tr>\n",
       "      <th>0</th>\n",
       "      <td>Zr2Cu</td>\n",
       "      <td>-0.132384</td>\n",
       "      <td>-0.16 ± 0.04</td>\n",
       "    </tr>\n",
       "    <tr>\n",
       "      <th>1</th>\n",
       "      <td>NbRh</td>\n",
       "      <td>-0.401313</td>\n",
       "      <td>-0.47 ± 0.05</td>\n",
       "    </tr>\n",
       "    <tr>\n",
       "      <th>2</th>\n",
       "      <td>Cu3Ge</td>\n",
       "      <td>-0.005707</td>\n",
       "      <td>-0.08 ± 0.05</td>\n",
       "    </tr>\n",
       "    <tr>\n",
       "      <th>3</th>\n",
       "      <td>Pr3In</td>\n",
       "      <td>-0.273232</td>\n",
       "      <td>-0.36 ± 0.04</td>\n",
       "    </tr>\n",
       "    <tr>\n",
       "      <th>4</th>\n",
       "      <td>InS</td>\n",
       "      <td>-0.742895</td>\n",
       "      <td>-0.91 ± 0.04</td>\n",
       "    </tr>\n",
       "    <tr>\n",
       "      <th>5</th>\n",
       "      <td>TmPb3</td>\n",
       "      <td>-0.215892</td>\n",
       "      <td>-0.25 ± 0.03</td>\n",
       "    </tr>\n",
       "    <tr>\n",
       "      <th>6</th>\n",
       "      <td>InNi</td>\n",
       "      <td>-0.174754</td>\n",
       "      <td>-0.26 ± 0.04</td>\n",
       "    </tr>\n",
       "    <tr>\n",
       "      <th>7</th>\n",
       "      <td>GdGe</td>\n",
       "      <td>-0.857117</td>\n",
       "      <td>-0.88 ± 0.08</td>\n",
       "    </tr>\n",
       "    <tr>\n",
       "      <th>8</th>\n",
       "      <td>GdTl</td>\n",
       "      <td>-0.380423</td>\n",
       "      <td>-0.47 ± 0.04</td>\n",
       "    </tr>\n",
       "    <tr>\n",
       "      <th>9</th>\n",
       "      <td>HoTl3</td>\n",
       "      <td>-0.215986</td>\n",
       "      <td>-0.26 ± 0.04</td>\n",
       "    </tr>\n",
       "  </tbody>\n",
       "</table>\n",
       "</div>"
      ],
      "text/plain": [
       "  Composition  Formation energy per atom / eV Predicted / eV\n",
       "0       Zr2Cu                       -0.132384   -0.16 ± 0.04\n",
       "1        NbRh                       -0.401313   -0.47 ± 0.05\n",
       "2       Cu3Ge                       -0.005707   -0.08 ± 0.05\n",
       "3       Pr3In                       -0.273232   -0.36 ± 0.04\n",
       "4         InS                       -0.742895   -0.91 ± 0.04\n",
       "5       TmPb3                       -0.215892   -0.25 ± 0.03\n",
       "6        InNi                       -0.174754   -0.26 ± 0.04\n",
       "7        GdGe                       -0.857117   -0.88 ± 0.08\n",
       "8        GdTl                       -0.380423   -0.47 ± 0.04\n",
       "9       HoTl3                       -0.215986   -0.26 ± 0.04"
      ]
     },
     "execution_count": 13,
     "metadata": {},
     "output_type": "execute_result"
    }
   ],
   "source": [
    "pd.DataFrame(\n",
    "    {\n",
    "        \"Composition\": [struct.composition.reduced_formula for struct in example_structs],\n",
    "        \"Formation energy per atom / eV\": example_targets,\n",
    "        \"Predicted / eV\": [\n",
    "            f\"{pred:.2f} ± {uncert:.2f}\" for pred, uncert in zip(predicted, uncerts)\n",
    "        ],\n",
    "    }\n",
    ")\n"
   ]
  },
  {
   "cell_type": "code",
   "execution_count": 14,
   "metadata": {},
   "outputs": [
    {
     "name": "stderr",
     "output_type": "stream",
     "text": [
      "/home/awsm/anaconda3/envs/unlockGNN/lib/python3.8/site-packages/tensorflow_probability/python/distributions/gaussian_process.py:363: UserWarning: Unable to detect statically whether the number of index_points is 1. As a result, defaulting to treating the marginal GP at `index_points` as a multivariate Gaussian. This makes some methods, like `cdf` unavailable.\n",
      "  warnings.warn(\n"
     ]
    },
    {
     "name": "stdout",
     "output_type": "stream",
     "text": [
      "val_metrics={'nll': 3837.821282918251, 'sharpness': 0.029964437195619257, 'variation': 0.4809019003733541, 'mae': 0.06154699488300184, 'mse': 0.00690016962570721, 'rmse': 0.08306725964967913}\n",
      "train_metrics={'nll': -2010.5427565007687, 'sharpness': 0.030200000085766555, 'variation': 0.46698754909699147, 'mae': 0.04274989286400665, 'mse': 0.0024746102763464678, 'rmse': 0.04974545483103424}\n"
     ]
    }
   ],
   "source": [
    "val_metrics = evaluate_uq_metrics(prob_model, val_structs, val_targets)\n",
    "train_metrics = evaluate_uq_metrics(prob_model, train_structs, train_targets)\n",
    "\n",
    "print(f\"{val_metrics=}\")\n",
    "print(f\"{train_metrics=}\")\n"
   ]
  }
 ],
 "metadata": {
  "interpreter": {
   "hash": "89b7f93fe079f836b09e45c7f268da6ce6b6a37c7513991ddecdb911874680b7"
  },
  "kernelspec": {
   "display_name": "Python 3",
   "language": "python",
   "name": "python3"
  },
  "language_info": {
   "codemirror_mode": {
    "name": "ipython",
    "version": 3
   },
   "file_extension": ".py",
   "mimetype": "text/x-python",
   "name": "python",
   "nbconvert_exporter": "python",
   "pygments_lexer": "ipython3",
   "version": "3.8.10"
  }
 },
 "nbformat": 4,
 "nbformat_minor": 2
}
