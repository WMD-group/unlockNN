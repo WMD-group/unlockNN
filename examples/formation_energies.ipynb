{
 "cells": [
  {
   "cell_type": "markdown",
   "metadata": {},
   "source": [
    "# Binary compound formation energy prediction example\n",
    "\n",
    "This notebook demonstrates how to create a probabilistic model for predicting\n",
    "formation energies of binary compounds with a quantified uncertainty.\n"
   ]
  },
  {
   "cell_type": "code",
   "execution_count": 1,
   "metadata": {},
   "outputs": [],
   "source": [
    "import shutil\n",
    "from pathlib import Path\n",
    "from pprint import pprint\n",
    "\n",
    "import pandas as pd\n",
    "from megnet.models import MEGNetModel\n",
    "from pymatgen.ext.matproj import MPRester\n",
    "from tensorflow.keras.callbacks import TensorBoard\n",
    "from unlockgnn.download import load_data\n",
    "from unlockgnn.model import MEGNetProbModel\n",
    "from unlockgnn.metrics import evaluate_uq_metrics\n"
   ]
  },
  {
   "cell_type": "code",
   "execution_count": 2,
   "metadata": {},
   "outputs": [],
   "source": [
    "THIS_DIR = Path(\".\").parent\n",
    "CONFIG_FILE = THIS_DIR / \".config\"\n",
    "\n",
    "MODEL_SAVE_DIR: Path = THIS_DIR / \"binary_e_form_model\"\n",
    "LOG_DIR = THIS_DIR / \"logs\"\n",
    "BATCH_SIZE: int = 128\n",
    "NUM_INDUCING_POINTS: int = 500\n",
    "OVERWRITE: bool = True\n",
    "TRAINING_RATIO: float = 0.8\n",
    "\n",
    "if OVERWRITE:\n",
    "    for directory in [MODEL_SAVE_DIR, LOG_DIR]:\n",
    "        if directory.exists():\n",
    "            shutil.rmtree(directory)\n"
   ]
  },
  {
   "cell_type": "markdown",
   "metadata": {},
   "source": [
    "# Data gathering\n",
    "\n",
    "Here we download binary compounds that lie on the convex hull from the Materials\n",
    "Project, then split them into training and validation subsets.\n"
   ]
  },
  {
   "cell_type": "code",
   "execution_count": 3,
   "metadata": {},
   "outputs": [
    {
     "data": {
      "text/html": [
       "<div>\n",
       "<style scoped>\n",
       "    .dataframe tbody tr th:only-of-type {\n",
       "        vertical-align: middle;\n",
       "    }\n",
       "\n",
       "    .dataframe tbody tr th {\n",
       "        vertical-align: top;\n",
       "    }\n",
       "\n",
       "    .dataframe thead th {\n",
       "        text-align: right;\n",
       "    }\n",
       "</style>\n",
       "<table border=\"1\" class=\"dataframe\">\n",
       "  <thead>\n",
       "    <tr style=\"text-align: right;\">\n",
       "      <th></th>\n",
       "      <th>structure</th>\n",
       "      <th>formation_energy_per_atom</th>\n",
       "    </tr>\n",
       "  </thead>\n",
       "  <tbody>\n",
       "    <tr>\n",
       "      <th>0</th>\n",
       "      <td>[[ 1.982598   -4.08421341  3.2051745 ] La, [1....</td>\n",
       "      <td>-0.737439</td>\n",
       "    </tr>\n",
       "    <tr>\n",
       "      <th>1</th>\n",
       "      <td>[[0. 0. 0.] Fe, [1.880473 1.880473 1.880473] H]</td>\n",
       "      <td>-0.068482</td>\n",
       "    </tr>\n",
       "    <tr>\n",
       "      <th>2</th>\n",
       "      <td>[[1.572998 0.       0.      ] Ta, [0.         ...</td>\n",
       "      <td>-0.773151</td>\n",
       "    </tr>\n",
       "    <tr>\n",
       "      <th>3</th>\n",
       "      <td>[[0.         0.         7.42288687] Hf, [0.   ...</td>\n",
       "      <td>-0.177707</td>\n",
       "    </tr>\n",
       "    <tr>\n",
       "      <th>4</th>\n",
       "      <td>[[ 1.823716   -3.94193291  3.47897025] Tm, [1....</td>\n",
       "      <td>-0.905038</td>\n",
       "    </tr>\n",
       "  </tbody>\n",
       "</table>\n",
       "</div>"
      ],
      "text/plain": [
       "                                           structure  \\\n",
       "0  [[ 1.982598   -4.08421341  3.2051745 ] La, [1....   \n",
       "1    [[0. 0. 0.] Fe, [1.880473 1.880473 1.880473] H]   \n",
       "2  [[1.572998 0.       0.      ] Ta, [0.         ...   \n",
       "3  [[0.         0.         7.42288687] Hf, [0.   ...   \n",
       "4  [[ 1.823716   -3.94193291  3.47897025] Tm, [1....   \n",
       "\n",
       "   formation_energy_per_atom  \n",
       "0                  -0.737439  \n",
       "1                  -0.068482  \n",
       "2                  -0.773151  \n",
       "3                  -0.177707  \n",
       "4                  -0.905038  "
      ]
     },
     "execution_count": 3,
     "metadata": {},
     "output_type": "execute_result"
    }
   ],
   "source": [
    "full_df = load_data(\"binary_e_form\")\n",
    "full_df.head()"
   ]
  },
  {
   "cell_type": "code",
   "execution_count": 4,
   "metadata": {},
   "outputs": [
    {
     "name": "stdout",
     "output_type": "stream",
     "text": [
      "4217 training samples, 1055 validation samples.\n"
     ]
    }
   ],
   "source": [
    "num_training = int(TRAINING_RATIO * len(full_df.index))\n",
    "train_df = full_df[:num_training]\n",
    "val_df = full_df[num_training:]\n",
    "\n",
    "print(f\"{num_training} training samples, {len(val_df.index)} validation samples.\")\n",
    "\n",
    "train_structs = train_df[\"structure\"]\n",
    "val_structs = val_df[\"structure\"]\n",
    "\n",
    "train_targets = train_df[\"formation_energy_per_atom\"]\n",
    "val_targets = val_df[\"formation_energy_per_atom\"]\n"
   ]
  },
  {
   "cell_type": "markdown",
   "metadata": {},
   "source": [
    "# Model creation\n",
    "\n",
    "Now we load the `MEGNet` 2019 formation energies model, then convert this to a\n",
    "probabilistic model.\n"
   ]
  },
  {
   "cell_type": "code",
   "execution_count": 5,
   "metadata": {
    "scrolled": true
   },
   "outputs": [
    {
     "name": "stderr",
     "output_type": "stream",
     "text": [
      "INFO:megnet.utils.models:Package-level mvl_models not included, trying temperary mvl_models downloads..\n",
      "INFO:megnet.utils.models:Model found in local mvl_models path\n"
     ]
    },
    {
     "name": "stdout",
     "output_type": "stream",
     "text": [
      "WARNING:tensorflow:From /home/awsm/anaconda3/envs/unlockGNN/lib/python3.8/site-packages/tensorflow/python/ops/array_ops.py:5043: calling gather (from tensorflow.python.ops.array_ops) with validate_indices is deprecated and will be removed in a future version.\n",
      "Instructions for updating:\n",
      "The `validate_indices` argument has no effect. Indices are always validated on CPU and never validated on GPU.\n"
     ]
    },
    {
     "name": "stderr",
     "output_type": "stream",
     "text": [
      "WARNING:tensorflow:From /home/awsm/anaconda3/envs/unlockGNN/lib/python3.8/site-packages/tensorflow/python/ops/array_ops.py:5043: calling gather (from tensorflow.python.ops.array_ops) with validate_indices is deprecated and will be removed in a future version.\n",
      "Instructions for updating:\n",
      "The `validate_indices` argument has no effect. Indices are always validated on CPU and never validated on GPU.\n"
     ]
    }
   ],
   "source": [
    "meg_model = MEGNetModel.from_mvl_models(\"Eform_MP_2019\")\n"
   ]
  },
  {
   "cell_type": "code",
   "execution_count": 6,
   "metadata": {
    "scrolled": true
   },
   "outputs": [
    {
     "name": "stdout",
     "output_type": "stream",
     "text": [
      "WARNING:tensorflow:From /home/awsm/anaconda3/envs/unlockGNN/lib/python3.8/site-packages/tensorflow_probability/python/distributions/distribution.py:346: calling GaussianProcess.__init__ (from tensorflow_probability.python.distributions.gaussian_process) with jitter is deprecated and will be removed after 2021-05-10.\n",
      "Instructions for updating:\n",
      "`jitter` is deprecated; please use `marginal_fn` directly.\n"
     ]
    },
    {
     "name": "stderr",
     "output_type": "stream",
     "text": [
      "WARNING:tensorflow:From /home/awsm/anaconda3/envs/unlockGNN/lib/python3.8/site-packages/tensorflow_probability/python/distributions/distribution.py:346: calling GaussianProcess.__init__ (from tensorflow_probability.python.distributions.gaussian_process) with jitter is deprecated and will be removed after 2021-05-10.\n",
      "Instructions for updating:\n",
      "`jitter` is deprecated; please use `marginal_fn` directly.\n",
      "/home/awsm/anaconda3/envs/unlockGNN/lib/python3.8/site-packages/tensorflow_probability/python/distributions/gaussian_process.py:363: UserWarning: Unable to detect statically whether the number of index_points is 1. As a result, defaulting to treating the marginal GP at `index_points` as a multivariate Gaussian. This makes some methods, like `cdf` unavailable.\n",
      "  warnings.warn(\n"
     ]
    }
   ],
   "source": [
    "kl_weight = BATCH_SIZE / num_training\n",
    "\n",
    "prob_model = MEGNetProbModel(\n",
    "    meg_model=meg_model,\n",
    "    num_inducing_points=NUM_INDUCING_POINTS,\n",
    "    kl_weight=kl_weight,\n",
    ")\n"
   ]
  },
  {
   "cell_type": "markdown",
   "metadata": {},
   "source": [
    "# Train the uncertainty quantifier\n",
    "\n",
    "Now we train the model. By default, the `MEGNet` (GNN) layers of the model are\n",
    "frozen after initialization. Therefore, when we call `prob_model.train()`, the\n",
    "only layers that are optimized are the `VariationalGaussianProcess` (VGP) and the\n",
    "`BatchNormalization` layer (`Norm`) that feeds into it.\n",
    "\n",
    "After this initial training, we unfreeze _all_ the layers and train the full model simulateously.\n"
   ]
  },
  {
   "cell_type": "code",
   "execution_count": 7,
   "metadata": {},
   "outputs": [],
   "source": [
    "tb_callback_1 = TensorBoard(log_dir=LOG_DIR / \"vgp_training\", write_graph=False)\n",
    "tb_callback_2 = TensorBoard(log_dir=LOG_DIR / \"fine_tuning\", write_graph=False)\n"
   ]
  },
  {
   "cell_type": "code",
   "execution_count": 8,
   "metadata": {},
   "outputs": [
    {
     "data": {
      "text/html": [
       "\n",
       "      <iframe id=\"tensorboard-frame-f0915bce66588fe\" width=\"100%\" height=\"800\" frameborder=\"0\">\n",
       "      </iframe>\n",
       "      <script>\n",
       "        (function() {\n",
       "          const frame = document.getElementById(\"tensorboard-frame-f0915bce66588fe\");\n",
       "          const url = new URL(\"/\", window.location);\n",
       "          const port = 6006;\n",
       "          if (port) {\n",
       "            url.port = port;\n",
       "          }\n",
       "          frame.src = url;\n",
       "        })();\n",
       "      </script>\n",
       "    "
      ],
      "text/plain": [
       "<IPython.core.display.HTML object>"
      ]
     },
     "metadata": {},
     "output_type": "display_data"
    }
   ],
   "source": [
    "%load_ext tensorboard\n",
    "%tensorboard --logdir logs"
   ]
  },
  {
   "cell_type": "code",
   "execution_count": 9,
   "metadata": {},
   "outputs": [
    {
     "name": "stdout",
     "output_type": "stream",
     "text": [
      "Epoch 1/50\n"
     ]
    },
    {
     "name": "stderr",
     "output_type": "stream",
     "text": [
      "/home/awsm/anaconda3/envs/unlockGNN/lib/python3.8/site-packages/tensorflow_probability/python/distributions/gaussian_process.py:363: UserWarning: Unable to detect statically whether the number of index_points is 1. As a result, defaulting to treating the marginal GP at `index_points` as a multivariate Gaussian. This makes some methods, like `cdf` unavailable.\n",
      "  warnings.warn(\n",
      "/home/awsm/anaconda3/envs/unlockGNN/lib/python3.8/site-packages/tensorflow/python/framework/indexed_slices.py:447: UserWarning: Converting sparse IndexedSlices(IndexedSlices(indices=Tensor(\"gradient_tape/model/set2_set_1/Reshape_9:0\", shape=(None,), dtype=int32), values=Tensor(\"gradient_tape/model/set2_set_1/Reshape_8:0\", shape=(None,), dtype=float32), dense_shape=Tensor(\"gradient_tape/model/set2_set_1/Cast:0\", shape=(1,), dtype=int32))) to a dense Tensor of unknown shape. This may consume a large amount of memory.\n",
      "  warnings.warn(\n",
      "/home/awsm/anaconda3/envs/unlockGNN/lib/python3.8/site-packages/tensorflow/python/framework/indexed_slices.py:447: UserWarning: Converting sparse IndexedSlices(IndexedSlices(indices=Tensor(\"gradient_tape/model/set2_set_2/Reshape_9:0\", shape=(None,), dtype=int32), values=Tensor(\"gradient_tape/model/set2_set_2/Reshape_8:0\", shape=(None,), dtype=float32), dense_shape=Tensor(\"gradient_tape/model/set2_set_2/Cast:0\", shape=(1,), dtype=int32))) to a dense Tensor of unknown shape. This may consume a large amount of memory.\n",
      "  warnings.warn(\n",
      "/home/awsm/anaconda3/envs/unlockGNN/lib/python3.8/site-packages/tensorflow/python/framework/indexed_slices.py:447: UserWarning: Converting sparse IndexedSlices(IndexedSlices(indices=Tensor(\"gradient_tape/model/set2_set_1/Reshape_27:0\", shape=(None,), dtype=int32), values=Tensor(\"gradient_tape/model/set2_set_1/Reshape_26:0\", shape=(None,), dtype=float32), dense_shape=Tensor(\"gradient_tape/model/set2_set_1/Cast_2:0\", shape=(1,), dtype=int32))) to a dense Tensor of unknown shape. This may consume a large amount of memory.\n",
      "  warnings.warn(\n",
      "/home/awsm/anaconda3/envs/unlockGNN/lib/python3.8/site-packages/tensorflow/python/framework/indexed_slices.py:447: UserWarning: Converting sparse IndexedSlices(IndexedSlices(indices=Tensor(\"gradient_tape/model/set2_set_2/Reshape_27:0\", shape=(None,), dtype=int32), values=Tensor(\"gradient_tape/model/set2_set_2/Reshape_26:0\", shape=(None,), dtype=float32), dense_shape=Tensor(\"gradient_tape/model/set2_set_2/Cast_2:0\", shape=(1,), dtype=int32))) to a dense Tensor of unknown shape. This may consume a large amount of memory.\n",
      "  warnings.warn(\n"
     ]
    },
    {
     "name": "stdout",
     "output_type": "stream",
     "text": [
      "33/33 - 21s - loss: 2043370.6250 - val_loss: 1889545.3750\n",
      "Epoch 2/50\n",
      "33/33 - 9s - loss: 1891937.8750 - val_loss: 1724109.3750\n",
      "Epoch 3/50\n",
      "33/33 - 9s - loss: 1623211.0000 - val_loss: 1369590.3750\n",
      "Epoch 4/50\n",
      "33/33 - 9s - loss: 1263507.3750 - val_loss: 980873.8750\n",
      "Epoch 5/50\n",
      "33/33 - 9s - loss: 910178.8125 - val_loss: 641627.2500\n",
      "Epoch 6/50\n",
      "33/33 - 9s - loss: 597134.5625 - val_loss: 359959.3750\n",
      "Epoch 7/50\n",
      "33/33 - 9s - loss: 342737.5000 - val_loss: 171222.0312\n",
      "Epoch 8/50\n",
      "33/33 - 9s - loss: 207822.9062 - val_loss: 104365.7812\n",
      "Epoch 9/50\n",
      "33/33 - 9s - loss: 150359.3438 - val_loss: 80415.6016\n",
      "Epoch 10/50\n",
      "33/33 - 9s - loss: 125844.5938 - val_loss: 67596.2812\n",
      "Epoch 11/50\n",
      "33/33 - 9s - loss: 104631.8047 - val_loss: 61675.3828\n",
      "Epoch 12/50\n",
      "33/33 - 9s - loss: 92663.6562 - val_loss: 51817.0273\n",
      "Epoch 13/50\n",
      "33/33 - 9s - loss: 76480.6797 - val_loss: 45383.0703\n",
      "Epoch 14/50\n",
      "33/33 - 8s - loss: 65874.5469 - val_loss: 41886.4219\n",
      "Epoch 15/50\n",
      "33/33 - 9s - loss: 55451.9219 - val_loss: 36796.4844\n",
      "Epoch 16/50\n",
      "33/33 - 9s - loss: 53934.9766 - val_loss: 37475.0195\n",
      "Epoch 17/50\n",
      "33/33 - 9s - loss: 45336.4570 - val_loss: 31108.5137\n",
      "Epoch 18/50\n",
      "33/33 - 9s - loss: 42803.6797 - val_loss: 28468.3730\n",
      "Epoch 19/50\n",
      "33/33 - 9s - loss: 42989.6562 - val_loss: 27104.3320\n",
      "Epoch 20/50\n",
      "33/33 - 9s - loss: 39476.0664 - val_loss: 25120.7500\n",
      "Epoch 21/50\n",
      "33/33 - 9s - loss: 41914.9258 - val_loss: 24304.0332\n",
      "Epoch 22/50\n",
      "33/33 - 9s - loss: 38217.5664 - val_loss: 24384.3359\n",
      "Epoch 23/50\n",
      "33/33 - 9s - loss: 35770.9258 - val_loss: 23312.9648\n",
      "Epoch 24/50\n",
      "33/33 - 9s - loss: 32809.7969 - val_loss: 21967.1426\n",
      "Epoch 25/50\n",
      "33/33 - 9s - loss: 34590.1328 - val_loss: 20093.2285\n",
      "Epoch 26/50\n",
      "33/33 - 9s - loss: 30353.3398 - val_loss: 20724.4844\n",
      "Epoch 27/50\n",
      "33/33 - 9s - loss: 29468.8711 - val_loss: 19241.1289\n",
      "Epoch 28/50\n",
      "33/33 - 9s - loss: 29793.5977 - val_loss: 18043.2891\n",
      "Epoch 29/50\n",
      "33/33 - 9s - loss: 31258.3359 - val_loss: 17653.0820\n",
      "Epoch 30/50\n",
      "33/33 - 9s - loss: 27395.7539 - val_loss: 17849.8398\n",
      "Epoch 31/50\n",
      "33/33 - 9s - loss: 30601.3203 - val_loss: 16654.9824\n",
      "Epoch 32/50\n",
      "33/33 - 9s - loss: 30751.7070 - val_loss: 17412.5645\n",
      "Epoch 33/50\n",
      "33/33 - 9s - loss: 35203.1914 - val_loss: 17535.9941\n",
      "Epoch 34/50\n",
      "33/33 - 9s - loss: 28435.4590 - val_loss: 17712.8672\n",
      "Epoch 35/50\n",
      "33/33 - 9s - loss: 25367.5488 - val_loss: 15613.2725\n",
      "Epoch 36/50\n",
      "33/33 - 9s - loss: 30034.2246 - val_loss: 17702.5859\n",
      "Epoch 37/50\n",
      "33/33 - 9s - loss: 28691.0527 - val_loss: 14496.3438\n",
      "Epoch 38/50\n",
      "33/33 - 8s - loss: 26954.7734 - val_loss: 16836.4199\n",
      "Epoch 39/50\n",
      "33/33 - 9s - loss: 26339.7363 - val_loss: 14399.8555\n",
      "Epoch 40/50\n",
      "33/33 - 9s - loss: 29548.0117 - val_loss: 13829.7412\n",
      "Epoch 41/50\n",
      "33/33 - 8s - loss: 19244.0352 - val_loss: 13955.7568\n",
      "Epoch 42/50\n",
      "33/33 - 9s - loss: 23536.1289 - val_loss: 14115.9697\n",
      "Epoch 43/50\n",
      "33/33 - 9s - loss: 26254.9668 - val_loss: 14225.9609\n",
      "Epoch 44/50\n",
      "33/33 - 8s - loss: 25251.3652 - val_loss: 13861.5762\n",
      "Epoch 45/50\n",
      "33/33 - 8s - loss: 28231.9941 - val_loss: 13044.9268\n",
      "Epoch 46/50\n",
      "33/33 - 8s - loss: 20695.1348 - val_loss: 12908.7334\n",
      "Epoch 47/50\n",
      "33/33 - 9s - loss: 21752.4609 - val_loss: 13228.4570\n",
      "Epoch 48/50\n",
      "33/33 - 9s - loss: 22633.4023 - val_loss: 12640.8857\n",
      "Epoch 49/50\n",
      "33/33 - 9s - loss: 24698.1523 - val_loss: 13653.1387\n",
      "Epoch 50/50\n",
      "33/33 - 8s - loss: 28921.2070 - val_loss: 13278.8604\n",
      "INFO:tensorflow:Assets written to: binary_e_form_model/megnet/assets\n"
     ]
    },
    {
     "name": "stderr",
     "output_type": "stream",
     "text": [
      "/home/awsm/anaconda3/envs/unlockGNN/lib/python3.8/site-packages/tensorflow/python/keras/utils/generic_utils.py:494: CustomMaskWarning: Custom mask layers require a config and must override get_config. When loading, the custom mask layer must be passed to the custom_objects argument.\n",
      "  warnings.warn('Custom mask layers require a config and must override '\n",
      "INFO:tensorflow:Assets written to: binary_e_form_model/megnet/assets\n"
     ]
    },
    {
     "name": "stdout",
     "output_type": "stream",
     "text": [
      "INFO:tensorflow:Assets written to: binary_e_form_model/gnn/assets\n"
     ]
    },
    {
     "name": "stderr",
     "output_type": "stream",
     "text": [
      "/home/awsm/anaconda3/envs/unlockGNN/lib/python3.8/site-packages/tensorflow/python/keras/utils/generic_utils.py:494: CustomMaskWarning: Custom mask layers require a config and must override get_config. When loading, the custom mask layer must be passed to the custom_objects argument.\n",
      "  warnings.warn('Custom mask layers require a config and must override '\n",
      "INFO:tensorflow:Assets written to: binary_e_form_model/gnn/assets\n"
     ]
    }
   ],
   "source": [
    "prob_model.train(\n",
    "    train_structs,\n",
    "    train_targets,\n",
    "    epochs=50,\n",
    "    val_structs=val_structs,\n",
    "    val_targets=val_targets,\n",
    "    callbacks=[tb_callback_1],\n",
    ")\n",
    "prob_model.save(MODEL_SAVE_DIR)\n"
   ]
  },
  {
   "cell_type": "code",
   "execution_count": 10,
   "metadata": {},
   "outputs": [],
   "source": [
    "prob_model.set_frozen([\"GNN\", \"VGP\"], freeze=False)\n"
   ]
  },
  {
   "cell_type": "code",
   "execution_count": 11,
   "metadata": {
    "scrolled": true
   },
   "outputs": [
    {
     "name": "stdout",
     "output_type": "stream",
     "text": [
      "Epoch 1/50\n"
     ]
    },
    {
     "name": "stderr",
     "output_type": "stream",
     "text": [
      "/home/awsm/anaconda3/envs/unlockGNN/lib/python3.8/site-packages/tensorflow_probability/python/distributions/gaussian_process.py:363: UserWarning: Unable to detect statically whether the number of index_points is 1. As a result, defaulting to treating the marginal GP at `index_points` as a multivariate Gaussian. This makes some methods, like `cdf` unavailable.\n",
      "  warnings.warn(\n",
      "/home/awsm/anaconda3/envs/unlockGNN/lib/python3.8/site-packages/tensorflow/python/framework/indexed_slices.py:447: UserWarning: Converting sparse IndexedSlices(IndexedSlices(indices=Tensor(\"gradient_tape/model/set2_set_1/Reshape_9:0\", shape=(None,), dtype=int32), values=Tensor(\"gradient_tape/model/set2_set_1/Reshape_8:0\", shape=(None,), dtype=float32), dense_shape=Tensor(\"gradient_tape/model/set2_set_1/Cast:0\", shape=(1,), dtype=int32))) to a dense Tensor of unknown shape. This may consume a large amount of memory.\n",
      "  warnings.warn(\n",
      "/home/awsm/anaconda3/envs/unlockGNN/lib/python3.8/site-packages/tensorflow/python/framework/indexed_slices.py:447: UserWarning: Converting sparse IndexedSlices(IndexedSlices(indices=Tensor(\"gradient_tape/model/set2_set_2/Reshape_9:0\", shape=(None,), dtype=int32), values=Tensor(\"gradient_tape/model/set2_set_2/Reshape_8:0\", shape=(None,), dtype=float32), dense_shape=Tensor(\"gradient_tape/model/set2_set_2/Cast:0\", shape=(1,), dtype=int32))) to a dense Tensor of unknown shape. This may consume a large amount of memory.\n",
      "  warnings.warn(\n",
      "/home/awsm/anaconda3/envs/unlockGNN/lib/python3.8/site-packages/tensorflow/python/framework/indexed_slices.py:447: UserWarning: Converting sparse IndexedSlices(IndexedSlices(indices=Tensor(\"gradient_tape/model/set2_set_1/Reshape_27:0\", shape=(None,), dtype=int32), values=Tensor(\"gradient_tape/model/set2_set_1/Reshape_26:0\", shape=(None,), dtype=float32), dense_shape=Tensor(\"gradient_tape/model/set2_set_1/Cast_2:0\", shape=(1,), dtype=int32))) to a dense Tensor of unknown shape. This may consume a large amount of memory.\n",
      "  warnings.warn(\n",
      "/home/awsm/anaconda3/envs/unlockGNN/lib/python3.8/site-packages/tensorflow/python/framework/indexed_slices.py:447: UserWarning: Converting sparse IndexedSlices(IndexedSlices(indices=Tensor(\"gradient_tape/model/set2_set_2/Reshape_27:0\", shape=(None,), dtype=int32), values=Tensor(\"gradient_tape/model/set2_set_2/Reshape_26:0\", shape=(None,), dtype=float32), dense_shape=Tensor(\"gradient_tape/model/set2_set_2/Cast_2:0\", shape=(1,), dtype=int32))) to a dense Tensor of unknown shape. This may consume a large amount of memory.\n",
      "  warnings.warn(\n"
     ]
    },
    {
     "name": "stdout",
     "output_type": "stream",
     "text": [
      "33/33 - 21s - loss: 53061.4062 - val_loss: 481662.5625\n",
      "Epoch 2/50\n",
      "33/33 - 9s - loss: 33067.5000 - val_loss: 65340.0273\n",
      "Epoch 3/50\n",
      "33/33 - 9s - loss: 25956.3125 - val_loss: 29207.7422\n",
      "Epoch 4/50\n",
      "33/33 - 9s - loss: 21629.7422 - val_loss: 15283.6445\n",
      "Epoch 5/50\n",
      "33/33 - 9s - loss: 14493.3877 - val_loss: 11428.2402\n",
      "Epoch 6/50\n",
      "33/33 - 9s - loss: 15374.6836 - val_loss: 12495.3408\n",
      "Epoch 7/50\n",
      "33/33 - 9s - loss: 17335.4980 - val_loss: 11754.5166\n",
      "Epoch 8/50\n",
      "33/33 - 9s - loss: 12458.4238 - val_loss: 10183.0635\n",
      "Epoch 9/50\n",
      "33/33 - 9s - loss: 12680.4619 - val_loss: 10713.4814\n",
      "Epoch 10/50\n",
      "33/33 - 9s - loss: 16434.4258 - val_loss: 12243.9531\n",
      "Epoch 11/50\n",
      "33/33 - 9s - loss: 12405.5117 - val_loss: 8716.2539\n",
      "Epoch 12/50\n",
      "33/33 - 9s - loss: 15193.8047 - val_loss: 8424.6230\n",
      "Epoch 13/50\n",
      "33/33 - 9s - loss: 12915.4229 - val_loss: 9271.1270\n",
      "Epoch 14/50\n",
      "33/33 - 9s - loss: 10881.9014 - val_loss: 10849.7568\n",
      "Epoch 15/50\n",
      "33/33 - 9s - loss: 6977.2739 - val_loss: 10196.3164\n",
      "Epoch 16/50\n",
      "33/33 - 9s - loss: 9455.2100 - val_loss: 6783.7397\n",
      "Epoch 17/50\n",
      "33/33 - 9s - loss: 9890.9941 - val_loss: 7553.8560\n",
      "Epoch 18/50\n",
      "33/33 - 9s - loss: 8620.9473 - val_loss: 7186.1650\n",
      "Epoch 19/50\n",
      "33/33 - 9s - loss: 8115.1987 - val_loss: 6328.9355\n",
      "Epoch 20/50\n",
      "33/33 - 9s - loss: 8168.4922 - val_loss: 7513.2988\n",
      "Epoch 21/50\n",
      "33/33 - 9s - loss: 9358.1416 - val_loss: 8850.8340\n",
      "Epoch 22/50\n",
      "33/33 - 9s - loss: 7584.9316 - val_loss: 13236.7930\n",
      "Epoch 23/50\n",
      "33/33 - 9s - loss: 8748.2705 - val_loss: 7049.1743\n",
      "Epoch 24/50\n",
      "33/33 - 9s - loss: 6953.7827 - val_loss: 6781.3804\n",
      "Epoch 25/50\n",
      "33/33 - 9s - loss: 6817.6138 - val_loss: 7853.1807\n",
      "Epoch 26/50\n",
      "33/33 - 9s - loss: 6293.2134 - val_loss: 6381.6875\n",
      "Epoch 27/50\n",
      "33/33 - 9s - loss: 6176.2617 - val_loss: 10936.0654\n",
      "Epoch 28/50\n",
      "33/33 - 9s - loss: 7289.8799 - val_loss: 6758.9385\n",
      "Epoch 29/50\n",
      "33/33 - 9s - loss: 6967.4233 - val_loss: 6597.9912\n",
      "Epoch 30/50\n",
      "33/33 - 9s - loss: 8941.1533 - val_loss: 7039.9072\n",
      "Epoch 31/50\n",
      "33/33 - 9s - loss: 5941.2490 - val_loss: 6785.3140\n",
      "Epoch 32/50\n",
      "33/33 - 9s - loss: 4249.6768 - val_loss: 6916.8872\n",
      "Epoch 33/50\n",
      "33/33 - 9s - loss: 6260.5610 - val_loss: 8597.0586\n",
      "Epoch 34/50\n",
      "33/33 - 9s - loss: 6126.5791 - val_loss: 5780.9897\n",
      "Epoch 35/50\n",
      "33/33 - 9s - loss: 4208.0820 - val_loss: 5285.9453\n",
      "Epoch 36/50\n",
      "33/33 - 9s - loss: 6282.2480 - val_loss: 6167.4180\n",
      "Epoch 37/50\n",
      "33/33 - 9s - loss: 8139.0542 - val_loss: 8999.9561\n",
      "Epoch 38/50\n",
      "33/33 - 9s - loss: 8033.9971 - val_loss: 6849.7905\n",
      "Epoch 39/50\n",
      "33/33 - 9s - loss: 5978.6440 - val_loss: 5740.5356\n",
      "Epoch 40/50\n",
      "33/33 - 9s - loss: 5277.5938 - val_loss: 8164.5034\n",
      "Epoch 41/50\n",
      "33/33 - 9s - loss: 6281.4868 - val_loss: 7337.4043\n",
      "Epoch 42/50\n",
      "33/33 - 9s - loss: 5983.2583 - val_loss: 6087.8755\n",
      "Epoch 43/50\n",
      "33/33 - 9s - loss: 4201.2217 - val_loss: 5715.5762\n",
      "Epoch 44/50\n",
      "33/33 - 9s - loss: 5431.5117 - val_loss: 6330.8472\n",
      "Epoch 45/50\n",
      "33/33 - 9s - loss: 4172.8823 - val_loss: 5522.9551\n",
      "Epoch 46/50\n",
      "33/33 - 9s - loss: 4787.1045 - val_loss: 8889.1797\n",
      "Epoch 47/50\n",
      "33/33 - 9s - loss: 6220.0996 - val_loss: 7079.8228\n",
      "Epoch 48/50\n",
      "33/33 - 9s - loss: 4201.8359 - val_loss: 5191.1377\n",
      "Epoch 49/50\n",
      "33/33 - 9s - loss: 4316.9395 - val_loss: 6827.0337\n",
      "Epoch 50/50\n",
      "33/33 - 9s - loss: 4650.5142 - val_loss: 5763.4478\n",
      "INFO:tensorflow:Assets written to: binary_e_form_model/megnet/assets\n"
     ]
    },
    {
     "name": "stderr",
     "output_type": "stream",
     "text": [
      "/home/awsm/anaconda3/envs/unlockGNN/lib/python3.8/site-packages/tensorflow/python/keras/utils/generic_utils.py:494: CustomMaskWarning: Custom mask layers require a config and must override get_config. When loading, the custom mask layer must be passed to the custom_objects argument.\n",
      "  warnings.warn('Custom mask layers require a config and must override '\n",
      "INFO:tensorflow:Assets written to: binary_e_form_model/megnet/assets\n",
      "/home/awsm/anaconda3/envs/unlockGNN/lib/python3.8/site-packages/tensorflow/python/keras/utils/generic_utils.py:494: CustomMaskWarning: Custom mask layers require a config and must override get_config. When loading, the custom mask layer must be passed to the custom_objects argument.\n",
      "  warnings.warn('Custom mask layers require a config and must override '\n"
     ]
    },
    {
     "name": "stdout",
     "output_type": "stream",
     "text": [
      "INFO:tensorflow:Assets written to: binary_e_form_model/gnn/assets\n"
     ]
    },
    {
     "name": "stderr",
     "output_type": "stream",
     "text": [
      "INFO:tensorflow:Assets written to: binary_e_form_model/gnn/assets\n"
     ]
    }
   ],
   "source": [
    "prob_model.train(\n",
    "    train_structs,\n",
    "    train_targets,\n",
    "    epochs=50,\n",
    "    val_structs=val_structs,\n",
    "    val_targets=val_targets,\n",
    "    callbacks=[tb_callback_2],\n",
    ")\n",
    "prob_model.save(MODEL_SAVE_DIR)\n"
   ]
  },
  {
   "cell_type": "markdown",
   "metadata": {},
   "source": [
    "# Model evaluation\n",
    "\n",
    "Finally, we'll evaluate model metrics and make some sample predictions! Note that the predictions give predicted values and standard deviations. The standard deviations can then be converted to an uncertainty;\n",
    "in this example, we'll take the uncertainty as twice the standard deviation, which will give us the 95% confidence interval (see <https://en.wikipedia.org/wiki/68%E2%80%9395%E2%80%9399.7_rule>).\n"
   ]
  },
  {
   "cell_type": "code",
   "execution_count": 12,
   "metadata": {},
   "outputs": [
    {
     "name": "stderr",
     "output_type": "stream",
     "text": [
      "/home/awsm/anaconda3/envs/unlockGNN/lib/python3.8/site-packages/tensorflow_probability/python/distributions/gaussian_process.py:363: UserWarning: Unable to detect statically whether the number of index_points is 1. As a result, defaulting to treating the marginal GP at `index_points` as a multivariate Gaussian. This makes some methods, like `cdf` unavailable.\n",
      "  warnings.warn(\n"
     ]
    }
   ],
   "source": [
    "example_structs = val_structs[:10].tolist()\n",
    "example_targets = val_targets[:10].tolist()\n",
    "\n",
    "predicted, stddevs = prob_model.predict(example_structs)\n",
    "uncerts = 2 * stddevs\n"
   ]
  },
  {
   "cell_type": "code",
   "execution_count": 13,
   "metadata": {},
   "outputs": [
    {
     "data": {
      "text/html": [
       "<div>\n",
       "<style scoped>\n",
       "    .dataframe tbody tr th:only-of-type {\n",
       "        vertical-align: middle;\n",
       "    }\n",
       "\n",
       "    .dataframe tbody tr th {\n",
       "        vertical-align: top;\n",
       "    }\n",
       "\n",
       "    .dataframe thead th {\n",
       "        text-align: right;\n",
       "    }\n",
       "</style>\n",
       "<table border=\"1\" class=\"dataframe\">\n",
       "  <thead>\n",
       "    <tr style=\"text-align: right;\">\n",
       "      <th></th>\n",
       "      <th>Composition</th>\n",
       "      <th>Formation energy per atom / eV</th>\n",
       "      <th>Predicted / eV</th>\n",
       "    </tr>\n",
       "  </thead>\n",
       "  <tbody>\n",
       "    <tr>\n",
       "      <th>0</th>\n",
       "      <td>Zr2Cu</td>\n",
       "      <td>-0.132384</td>\n",
       "      <td>-0.14 ± 0.03</td>\n",
       "    </tr>\n",
       "    <tr>\n",
       "      <th>1</th>\n",
       "      <td>NbRh</td>\n",
       "      <td>-0.401313</td>\n",
       "      <td>-0.52 ± 0.04</td>\n",
       "    </tr>\n",
       "    <tr>\n",
       "      <th>2</th>\n",
       "      <td>Cu3Ge</td>\n",
       "      <td>-0.005707</td>\n",
       "      <td>-0.07 ± 0.04</td>\n",
       "    </tr>\n",
       "    <tr>\n",
       "      <th>3</th>\n",
       "      <td>Pr3In</td>\n",
       "      <td>-0.273232</td>\n",
       "      <td>-0.28 ± 0.04</td>\n",
       "    </tr>\n",
       "    <tr>\n",
       "      <th>4</th>\n",
       "      <td>InS</td>\n",
       "      <td>-0.742895</td>\n",
       "      <td>-0.72 ± 0.04</td>\n",
       "    </tr>\n",
       "    <tr>\n",
       "      <th>5</th>\n",
       "      <td>TmPb3</td>\n",
       "      <td>-0.215892</td>\n",
       "      <td>-0.25 ± 0.04</td>\n",
       "    </tr>\n",
       "    <tr>\n",
       "      <th>6</th>\n",
       "      <td>InNi</td>\n",
       "      <td>-0.174754</td>\n",
       "      <td>-0.20 ± 0.04</td>\n",
       "    </tr>\n",
       "    <tr>\n",
       "      <th>7</th>\n",
       "      <td>GdGe</td>\n",
       "      <td>-0.857117</td>\n",
       "      <td>-0.82 ± 0.08</td>\n",
       "    </tr>\n",
       "    <tr>\n",
       "      <th>8</th>\n",
       "      <td>GdTl</td>\n",
       "      <td>-0.380423</td>\n",
       "      <td>-0.35 ± 0.03</td>\n",
       "    </tr>\n",
       "    <tr>\n",
       "      <th>9</th>\n",
       "      <td>HoTl3</td>\n",
       "      <td>-0.215986</td>\n",
       "      <td>-0.21 ± 0.03</td>\n",
       "    </tr>\n",
       "  </tbody>\n",
       "</table>\n",
       "</div>"
      ],
      "text/plain": [
       "  Composition  Formation energy per atom / eV Predicted / eV\n",
       "0       Zr2Cu                       -0.132384   -0.14 ± 0.03\n",
       "1        NbRh                       -0.401313   -0.52 ± 0.04\n",
       "2       Cu3Ge                       -0.005707   -0.07 ± 0.04\n",
       "3       Pr3In                       -0.273232   -0.28 ± 0.04\n",
       "4         InS                       -0.742895   -0.72 ± 0.04\n",
       "5       TmPb3                       -0.215892   -0.25 ± 0.04\n",
       "6        InNi                       -0.174754   -0.20 ± 0.04\n",
       "7        GdGe                       -0.857117   -0.82 ± 0.08\n",
       "8        GdTl                       -0.380423   -0.35 ± 0.03\n",
       "9       HoTl3                       -0.215986   -0.21 ± 0.03"
      ]
     },
     "execution_count": 13,
     "metadata": {},
     "output_type": "execute_result"
    }
   ],
   "source": [
    "pd.DataFrame(\n",
    "    {\n",
    "        \"Composition\": [struct.composition.reduced_formula for struct in example_structs],\n",
    "        \"Formation energy per atom / eV\": example_targets,\n",
    "        \"Predicted / eV\": [\n",
    "            f\"{pred:.2f} ± {uncert:.2f}\" for pred, uncert in zip(predicted, uncerts)\n",
    "        ],\n",
    "    }\n",
    ")\n"
   ]
  },
  {
   "cell_type": "code",
   "execution_count": 14,
   "metadata": {},
   "outputs": [
    {
     "name": "stderr",
     "output_type": "stream",
     "text": [
      "/home/awsm/anaconda3/envs/unlockGNN/lib/python3.8/site-packages/tensorflow_probability/python/distributions/gaussian_process.py:363: UserWarning: Unable to detect statically whether the number of index_points is 1. As a result, defaulting to treating the marginal GP at `index_points` as a multivariate Gaussian. This makes some methods, like `cdf` unavailable.\n",
      "  warnings.warn(\n"
     ]
    },
    {
     "name": "stdout",
     "output_type": "stream",
     "text": [
      "Validation metrics:\n",
      "{'mae': 0.049803377508653594,\n",
      " 'mse': 0.00571253439208755,\n",
      " 'nll': 1270.362237633195,\n",
      " 'rmse': 0.07558130980664168,\n",
      " 'sharpness': 0.030653343161385096,\n",
      " 'variation': 0.5497132304190294}\n",
      "Training metrics:\n",
      "{'mae': 0.02887053388680764,\n",
      " 'mse': 0.0017579980037584235,\n",
      " 'nll': -7803.821887522724,\n",
      " 'rmse': 0.04192848678116614,\n",
      " 'sharpness': 0.030605892140298463,\n",
      " 'variation': 0.533647833791028}\n"
     ]
    }
   ],
   "source": [
    "val_metrics = evaluate_uq_metrics(prob_model, val_structs, val_targets)\n",
    "train_metrics = evaluate_uq_metrics(prob_model, train_structs, train_targets)\n",
    "\n",
    "print(\"Validation metrics:\")\n",
    "pprint(val_metrics)\n",
    "print(\"Training metrics:\")\n",
    "pprint(train_metrics)\n"
   ]
  }
 ],
 "metadata": {
  "interpreter": {
   "hash": "89b7f93fe079f836b09e45c7f268da6ce6b6a37c7513991ddecdb911874680b7"
  },
  "kernelspec": {
   "display_name": "Python 3",
   "language": "python",
   "name": "python3"
  },
  "language_info": {
   "codemirror_mode": {
    "name": "ipython",
    "version": 3
   },
   "file_extension": ".py",
   "mimetype": "text/x-python",
   "name": "python",
   "nbconvert_exporter": "python",
   "pygments_lexer": "ipython3",
   "version": "3.8.10"
  }
 },
 "nbformat": 4,
 "nbformat_minor": 2
}
