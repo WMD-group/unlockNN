{
 "cells": [
  {
   "cell_type": "markdown",
   "metadata": {},
   "source": [
    "# Binary compound formation energy prediction example\n",
    "\n",
    "[![Open In Colab](https://colab.research.google.com/assets/colab-badge.svg)](https://colab.research.google.com/github/a-ws-m/unlockNN/blob/master/examples/formation_energies.ipynb)\n",
    "\n",
    "This notebook demonstrates how to create a probabilistic model for predicting\n",
    "formation energies of binary compounds with a quantified uncertainty.\n"
   ]
  },
  {
   "cell_type": "code",
   "execution_count": null,
   "metadata": {},
   "outputs": [],
   "source": [
    "!pip install unlocknn"
   ]
  },
  {
   "cell_type": "code",
   "execution_count": 1,
   "metadata": {},
   "outputs": [],
   "source": [
    "import shutil\n",
    "from pathlib import Path\n",
    "from pprint import pprint\n",
    "\n",
    "import pandas as pd\n",
    "from megnet.models import MEGNetModel\n",
    "from tensorflow.keras.callbacks import TensorBoard\n",
    "from unlocknn.download import load_data\n",
    "from unlocknn.model import MEGNetProbModel\n",
    "from unlocknn.metrics import evaluate_uq_metrics\n"
   ]
  },
  {
   "cell_type": "code",
   "execution_count": 2,
   "metadata": {},
   "outputs": [],
   "source": [
    "THIS_DIR = Path(\".\").parent\n",
    "CONFIG_FILE = THIS_DIR / \".config\"\n",
    "\n",
    "MODEL_SAVE_DIR: Path = THIS_DIR / \"binary_e_form_model\"\n",
    "LOG_DIR = THIS_DIR / \"logs\"\n",
    "BATCH_SIZE: int = 128\n",
    "NUM_INDUCING_POINTS: int = 500\n",
    "OVERWRITE: bool = True\n",
    "TRAINING_RATIO: float = 0.8\n",
    "\n",
    "if OVERWRITE:\n",
    "    for directory in [MODEL_SAVE_DIR, LOG_DIR]:\n",
    "        if directory.exists():\n",
    "            shutil.rmtree(directory)\n"
   ]
  },
  {
   "cell_type": "markdown",
   "metadata": {},
   "source": [
    "# Data gathering\n",
    "\n",
    "Here we download binary compounds that lie on the convex hull from the Materials\n",
    "Project, then split them into training and validation subsets.\n"
   ]
  },
  {
   "cell_type": "code",
   "execution_count": 3,
   "metadata": {},
   "outputs": [
    {
     "data": {
      "text/html": [
       "<div>\n",
       "<style scoped>\n",
       "    .dataframe tbody tr th:only-of-type {\n",
       "        vertical-align: middle;\n",
       "    }\n",
       "\n",
       "    .dataframe tbody tr th {\n",
       "        vertical-align: top;\n",
       "    }\n",
       "\n",
       "    .dataframe thead th {\n",
       "        text-align: right;\n",
       "    }\n",
       "</style>\n",
       "<table border=\"1\" class=\"dataframe\">\n",
       "  <thead>\n",
       "    <tr style=\"text-align: right;\">\n",
       "      <th></th>\n",
       "      <th>structure</th>\n",
       "      <th>formation_energy_per_atom</th>\n",
       "    </tr>\n",
       "  </thead>\n",
       "  <tbody>\n",
       "    <tr>\n",
       "      <th>0</th>\n",
       "      <td>[[ 1.982598   -4.08421341  3.2051745 ] La, [1....</td>\n",
       "      <td>-0.737439</td>\n",
       "    </tr>\n",
       "    <tr>\n",
       "      <th>1</th>\n",
       "      <td>[[0. 0. 0.] Fe, [1.880473 1.880473 1.880473] H]</td>\n",
       "      <td>-0.068482</td>\n",
       "    </tr>\n",
       "    <tr>\n",
       "      <th>2</th>\n",
       "      <td>[[1.572998 0.       0.      ] Ta, [0.         ...</td>\n",
       "      <td>-0.773151</td>\n",
       "    </tr>\n",
       "    <tr>\n",
       "      <th>3</th>\n",
       "      <td>[[0.         0.         7.42288687] Hf, [0.   ...</td>\n",
       "      <td>-0.177707</td>\n",
       "    </tr>\n",
       "    <tr>\n",
       "      <th>4</th>\n",
       "      <td>[[ 1.823716   -3.94193291  3.47897025] Tm, [1....</td>\n",
       "      <td>-0.905038</td>\n",
       "    </tr>\n",
       "  </tbody>\n",
       "</table>\n",
       "</div>"
      ],
      "text/plain": [
       "                                           structure  \\\n",
       "0  [[ 1.982598   -4.08421341  3.2051745 ] La, [1....   \n",
       "1    [[0. 0. 0.] Fe, [1.880473 1.880473 1.880473] H]   \n",
       "2  [[1.572998 0.       0.      ] Ta, [0.         ...   \n",
       "3  [[0.         0.         7.42288687] Hf, [0.   ...   \n",
       "4  [[ 1.823716   -3.94193291  3.47897025] Tm, [1....   \n",
       "\n",
       "   formation_energy_per_atom  \n",
       "0                  -0.737439  \n",
       "1                  -0.068482  \n",
       "2                  -0.773151  \n",
       "3                  -0.177707  \n",
       "4                  -0.905038  "
      ]
     },
     "execution_count": 3,
     "metadata": {},
     "output_type": "execute_result"
    }
   ],
   "source": [
    "full_df = load_data(\"binary_e_form\")\n",
    "full_df.head()"
   ]
  },
  {
   "cell_type": "code",
   "execution_count": 4,
   "metadata": {},
   "outputs": [
    {
     "name": "stdout",
     "output_type": "stream",
     "text": [
      "4217 training samples, 1055 validation samples.\n"
     ]
    }
   ],
   "source": [
    "num_training = int(TRAINING_RATIO * len(full_df.index))\n",
    "train_df = full_df[:num_training]\n",
    "val_df = full_df[num_training:]\n",
    "\n",
    "print(f\"{num_training} training samples, {len(val_df.index)} validation samples.\")\n",
    "\n",
    "train_structs = train_df[\"structure\"]\n",
    "val_structs = val_df[\"structure\"]\n",
    "\n",
    "train_targets = train_df[\"formation_energy_per_atom\"]\n",
    "val_targets = val_df[\"formation_energy_per_atom\"]\n"
   ]
  },
  {
   "cell_type": "markdown",
   "metadata": {},
   "source": [
    "# Model creation\n",
    "\n",
    "Now we load the `MEGNet` 2019 formation energies model, then convert this to a\n",
    "probabilistic model.\n"
   ]
  },
  {
   "cell_type": "code",
   "execution_count": 5,
   "metadata": {
    "scrolled": true
   },
   "outputs": [
    {
     "name": "stderr",
     "output_type": "stream",
     "text": [
      "INFO:megnet.utils.models:Package-level mvl_models not included, trying temperary mvl_models downloads..\n",
      "INFO:megnet.utils.models:Model found in local mvl_models path\n"
     ]
    },
    {
     "name": "stdout",
     "output_type": "stream",
     "text": [
      "WARNING:tensorflow:From /home/awsm/anaconda3/envs/unlockNN/lib/python3.8/site-packages/tensorflow/python/ops/array_ops.py:5043: calling gather (from tensorflow.python.ops.array_ops) with validate_indices is deprecated and will be removed in a future version.\n",
      "Instructions for updating:\n",
      "The `validate_indices` argument has no effect. Indices are always validated on CPU and never validated on GPU.\n"
     ]
    },
    {
     "name": "stderr",
     "output_type": "stream",
     "text": [
      "WARNING:tensorflow:From /home/awsm/anaconda3/envs/unlockNN/lib/python3.8/site-packages/tensorflow/python/ops/array_ops.py:5043: calling gather (from tensorflow.python.ops.array_ops) with validate_indices is deprecated and will be removed in a future version.\n",
      "Instructions for updating:\n",
      "The `validate_indices` argument has no effect. Indices are always validated on CPU and never validated on GPU.\n"
     ]
    }
   ],
   "source": [
    "meg_model = MEGNetModel.from_mvl_models(\"Eform_MP_2019\")\n"
   ]
  },
  {
   "cell_type": "code",
   "execution_count": 6,
   "metadata": {
    "scrolled": true
   },
   "outputs": [
    {
     "name": "stdout",
     "output_type": "stream",
     "text": [
      "WARNING:tensorflow:From /home/awsm/anaconda3/envs/unlockNN/lib/python3.8/site-packages/tensorflow_probability/python/distributions/distribution.py:346: calling GaussianProcess.__init__ (from tensorflow_probability.python.distributions.gaussian_process) with jitter is deprecated and will be removed after 2021-05-10.\n",
      "Instructions for updating:\n",
      "`jitter` is deprecated; please use `marginal_fn` directly.\n"
     ]
    },
    {
     "name": "stderr",
     "output_type": "stream",
     "text": [
      "WARNING:tensorflow:From /home/awsm/anaconda3/envs/unlockNN/lib/python3.8/site-packages/tensorflow_probability/python/distributions/distribution.py:346: calling GaussianProcess.__init__ (from tensorflow_probability.python.distributions.gaussian_process) with jitter is deprecated and will be removed after 2021-05-10.\n",
      "Instructions for updating:\n",
      "`jitter` is deprecated; please use `marginal_fn` directly.\n",
      "/home/awsm/anaconda3/envs/unlockNN/lib/python3.8/site-packages/tensorflow_probability/python/distributions/gaussian_process.py:363: UserWarning: Unable to detect statically whether the number of index_points is 1. As a result, defaulting to treating the marginal GP at `index_points` as a multivariate Gaussian. This makes some methods, like `cdf` unavailable.\n",
      "  warnings.warn(\n"
     ]
    }
   ],
   "source": [
    "kl_weight = BATCH_SIZE / num_training\n",
    "\n",
    "prob_model = MEGNetProbModel(\n",
    "    meg_model=meg_model,\n",
    "    num_inducing_points=NUM_INDUCING_POINTS,\n",
    "    kl_weight=kl_weight,\n",
    ")\n"
   ]
  },
  {
   "cell_type": "markdown",
   "metadata": {},
   "source": [
    "# Train the uncertainty quantifier\n",
    "\n",
    "Now we train the model. By default, the `MEGNet` (NN) layers of the model are\n",
    "frozen after initialization. Therefore, when we call `prob_model.train()`, the\n",
    "only layers that are optimized are the `VariationalGaussianProcess` (VGP) and the\n",
    "`BatchNormalization` layer (`Norm`) that feeds into it.\n",
    "\n",
    "After this initial training, we unfreeze _all_ the layers and train the full model simulateously.\n"
   ]
  },
  {
   "cell_type": "code",
   "execution_count": 7,
   "metadata": {},
   "outputs": [],
   "source": [
    "tb_callback_1 = TensorBoard(log_dir=LOG_DIR / \"vgp_training\", write_graph=False)\n",
    "tb_callback_2 = TensorBoard(log_dir=LOG_DIR / \"fine_tuning\", write_graph=False)\n"
   ]
  },
  {
   "cell_type": "code",
   "execution_count": 8,
   "metadata": {},
   "outputs": [
    {
     "data": {
      "text/html": [
       "\n",
       "      <iframe id=\"tensorboard-frame-d5fdc9eb65d78486\" width=\"100%\" height=\"800\" frameborder=\"0\">\n",
       "      </iframe>\n",
       "      <script>\n",
       "        (function() {\n",
       "          const frame = document.getElementById(\"tensorboard-frame-d5fdc9eb65d78486\");\n",
       "          const url = new URL(\"/\", window.location);\n",
       "          const port = 6006;\n",
       "          if (port) {\n",
       "            url.port = port;\n",
       "          }\n",
       "          frame.src = url;\n",
       "        })();\n",
       "      </script>\n",
       "    "
      ],
      "text/plain": [
       "<IPython.core.display.HTML object>"
      ]
     },
     "metadata": {},
     "output_type": "display_data"
    }
   ],
   "source": [
    "%load_ext tensorboard\n",
    "%tensorboard --logdir logs"
   ]
  },
  {
   "cell_type": "code",
   "execution_count": 9,
   "metadata": {},
   "outputs": [
    {
     "name": "stdout",
     "output_type": "stream",
     "text": [
      "Epoch 1/50\n"
     ]
    },
    {
     "name": "stderr",
     "output_type": "stream",
     "text": [
      "/home/awsm/anaconda3/envs/unlockNN/lib/python3.8/site-packages/tensorflow_probability/python/distributions/gaussian_process.py:363: UserWarning: Unable to detect statically whether the number of index_points is 1. As a result, defaulting to treating the marginal GP at `index_points` as a multivariate Gaussian. This makes some methods, like `cdf` unavailable.\n",
      "  warnings.warn(\n",
      "/home/awsm/anaconda3/envs/unlockNN/lib/python3.8/site-packages/tensorflow/python/framework/indexed_slices.py:447: UserWarning: Converting sparse IndexedSlices(IndexedSlices(indices=Tensor(\"gradient_tape/model/set2_set_1/Reshape_9:0\", shape=(None,), dtype=int32), values=Tensor(\"gradient_tape/model/set2_set_1/Reshape_8:0\", shape=(None,), dtype=float32), dense_shape=Tensor(\"gradient_tape/model/set2_set_1/Cast:0\", shape=(1,), dtype=int32))) to a dense Tensor of unknown shape. This may consume a large amount of memory.\n",
      "  warnings.warn(\n",
      "/home/awsm/anaconda3/envs/unlockNN/lib/python3.8/site-packages/tensorflow/python/framework/indexed_slices.py:447: UserWarning: Converting sparse IndexedSlices(IndexedSlices(indices=Tensor(\"gradient_tape/model/set2_set_2/Reshape_9:0\", shape=(None,), dtype=int32), values=Tensor(\"gradient_tape/model/set2_set_2/Reshape_8:0\", shape=(None,), dtype=float32), dense_shape=Tensor(\"gradient_tape/model/set2_set_2/Cast:0\", shape=(1,), dtype=int32))) to a dense Tensor of unknown shape. This may consume a large amount of memory.\n",
      "  warnings.warn(\n",
      "/home/awsm/anaconda3/envs/unlockNN/lib/python3.8/site-packages/tensorflow/python/framework/indexed_slices.py:447: UserWarning: Converting sparse IndexedSlices(IndexedSlices(indices=Tensor(\"gradient_tape/model/set2_set_1/Reshape_27:0\", shape=(None,), dtype=int32), values=Tensor(\"gradient_tape/model/set2_set_1/Reshape_26:0\", shape=(None,), dtype=float32), dense_shape=Tensor(\"gradient_tape/model/set2_set_1/Cast_2:0\", shape=(1,), dtype=int32))) to a dense Tensor of unknown shape. This may consume a large amount of memory.\n",
      "  warnings.warn(\n",
      "/home/awsm/anaconda3/envs/unlockNN/lib/python3.8/site-packages/tensorflow/python/framework/indexed_slices.py:447: UserWarning: Converting sparse IndexedSlices(IndexedSlices(indices=Tensor(\"gradient_tape/model/set2_set_2/Reshape_27:0\", shape=(None,), dtype=int32), values=Tensor(\"gradient_tape/model/set2_set_2/Reshape_26:0\", shape=(None,), dtype=float32), dense_shape=Tensor(\"gradient_tape/model/set2_set_2/Cast_2:0\", shape=(1,), dtype=int32))) to a dense Tensor of unknown shape. This may consume a large amount of memory.\n",
      "  warnings.warn(\n"
     ]
    },
    {
     "name": "stdout",
     "output_type": "stream",
     "text": [
      "33/33 - 19s - loss: 2044082.0000 - val_loss: 1888069.7500\n",
      "Epoch 2/50\n",
      "33/33 - 9s - loss: 1894192.7500 - val_loss: 1713764.2500\n",
      "Epoch 3/50\n",
      "33/33 - 9s - loss: 1620727.7500 - val_loss: 1368848.1250\n",
      "Epoch 4/50\n",
      "33/33 - 9s - loss: 1237875.7500 - val_loss: 978411.0000\n",
      "Epoch 5/50\n",
      "33/33 - 9s - loss: 891600.6250 - val_loss: 638471.2500\n",
      "Epoch 6/50\n",
      "33/33 - 9s - loss: 592225.8125 - val_loss: 361983.4688\n",
      "Epoch 7/50\n",
      "33/33 - 9s - loss: 353038.8125 - val_loss: 183462.9531\n",
      "Epoch 8/50\n",
      "33/33 - 9s - loss: 222249.0156 - val_loss: 110128.0234\n",
      "Epoch 9/50\n",
      "33/33 - 9s - loss: 161658.2031 - val_loss: 82292.2188\n",
      "Epoch 10/50\n",
      "33/33 - 9s - loss: 121945.1328 - val_loss: 68647.5547\n",
      "Epoch 11/50\n",
      "33/33 - 9s - loss: 99813.3750 - val_loss: 64859.9648\n",
      "Epoch 12/50\n",
      "33/33 - 9s - loss: 85247.1797 - val_loss: 50290.5156\n",
      "Epoch 13/50\n",
      "33/33 - 9s - loss: 85243.5938 - val_loss: 48014.1875\n",
      "Epoch 14/50\n",
      "33/33 - 9s - loss: 68791.3438 - val_loss: 41188.8320\n",
      "Epoch 15/50\n",
      "33/33 - 9s - loss: 53726.7227 - val_loss: 37138.2227\n",
      "Epoch 16/50\n",
      "33/33 - 9s - loss: 57053.4219 - val_loss: 34992.2031\n",
      "Epoch 17/50\n",
      "33/33 - 9s - loss: 52319.8633 - val_loss: 32232.3965\n",
      "Epoch 18/50\n",
      "33/33 - 9s - loss: 52440.1523 - val_loss: 30593.1387\n",
      "Epoch 19/50\n",
      "33/33 - 9s - loss: 53018.3359 - val_loss: 28580.2129\n",
      "Epoch 20/50\n",
      "33/33 - 9s - loss: 43166.1328 - val_loss: 26168.4590\n",
      "Epoch 21/50\n",
      "33/33 - 9s - loss: 40413.0156 - val_loss: 28174.3984\n",
      "Epoch 22/50\n",
      "33/33 - 9s - loss: 36338.0117 - val_loss: 24931.0859\n",
      "Epoch 23/50\n",
      "33/33 - 9s - loss: 41781.5117 - val_loss: 23080.4180\n",
      "Epoch 24/50\n",
      "33/33 - 9s - loss: 35865.8750 - val_loss: 21883.1738\n",
      "Epoch 25/50\n",
      "33/33 - 9s - loss: 36867.8242 - val_loss: 21063.7891\n",
      "Epoch 26/50\n",
      "33/33 - 10s - loss: 32076.1738 - val_loss: 23055.1484\n",
      "Epoch 27/50\n",
      "33/33 - 9s - loss: 35084.0859 - val_loss: 20155.7461\n",
      "Epoch 28/50\n",
      "33/33 - 10s - loss: 28187.6680 - val_loss: 19684.9688\n",
      "Epoch 29/50\n",
      "33/33 - 10s - loss: 30862.3613 - val_loss: 20076.0078\n",
      "Epoch 30/50\n",
      "33/33 - 10s - loss: 31814.8105 - val_loss: 18598.5000\n",
      "Epoch 31/50\n",
      "33/33 - 10s - loss: 28180.9746 - val_loss: 18346.0469\n",
      "Epoch 32/50\n",
      "33/33 - 9s - loss: 28257.1172 - val_loss: 17255.7500\n",
      "Epoch 33/50\n",
      "33/33 - 10s - loss: 27325.9219 - val_loss: 19581.5371\n",
      "Epoch 34/50\n",
      "33/33 - 9s - loss: 30229.6973 - val_loss: 16466.3457\n",
      "Epoch 35/50\n",
      "33/33 - 9s - loss: 30593.6387 - val_loss: 16264.7812\n",
      "Epoch 36/50\n",
      "33/33 - 9s - loss: 25125.0449 - val_loss: 15964.1895\n",
      "Epoch 37/50\n",
      "33/33 - 9s - loss: 24917.8496 - val_loss: 15689.3555\n",
      "Epoch 38/50\n",
      "33/33 - 9s - loss: 22313.6797 - val_loss: 15355.2188\n",
      "Epoch 39/50\n",
      "33/33 - 9s - loss: 26516.0371 - val_loss: 15101.8730\n",
      "Epoch 40/50\n",
      "33/33 - 9s - loss: 21974.6172 - val_loss: 14845.4980\n",
      "Epoch 41/50\n",
      "33/33 - 9s - loss: 28439.3223 - val_loss: 14719.1982\n",
      "Epoch 42/50\n",
      "33/33 - 9s - loss: 26832.7461 - val_loss: 14680.4268\n",
      "Epoch 43/50\n",
      "33/33 - 9s - loss: 21996.8809 - val_loss: 14330.9727\n",
      "Epoch 44/50\n",
      "33/33 - 9s - loss: 23953.2441 - val_loss: 14301.9082\n",
      "Epoch 45/50\n",
      "33/33 - 9s - loss: 20308.8086 - val_loss: 14134.0674\n",
      "Epoch 46/50\n",
      "33/33 - 9s - loss: 20996.7539 - val_loss: 14048.1357\n",
      "Epoch 47/50\n",
      "33/33 - 9s - loss: 19017.8379 - val_loss: 14067.2939\n",
      "Epoch 48/50\n",
      "33/33 - 9s - loss: 24806.2656 - val_loss: 13875.2412\n",
      "Epoch 49/50\n",
      "33/33 - 9s - loss: 24416.7422 - val_loss: 13206.0869\n",
      "Epoch 50/50\n",
      "33/33 - 9s - loss: 22345.4980 - val_loss: 13366.0039\n",
      "INFO:tensorflow:Assets written to: binary_e_form_model/megnet/assets\n"
     ]
    },
    {
     "name": "stderr",
     "output_type": "stream",
     "text": [
      "/home/awsm/anaconda3/envs/unlockNN/lib/python3.8/site-packages/tensorflow/python/keras/utils/generic_utils.py:494: CustomMaskWarning: Custom mask layers require a config and must override get_config. When loading, the custom mask layer must be passed to the custom_objects argument.\n",
      "  warnings.warn('Custom mask layers require a config and must override '\n",
      "INFO:tensorflow:Assets written to: binary_e_form_model/megnet/assets\n"
     ]
    },
    {
     "name": "stdout",
     "output_type": "stream",
     "text": [
      "INFO:tensorflow:Assets written to: binary_e_form_model/nn/assets\n"
     ]
    },
    {
     "name": "stderr",
     "output_type": "stream",
     "text": [
      "/home/awsm/anaconda3/envs/unlockNN/lib/python3.8/site-packages/tensorflow/python/keras/utils/generic_utils.py:494: CustomMaskWarning: Custom mask layers require a config and must override get_config. When loading, the custom mask layer must be passed to the custom_objects argument.\n",
      "  warnings.warn('Custom mask layers require a config and must override '\n",
      "INFO:tensorflow:Assets written to: binary_e_form_model/nn/assets\n"
     ]
    }
   ],
   "source": [
    "prob_model.train(\n",
    "    train_structs,\n",
    "    train_targets,\n",
    "    epochs=50,\n",
    "    val_inputs=val_structs,\n",
    "    val_targets=val_targets,\n",
    "    callbacks=[tb_callback_1],\n",
    ")\n",
    "prob_model.save(MODEL_SAVE_DIR)\n"
   ]
  },
  {
   "cell_type": "code",
   "execution_count": 10,
   "metadata": {},
   "outputs": [],
   "source": [
    "prob_model.set_frozen([\"NN\", \"VGP\"], freeze=False)\n"
   ]
  },
  {
   "cell_type": "code",
   "execution_count": 11,
   "metadata": {
    "scrolled": true
   },
   "outputs": [
    {
     "name": "stdout",
     "output_type": "stream",
     "text": [
      "Epoch 1/50\n"
     ]
    },
    {
     "name": "stderr",
     "output_type": "stream",
     "text": [
      "/home/awsm/anaconda3/envs/unlockNN/lib/python3.8/site-packages/tensorflow_probability/python/distributions/gaussian_process.py:363: UserWarning: Unable to detect statically whether the number of index_points is 1. As a result, defaulting to treating the marginal GP at `index_points` as a multivariate Gaussian. This makes some methods, like `cdf` unavailable.\n",
      "  warnings.warn(\n",
      "/home/awsm/anaconda3/envs/unlockNN/lib/python3.8/site-packages/tensorflow/python/framework/indexed_slices.py:447: UserWarning: Converting sparse IndexedSlices(IndexedSlices(indices=Tensor(\"gradient_tape/model/set2_set_1/Reshape_9:0\", shape=(None,), dtype=int32), values=Tensor(\"gradient_tape/model/set2_set_1/Reshape_8:0\", shape=(None,), dtype=float32), dense_shape=Tensor(\"gradient_tape/model/set2_set_1/Cast:0\", shape=(1,), dtype=int32))) to a dense Tensor of unknown shape. This may consume a large amount of memory.\n",
      "  warnings.warn(\n",
      "/home/awsm/anaconda3/envs/unlockNN/lib/python3.8/site-packages/tensorflow/python/framework/indexed_slices.py:447: UserWarning: Converting sparse IndexedSlices(IndexedSlices(indices=Tensor(\"gradient_tape/model/set2_set_2/Reshape_9:0\", shape=(None,), dtype=int32), values=Tensor(\"gradient_tape/model/set2_set_2/Reshape_8:0\", shape=(None,), dtype=float32), dense_shape=Tensor(\"gradient_tape/model/set2_set_2/Cast:0\", shape=(1,), dtype=int32))) to a dense Tensor of unknown shape. This may consume a large amount of memory.\n",
      "  warnings.warn(\n",
      "/home/awsm/anaconda3/envs/unlockNN/lib/python3.8/site-packages/tensorflow/python/framework/indexed_slices.py:447: UserWarning: Converting sparse IndexedSlices(IndexedSlices(indices=Tensor(\"gradient_tape/model/set2_set_1/Reshape_27:0\", shape=(None,), dtype=int32), values=Tensor(\"gradient_tape/model/set2_set_1/Reshape_26:0\", shape=(None,), dtype=float32), dense_shape=Tensor(\"gradient_tape/model/set2_set_1/Cast_2:0\", shape=(1,), dtype=int32))) to a dense Tensor of unknown shape. This may consume a large amount of memory.\n",
      "  warnings.warn(\n",
      "/home/awsm/anaconda3/envs/unlockNN/lib/python3.8/site-packages/tensorflow/python/framework/indexed_slices.py:447: UserWarning: Converting sparse IndexedSlices(IndexedSlices(indices=Tensor(\"gradient_tape/model/set2_set_2/Reshape_27:0\", shape=(None,), dtype=int32), values=Tensor(\"gradient_tape/model/set2_set_2/Reshape_26:0\", shape=(None,), dtype=float32), dense_shape=Tensor(\"gradient_tape/model/set2_set_2/Cast_2:0\", shape=(1,), dtype=int32))) to a dense Tensor of unknown shape. This may consume a large amount of memory.\n",
      "  warnings.warn(\n"
     ]
    },
    {
     "name": "stdout",
     "output_type": "stream",
     "text": [
      "33/33 - 22s - loss: 56607.2461 - val_loss: 239531.3906\n",
      "Epoch 2/50\n",
      "33/33 - 9s - loss: 32880.5742 - val_loss: 41553.4414\n",
      "Epoch 3/50\n",
      "33/33 - 9s - loss: 28333.7891 - val_loss: 37830.7969\n",
      "Epoch 4/50\n",
      "33/33 - 9s - loss: 21829.8965 - val_loss: 22037.8613\n",
      "Epoch 5/50\n",
      "33/33 - 9s - loss: 23603.4180 - val_loss: 16792.0098\n",
      "Epoch 6/50\n",
      "33/33 - 9s - loss: 19261.4473 - val_loss: 17440.0293\n",
      "Epoch 7/50\n",
      "33/33 - 9s - loss: 13590.6309 - val_loss: 15088.8799\n",
      "Epoch 8/50\n",
      "33/33 - 9s - loss: 14142.5850 - val_loss: 11170.5479\n",
      "Epoch 9/50\n",
      "33/33 - 9s - loss: 11774.4180 - val_loss: 30299.1328\n",
      "Epoch 10/50\n",
      "33/33 - 9s - loss: 12263.8896 - val_loss: 20215.4316\n",
      "Epoch 11/50\n",
      "33/33 - 9s - loss: 14102.6650 - val_loss: 14102.4971\n",
      "Epoch 12/50\n",
      "33/33 - 9s - loss: 10196.0801 - val_loss: 12292.2920\n",
      "Epoch 13/50\n",
      "33/33 - 9s - loss: 10220.3564 - val_loss: 10971.9023\n",
      "Epoch 14/50\n",
      "33/33 - 9s - loss: 8508.3301 - val_loss: 9019.6621\n",
      "Epoch 15/50\n",
      "33/33 - 9s - loss: 8402.4307 - val_loss: 8551.6201\n",
      "Epoch 16/50\n",
      "33/33 - 9s - loss: 8860.3662 - val_loss: 12149.5156\n",
      "Epoch 17/50\n",
      "33/33 - 9s - loss: 8425.4941 - val_loss: 7626.7603\n",
      "Epoch 18/50\n",
      "33/33 - 9s - loss: 8399.6758 - val_loss: 7518.2388\n",
      "Epoch 19/50\n",
      "33/33 - 9s - loss: 8036.0371 - val_loss: 8961.8516\n",
      "Epoch 20/50\n",
      "33/33 - 9s - loss: 8712.6543 - val_loss: 8688.2793\n",
      "Epoch 21/50\n",
      "33/33 - 9s - loss: 6288.8613 - val_loss: 7836.9453\n",
      "Epoch 22/50\n",
      "33/33 - 9s - loss: 6176.2476 - val_loss: 8196.4404\n",
      "Epoch 23/50\n",
      "33/33 - 9s - loss: 6119.4028 - val_loss: 6925.9922\n",
      "Epoch 24/50\n",
      "33/33 - 9s - loss: 6999.9263 - val_loss: 7235.9849\n",
      "Epoch 25/50\n",
      "33/33 - 9s - loss: 8677.6934 - val_loss: 7775.9766\n",
      "Epoch 26/50\n",
      "33/33 - 9s - loss: 7380.5591 - val_loss: 7178.3740\n",
      "Epoch 27/50\n",
      "33/33 - 9s - loss: 5999.8496 - val_loss: 6413.6392\n",
      "Epoch 28/50\n",
      "33/33 - 9s - loss: 8159.3730 - val_loss: 7898.6060\n",
      "Epoch 29/50\n",
      "33/33 - 9s - loss: 7852.9258 - val_loss: 9585.4502\n",
      "Epoch 30/50\n",
      "33/33 - 9s - loss: 6568.7383 - val_loss: 7639.8672\n",
      "Epoch 31/50\n",
      "33/33 - 9s - loss: 6145.9570 - val_loss: 6062.0737\n",
      "Epoch 32/50\n",
      "33/33 - 9s - loss: 5885.6821 - val_loss: 5826.6089\n",
      "Epoch 33/50\n",
      "33/33 - 9s - loss: 4891.4902 - val_loss: 6229.3354\n",
      "Epoch 34/50\n",
      "33/33 - 9s - loss: 5313.8125 - val_loss: 6132.2676\n",
      "Epoch 35/50\n",
      "33/33 - 9s - loss: 6330.5889 - val_loss: 5511.8169\n",
      "Epoch 36/50\n",
      "33/33 - 9s - loss: 4763.4868 - val_loss: 7104.0371\n",
      "Epoch 37/50\n",
      "33/33 - 9s - loss: 5772.0454 - val_loss: 5513.2246\n",
      "Epoch 38/50\n",
      "33/33 - 9s - loss: 4692.0361 - val_loss: 6526.8066\n",
      "Epoch 39/50\n",
      "33/33 - 9s - loss: 5339.6450 - val_loss: 11361.3750\n",
      "Epoch 40/50\n",
      "33/33 - 9s - loss: 5152.4307 - val_loss: 6168.9814\n",
      "Epoch 41/50\n",
      "33/33 - 9s - loss: 4579.7891 - val_loss: 8733.9434\n",
      "Epoch 42/50\n",
      "33/33 - 9s - loss: 4428.6841 - val_loss: 5963.4331\n",
      "Epoch 43/50\n",
      "33/33 - 9s - loss: 4173.4214 - val_loss: 7031.6504\n",
      "Epoch 44/50\n",
      "33/33 - 9s - loss: 5133.9648 - val_loss: 5897.1035\n",
      "Epoch 45/50\n",
      "33/33 - 9s - loss: 4102.6758 - val_loss: 4884.2021\n",
      "Epoch 46/50\n",
      "33/33 - 9s - loss: 5465.1870 - val_loss: 6626.4297\n",
      "Epoch 47/50\n",
      "33/33 - 9s - loss: 4714.8921 - val_loss: 6022.0981\n",
      "Epoch 48/50\n",
      "33/33 - 9s - loss: 4469.6270 - val_loss: 5527.1006\n",
      "Epoch 49/50\n",
      "33/33 - 9s - loss: 3875.7085 - val_loss: 5303.9321\n",
      "Epoch 50/50\n",
      "33/33 - 9s - loss: 4336.7515 - val_loss: 5677.8574\n",
      "INFO:tensorflow:Assets written to: binary_e_form_model/megnet/assets\n"
     ]
    },
    {
     "name": "stderr",
     "output_type": "stream",
     "text": [
      "/home/awsm/anaconda3/envs/unlockNN/lib/python3.8/site-packages/tensorflow/python/keras/utils/generic_utils.py:494: CustomMaskWarning: Custom mask layers require a config and must override get_config. When loading, the custom mask layer must be passed to the custom_objects argument.\n",
      "  warnings.warn('Custom mask layers require a config and must override '\n",
      "INFO:tensorflow:Assets written to: binary_e_form_model/megnet/assets\n"
     ]
    },
    {
     "name": "stdout",
     "output_type": "stream",
     "text": [
      "INFO:tensorflow:Assets written to: binary_e_form_model/nn/assets\n"
     ]
    },
    {
     "name": "stderr",
     "output_type": "stream",
     "text": [
      "/home/awsm/anaconda3/envs/unlockNN/lib/python3.8/site-packages/tensorflow/python/keras/utils/generic_utils.py:494: CustomMaskWarning: Custom mask layers require a config and must override get_config. When loading, the custom mask layer must be passed to the custom_objects argument.\n",
      "  warnings.warn('Custom mask layers require a config and must override '\n",
      "INFO:tensorflow:Assets written to: binary_e_form_model/nn/assets\n"
     ]
    }
   ],
   "source": [
    "prob_model.train(\n",
    "    train_structs,\n",
    "    train_targets,\n",
    "    epochs=50,\n",
    "    val_inputs=val_structs,\n",
    "    val_targets=val_targets,\n",
    "    callbacks=[tb_callback_2],\n",
    ")\n",
    "prob_model.save(MODEL_SAVE_DIR)\n"
   ]
  },
  {
   "cell_type": "markdown",
   "metadata": {},
   "source": [
    "# Model evaluation\n",
    "\n",
    "Finally, we'll evaluate model metrics and make some sample predictions! Note that the predictions give predicted values and standard deviations. The standard deviations can then be converted to an uncertainty;\n",
    "in this example, we'll take the uncertainty as twice the standard deviation, which will give us the 95% confidence interval (see <https://en.wikipedia.org/wiki/68%E2%80%9395%E2%80%9399.7_rule>).\n"
   ]
  },
  {
   "cell_type": "code",
   "execution_count": 12,
   "metadata": {},
   "outputs": [
    {
     "name": "stderr",
     "output_type": "stream",
     "text": [
      "/home/awsm/anaconda3/envs/unlockNN/lib/python3.8/site-packages/tensorflow_probability/python/distributions/gaussian_process.py:363: UserWarning: Unable to detect statically whether the number of index_points is 1. As a result, defaulting to treating the marginal GP at `index_points` as a multivariate Gaussian. This makes some methods, like `cdf` unavailable.\n",
      "  warnings.warn(\n"
     ]
    }
   ],
   "source": [
    "example_structs = val_structs[:10].tolist()\n",
    "example_targets = val_targets[:10].tolist()\n",
    "\n",
    "predicted, stddevs = prob_model.predict(example_structs)\n",
    "uncerts = 2 * stddevs\n"
   ]
  },
  {
   "cell_type": "code",
   "execution_count": 13,
   "metadata": {},
   "outputs": [
    {
     "data": {
      "text/html": [
       "<div>\n",
       "<style scoped>\n",
       "    .dataframe tbody tr th:only-of-type {\n",
       "        vertical-align: middle;\n",
       "    }\n",
       "\n",
       "    .dataframe tbody tr th {\n",
       "        vertical-align: top;\n",
       "    }\n",
       "\n",
       "    .dataframe thead th {\n",
       "        text-align: right;\n",
       "    }\n",
       "</style>\n",
       "<table border=\"1\" class=\"dataframe\">\n",
       "  <thead>\n",
       "    <tr style=\"text-align: right;\">\n",
       "      <th></th>\n",
       "      <th>Composition</th>\n",
       "      <th>Formation energy per atom / eV</th>\n",
       "      <th>Predicted / eV</th>\n",
       "    </tr>\n",
       "  </thead>\n",
       "  <tbody>\n",
       "    <tr>\n",
       "      <th>0</th>\n",
       "      <td>Zr2Cu</td>\n",
       "      <td>-0.132384</td>\n",
       "      <td>-0.12 ± 0.04</td>\n",
       "    </tr>\n",
       "    <tr>\n",
       "      <th>1</th>\n",
       "      <td>NbRh</td>\n",
       "      <td>-0.401313</td>\n",
       "      <td>-0.47 ± 0.03</td>\n",
       "    </tr>\n",
       "    <tr>\n",
       "      <th>2</th>\n",
       "      <td>Cu3Ge</td>\n",
       "      <td>-0.005707</td>\n",
       "      <td>-0.05 ± 0.05</td>\n",
       "    </tr>\n",
       "    <tr>\n",
       "      <th>3</th>\n",
       "      <td>Pr3In</td>\n",
       "      <td>-0.273232</td>\n",
       "      <td>-0.14 ± 0.07</td>\n",
       "    </tr>\n",
       "    <tr>\n",
       "      <th>4</th>\n",
       "      <td>InS</td>\n",
       "      <td>-0.742895</td>\n",
       "      <td>-0.74 ± 0.04</td>\n",
       "    </tr>\n",
       "    <tr>\n",
       "      <th>5</th>\n",
       "      <td>TmPb3</td>\n",
       "      <td>-0.215892</td>\n",
       "      <td>-0.19 ± 0.04</td>\n",
       "    </tr>\n",
       "    <tr>\n",
       "      <th>6</th>\n",
       "      <td>InNi</td>\n",
       "      <td>-0.174754</td>\n",
       "      <td>-0.22 ± 0.04</td>\n",
       "    </tr>\n",
       "    <tr>\n",
       "      <th>7</th>\n",
       "      <td>GdGe</td>\n",
       "      <td>-0.857117</td>\n",
       "      <td>-0.87 ± 0.08</td>\n",
       "    </tr>\n",
       "    <tr>\n",
       "      <th>8</th>\n",
       "      <td>GdTl</td>\n",
       "      <td>-0.380423</td>\n",
       "      <td>-0.38 ± 0.03</td>\n",
       "    </tr>\n",
       "    <tr>\n",
       "      <th>9</th>\n",
       "      <td>HoTl3</td>\n",
       "      <td>-0.215986</td>\n",
       "      <td>-0.19 ± 0.04</td>\n",
       "    </tr>\n",
       "  </tbody>\n",
       "</table>\n",
       "</div>"
      ],
      "text/plain": [
       "  Composition  Formation energy per atom / eV Predicted / eV\n",
       "0       Zr2Cu                       -0.132384   -0.12 ± 0.04\n",
       "1        NbRh                       -0.401313   -0.47 ± 0.03\n",
       "2       Cu3Ge                       -0.005707   -0.05 ± 0.05\n",
       "3       Pr3In                       -0.273232   -0.14 ± 0.07\n",
       "4         InS                       -0.742895   -0.74 ± 0.04\n",
       "5       TmPb3                       -0.215892   -0.19 ± 0.04\n",
       "6        InNi                       -0.174754   -0.22 ± 0.04\n",
       "7        GdGe                       -0.857117   -0.87 ± 0.08\n",
       "8        GdTl                       -0.380423   -0.38 ± 0.03\n",
       "9       HoTl3                       -0.215986   -0.19 ± 0.04"
      ]
     },
     "execution_count": 13,
     "metadata": {},
     "output_type": "execute_result"
    }
   ],
   "source": [
    "pd.DataFrame(\n",
    "    {\n",
    "        \"Composition\": [struct.composition.reduced_formula for struct in example_structs],\n",
    "        \"Formation energy per atom / eV\": example_targets,\n",
    "        \"Predicted / eV\": [\n",
    "            f\"{pred:.2f} ± {uncert:.2f}\" for pred, uncert in zip(predicted, uncerts)\n",
    "        ],\n",
    "    }\n",
    ")\n"
   ]
  },
  {
   "cell_type": "code",
   "execution_count": 14,
   "metadata": {},
   "outputs": [
    {
     "name": "stderr",
     "output_type": "stream",
     "text": [
      "/home/awsm/anaconda3/envs/unlockNN/lib/python3.8/site-packages/tensorflow_probability/python/distributions/gaussian_process.py:363: UserWarning: Unable to detect statically whether the number of index_points is 1. As a result, defaulting to treating the marginal GP at `index_points` as a multivariate Gaussian. This makes some methods, like `cdf` unavailable.\n",
      "  warnings.warn(\n"
     ]
    },
    {
     "name": "stdout",
     "output_type": "stream",
     "text": [
      "Validation metrics:\n",
      "{'mae': 0.04725769517605442,\n",
      " 'mse': 0.005525025199049348,\n",
      " 'nll': 846.6881418477113,\n",
      " 'rmse': 0.07433051324354856,\n",
      " 'sharpness': 0.03184407506259326,\n",
      " 'variation': 0.560193233222921}\n",
      "Training metrics:\n",
      "{'mae': 0.0263804768548787,\n",
      " 'mse': 0.0017778792658559221,\n",
      " 'nll': -8528.868566316694,\n",
      " 'rmse': 0.04216490561896139,\n",
      " 'sharpness': 0.03232312160322517,\n",
      " 'variation': 0.5973602101569429}\n"
     ]
    }
   ],
   "source": [
    "val_metrics = evaluate_uq_metrics(prob_model, val_structs, val_targets)\n",
    "train_metrics = evaluate_uq_metrics(prob_model, train_structs, train_targets)\n",
    "\n",
    "print(\"Validation metrics:\")\n",
    "pprint(val_metrics)\n",
    "print(\"Training metrics:\")\n",
    "pprint(train_metrics)\n"
   ]
  }
 ],
 "metadata": {
  "interpreter": {
   "hash": "89b7f93fe079f836b09e45c7f268da6ce6b6a37c7513991ddecdb911874680b7"
  },
  "kernelspec": {
   "display_name": "Python 3",
   "language": "python",
   "name": "python3"
  },
  "language_info": {
   "codemirror_mode": {
    "name": "ipython",
    "version": 3
   },
   "file_extension": ".py",
   "mimetype": "text/x-python",
   "name": "python",
   "nbconvert_exporter": "python",
   "pygments_lexer": "ipython3",
   "version": "3.8.10"
  }
 },
 "nbformat": 4,
 "nbformat_minor": 2
}
