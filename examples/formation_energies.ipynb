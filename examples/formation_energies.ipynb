{
 "cells": [
  {
   "cell_type": "markdown",
   "source": [
    "# Binary compound formation energy prediction example\n",
    "\n",
    "This notebook demonstrates how to create a probabilistic model for predicting\n",
    "formation energies of binary compounds with a quantified uncertainty. Before\n",
    "running this notebook, ensure that you have a valid Materials Project API key\n",
    "from <https://www.materialsproject.org/dashboard>. Next, either put this\n",
    "key in a `.config` file, or change `MAPI_KEY` to the key.\n",
    "\n",
    "<div class=\"alert alert-block alert-warning\">\n",
    "Be careful not to include API keys in published versions of this notebook!\n",
    "</div>\n"
   ],
   "metadata": {}
  },
  {
   "cell_type": "code",
   "execution_count": 1,
   "source": [
    "import shutil\n",
    "from pathlib import Path\n",
    "\n",
    "import pandas as pd\n",
    "from megnet.models import MEGNetModel\n",
    "from pymatgen.ext.matproj import MPRester\n",
    "from tensorflow.keras.callbacks import TensorBoard\n",
    "from unlockgnn import MEGNetProbModel\n"
   ],
   "outputs": [],
   "metadata": {}
  },
  {
   "cell_type": "code",
   "execution_count": 2,
   "source": [
    "THIS_DIR = Path(\".\").parent\n",
    "CONFIG_FILE = THIS_DIR / \".config\"\n",
    "\n",
    "MAPI_KEY = None\n",
    "MODEL_SAVE_DIR: Path = THIS_DIR / \"binary_e_form_model\"\n",
    "LOG_DIR = THIS_DIR / \"logs\"\n",
    "BATCH_SIZE: int = 128\n",
    "NUM_INDUCING_POINTS: int = 1500\n",
    "OVERWRITE: bool = True\n",
    "\n",
    "if OVERWRITE:\n",
    "    for directory in [MODEL_SAVE_DIR, LOG_DIR]:\n",
    "        if directory.exists():\n",
    "            shutil.rmtree(directory)\n",
    "\n",
    "try:\n",
    "    mp_key = CONFIG_FILE.read_text()\n",
    "except FileNotFoundError:\n",
    "    if MAPI_KEY is None:\n",
    "        raise ValueError(\"Enter Materials Project API key either in a `.config` file or in the notebook itself.\")\n",
    "    mp_key = MAPI_KEY\n"
   ],
   "outputs": [],
   "metadata": {}
  },
  {
   "cell_type": "markdown",
   "source": [
    "# Data gathering\n",
    "\n",
    "Here we download binary compounds that lie on the convex hull from the Materials\n",
    "Project, then split them into training and validation subsets.\n"
   ],
   "metadata": {}
  },
  {
   "cell_type": "code",
   "execution_count": 3,
   "source": [
    "query = {\n",
    "    \"criteria\": {\"nelements\": 2, \"e_above_hull\": 0},\n",
    "    \"properties\": [\"structure\", \"formation_energy_per_atom\"],\n",
    "}\n",
    "\n",
    "with MPRester(mp_key) as mpr:\n",
    "    full_df = pd.DataFrame(mpr.query(**query))\n"
   ],
   "outputs": [
    {
     "output_type": "display_data",
     "data": {
      "text/plain": [
       "  0%|          | 0/5272 [00:00<?, ?it/s]"
      ],
      "application/vnd.jupyter.widget-view+json": {
       "version_major": 2,
       "version_minor": 0,
       "model_id": "3b3fd9acc2024c3cad0f3bf9c658f5ca"
      }
     },
     "metadata": {}
    }
   ],
   "metadata": {}
  },
  {
   "cell_type": "code",
   "execution_count": 4,
   "source": [
    "full_df.head()"
   ],
   "outputs": [
    {
     "output_type": "execute_result",
     "data": {
      "text/plain": [
       "                                           structure  \\\n",
       "0  [[ 1.982598   -4.08421341  3.2051745 ] La, [1....   \n",
       "1    [[0. 0. 0.] Fe, [1.880473 1.880473 1.880473] H]   \n",
       "2  [[1.572998 0.       0.      ] Ta, [0.         ...   \n",
       "3  [[0.         0.         7.42288687] Hf, [0.   ...   \n",
       "4  [[ 1.823716   -3.94193291  3.47897025] Tm, [1....   \n",
       "\n",
       "   formation_energy_per_atom  \n",
       "0                  -0.737439  \n",
       "1                  -0.068482  \n",
       "2                  -0.773151  \n",
       "3                  -0.177707  \n",
       "4                  -0.905038  "
      ],
      "text/html": [
       "<div>\n",
       "<style scoped>\n",
       "    .dataframe tbody tr th:only-of-type {\n",
       "        vertical-align: middle;\n",
       "    }\n",
       "\n",
       "    .dataframe tbody tr th {\n",
       "        vertical-align: top;\n",
       "    }\n",
       "\n",
       "    .dataframe thead th {\n",
       "        text-align: right;\n",
       "    }\n",
       "</style>\n",
       "<table border=\"1\" class=\"dataframe\">\n",
       "  <thead>\n",
       "    <tr style=\"text-align: right;\">\n",
       "      <th></th>\n",
       "      <th>structure</th>\n",
       "      <th>formation_energy_per_atom</th>\n",
       "    </tr>\n",
       "  </thead>\n",
       "  <tbody>\n",
       "    <tr>\n",
       "      <th>0</th>\n",
       "      <td>[[ 1.982598   -4.08421341  3.2051745 ] La, [1....</td>\n",
       "      <td>-0.737439</td>\n",
       "    </tr>\n",
       "    <tr>\n",
       "      <th>1</th>\n",
       "      <td>[[0. 0. 0.] Fe, [1.880473 1.880473 1.880473] H]</td>\n",
       "      <td>-0.068482</td>\n",
       "    </tr>\n",
       "    <tr>\n",
       "      <th>2</th>\n",
       "      <td>[[1.572998 0.       0.      ] Ta, [0.         ...</td>\n",
       "      <td>-0.773151</td>\n",
       "    </tr>\n",
       "    <tr>\n",
       "      <th>3</th>\n",
       "      <td>[[0.         0.         7.42288687] Hf, [0.   ...</td>\n",
       "      <td>-0.177707</td>\n",
       "    </tr>\n",
       "    <tr>\n",
       "      <th>4</th>\n",
       "      <td>[[ 1.823716   -3.94193291  3.47897025] Tm, [1....</td>\n",
       "      <td>-0.905038</td>\n",
       "    </tr>\n",
       "  </tbody>\n",
       "</table>\n",
       "</div>"
      ]
     },
     "metadata": {},
     "execution_count": 4
    }
   ],
   "metadata": {}
  },
  {
   "cell_type": "code",
   "execution_count": 5,
   "source": [
    "TRAINING_RATIO: float = 0.8\n",
    "\n",
    "num_training = int(TRAINING_RATIO * len(full_df.index))\n",
    "train_df = full_df[:num_training]\n",
    "val_df = full_df[num_training:]\n",
    "\n",
    "print(f\"{num_training} training samples, {len(val_df.index)} validation samples.\")\n"
   ],
   "outputs": [
    {
     "output_type": "stream",
     "name": "stdout",
     "text": [
      "4217 training samples, 1055 validation samples.\n"
     ]
    }
   ],
   "metadata": {}
  },
  {
   "cell_type": "markdown",
   "source": [
    "# Model creation\n",
    "\n",
    "Now we load the `MEGNet` 2019 formation energies model, then convert this to a\n",
    "probabilistic model. We begin by first training this `MEGNetModel` on our data to\n",
    "achieve a slightly more precise fit.\n"
   ],
   "metadata": {}
  },
  {
   "cell_type": "code",
   "execution_count": 6,
   "source": [
    "meg_model = MEGNetModel.from_mvl_models(\"Eform_MP_2019\")\n"
   ],
   "outputs": [
    {
     "output_type": "stream",
     "name": "stderr",
     "text": [
      "INFO:megnet.utils.models:Package-level mvl_models not included, trying temperary mvl_models downloads..\n",
      "INFO:megnet.utils.models:Model found in local mvl_models path\n"
     ]
    },
    {
     "output_type": "stream",
     "name": "stdout",
     "text": [
      "WARNING:tensorflow:From /home/awsm/anaconda3/envs/unlockGNN/lib/python3.8/site-packages/tensorflow/python/ops/array_ops.py:5043: calling gather (from tensorflow.python.ops.array_ops) with validate_indices is deprecated and will be removed in a future version.\n",
      "Instructions for updating:\n",
      "The `validate_indices` argument has no effect. Indices are always validated on CPU and never validated on GPU.\n"
     ]
    },
    {
     "output_type": "stream",
     "name": "stderr",
     "text": [
      "WARNING:tensorflow:From /home/awsm/anaconda3/envs/unlockGNN/lib/python3.8/site-packages/tensorflow/python/ops/array_ops.py:5043: calling gather (from tensorflow.python.ops.array_ops) with validate_indices is deprecated and will be removed in a future version.\n",
      "Instructions for updating:\n",
      "The `validate_indices` argument has no effect. Indices are always validated on CPU and never validated on GPU.\n"
     ]
    }
   ],
   "metadata": {}
  },
  {
   "cell_type": "code",
   "execution_count": 7,
   "source": [
    "tb_callback_1 = TensorBoard(log_dir=LOG_DIR / \"megnet\", write_graph=False)\n",
    "\n",
    "train_structs = train_df[\"structure\"]\n",
    "val_structs = val_df[\"structure\"]\n",
    "\n",
    "train_targets = train_df[\"formation_energy_per_atom\"]\n",
    "val_targets = val_df[\"formation_energy_per_atom\"]"
   ],
   "outputs": [],
   "metadata": {}
  },
  {
   "cell_type": "code",
   "execution_count": 8,
   "source": [
    "# meg_model.train(\n",
    "#     train_structs,\n",
    "#     train_targets,\n",
    "#     val_structs,\n",
    "#     val_targets,\n",
    "#     epochs=10,\n",
    "#     batch_size=BATCH_SIZE,\n",
    "#     save_checkpoint=False,\n",
    "#     callbacks=[tb_callback_1]\n",
    "# )\n"
   ],
   "outputs": [],
   "metadata": {}
  },
  {
   "cell_type": "code",
   "execution_count": 9,
   "source": [
    "%load_ext tensorboard\n",
    "%tensorboard --logdir logs"
   ],
   "outputs": [
    {
     "output_type": "display_data",
     "data": {
      "text/plain": [
       "<IPython.core.display.HTML object>"
      ],
      "text/html": [
       "\n",
       "      <iframe id=\"tensorboard-frame-d1782cb2cda571b1\" width=\"100%\" height=\"800\" frameborder=\"0\">\n",
       "      </iframe>\n",
       "      <script>\n",
       "        (function() {\n",
       "          const frame = document.getElementById(\"tensorboard-frame-d1782cb2cda571b1\");\n",
       "          const url = new URL(\"/\", window.location);\n",
       "          const port = 6007;\n",
       "          if (port) {\n",
       "            url.port = port;\n",
       "          }\n",
       "          frame.src = url;\n",
       "        })();\n",
       "      </script>\n",
       "    "
      ]
     },
     "metadata": {}
    }
   ],
   "metadata": {}
  },
  {
   "cell_type": "code",
   "execution_count": 10,
   "source": [
    "KL_WEIGHT = BATCH_SIZE / num_training\n",
    "\n",
    "prob_model = MEGNetProbModel(\n",
    "    num_inducing_points=NUM_INDUCING_POINTS, save_path=MODEL_SAVE_DIR, meg_model=meg_model, kl_weight=KL_WEIGHT\n",
    ")\n"
   ],
   "outputs": [
    {
     "output_type": "stream",
     "name": "stdout",
     "text": [
      "INFO:tensorflow:Assets written to: binary_e_form_model/megnet/assets\n"
     ]
    },
    {
     "output_type": "stream",
     "name": "stderr",
     "text": [
      "/home/awsm/anaconda3/envs/unlockGNN/lib/python3.8/site-packages/tensorflow/python/keras/utils/generic_utils.py:494: CustomMaskWarning: Custom mask layers require a config and must override get_config. When loading, the custom mask layer must be passed to the custom_objects argument.\n",
      "  warnings.warn('Custom mask layers require a config and must override '\n",
      "INFO:tensorflow:Assets written to: binary_e_form_model/megnet/assets\n"
     ]
    },
    {
     "output_type": "stream",
     "name": "stdout",
     "text": [
      "INFO:tensorflow:Assets written to: binary_e_form_model/gnn/assets\n"
     ]
    },
    {
     "output_type": "stream",
     "name": "stderr",
     "text": [
      "/home/awsm/anaconda3/envs/unlockGNN/lib/python3.8/site-packages/tensorflow/python/keras/utils/generic_utils.py:494: CustomMaskWarning: Custom mask layers require a config and must override get_config. When loading, the custom mask layer must be passed to the custom_objects argument.\n",
      "  warnings.warn('Custom mask layers require a config and must override '\n",
      "INFO:tensorflow:Assets written to: binary_e_form_model/gnn/assets\n"
     ]
    },
    {
     "output_type": "stream",
     "name": "stdout",
     "text": [
      "WARNING:tensorflow:From /home/awsm/anaconda3/envs/unlockGNN/lib/python3.8/site-packages/tensorflow_probability/python/distributions/distribution.py:346: calling GaussianProcess.__init__ (from tensorflow_probability.python.distributions.gaussian_process) with jitter is deprecated and will be removed after 2021-05-10.\n",
      "Instructions for updating:\n",
      "`jitter` is deprecated; please use `marginal_fn` directly.\n"
     ]
    },
    {
     "output_type": "stream",
     "name": "stderr",
     "text": [
      "WARNING:tensorflow:From /home/awsm/anaconda3/envs/unlockGNN/lib/python3.8/site-packages/tensorflow_probability/python/distributions/distribution.py:346: calling GaussianProcess.__init__ (from tensorflow_probability.python.distributions.gaussian_process) with jitter is deprecated and will be removed after 2021-05-10.\n",
      "Instructions for updating:\n",
      "`jitter` is deprecated; please use `marginal_fn` directly.\n",
      "/home/awsm/anaconda3/envs/unlockGNN/lib/python3.8/site-packages/tensorflow_probability/python/distributions/gaussian_process.py:363: UserWarning: Unable to detect statically whether the number of index_points is 1. As a result, defaulting to treating the marginal GP at `index_points` as a multivariate Gaussian. This makes some methods, like `cdf` unavailable.\n",
      "  warnings.warn(\n"
     ]
    }
   ],
   "metadata": {}
  },
  {
   "cell_type": "markdown",
   "source": [
    "# Train the uncertainty quantifier\n",
    "\n",
    "Now we train the model. By default, the `MEGNet` (GNN) layers of the model are\n",
    "frozen after initialization. Therefore, when we call `prob_model.train()`, the\n",
    "only layers that are optimized are the `VariationalGaussianProcess` (VGP) and the\n",
    "`BatchNormalization` layer (`Norm`) that feeds into it.\n",
    "\n",
    "After this initial training, we will then fine tune the model by freezing the\n",
    "`Norm` and VGP layers and training just the GNN layers. Then, finally, we\n",
    "unfreeze _all_ the layers and train the full model simulateously.\n"
   ],
   "metadata": {}
  },
  {
   "cell_type": "code",
   "execution_count": 11,
   "source": [
    "tb_callback_2 = TensorBoard(log_dir=LOG_DIR / \"vgp_training\", write_graph=False)\n",
    "tb_callback_3 = TensorBoard(log_dir=LOG_DIR / \"gnn_training\", write_graph=False)\n",
    "tb_callback_4 = TensorBoard(log_dir=LOG_DIR / \"fine_tuning\", write_graph=False)\n"
   ],
   "outputs": [],
   "metadata": {}
  },
  {
   "cell_type": "code",
   "execution_count": 12,
   "source": [
    "prob_model.train(\n",
    "    train_structs,\n",
    "    train_targets,\n",
    "    epochs=50,\n",
    "    val_structs=val_structs,\n",
    "    val_targets=val_targets,\n",
    "    callbacks=[tb_callback_2],\n",
    ")\n"
   ],
   "outputs": [
    {
     "output_type": "stream",
     "name": "stdout",
     "text": [
      "Epoch 1/50\n"
     ]
    },
    {
     "output_type": "stream",
     "name": "stderr",
     "text": [
      "/home/awsm/anaconda3/envs/unlockGNN/lib/python3.8/site-packages/tensorflow/python/framework/indexed_slices.py:447: UserWarning: Converting sparse IndexedSlices(IndexedSlices(indices=Tensor(\"gradient_tape/model/set2_set_1/Reshape_9:0\", shape=(None,), dtype=int32), values=Tensor(\"gradient_tape/model/set2_set_1/Reshape_8:0\", shape=(None,), dtype=float32), dense_shape=Tensor(\"gradient_tape/model/set2_set_1/Cast:0\", shape=(1,), dtype=int32))) to a dense Tensor of unknown shape. This may consume a large amount of memory.\n",
      "  warnings.warn(\n",
      "/home/awsm/anaconda3/envs/unlockGNN/lib/python3.8/site-packages/tensorflow/python/framework/indexed_slices.py:447: UserWarning: Converting sparse IndexedSlices(IndexedSlices(indices=Tensor(\"gradient_tape/model/set2_set_2/Reshape_9:0\", shape=(None,), dtype=int32), values=Tensor(\"gradient_tape/model/set2_set_2/Reshape_8:0\", shape=(None,), dtype=float32), dense_shape=Tensor(\"gradient_tape/model/set2_set_2/Cast:0\", shape=(1,), dtype=int32))) to a dense Tensor of unknown shape. This may consume a large amount of memory.\n",
      "  warnings.warn(\n",
      "/home/awsm/anaconda3/envs/unlockGNN/lib/python3.8/site-packages/tensorflow/python/framework/indexed_slices.py:447: UserWarning: Converting sparse IndexedSlices(IndexedSlices(indices=Tensor(\"gradient_tape/model/set2_set_1/Reshape_27:0\", shape=(None,), dtype=int32), values=Tensor(\"gradient_tape/model/set2_set_1/Reshape_26:0\", shape=(None,), dtype=float32), dense_shape=Tensor(\"gradient_tape/model/set2_set_1/Cast_2:0\", shape=(1,), dtype=int32))) to a dense Tensor of unknown shape. This may consume a large amount of memory.\n",
      "  warnings.warn(\n",
      "/home/awsm/anaconda3/envs/unlockGNN/lib/python3.8/site-packages/tensorflow/python/framework/indexed_slices.py:447: UserWarning: Converting sparse IndexedSlices(IndexedSlices(indices=Tensor(\"gradient_tape/model/set2_set_2/Reshape_27:0\", shape=(None,), dtype=int32), values=Tensor(\"gradient_tape/model/set2_set_2/Reshape_26:0\", shape=(None,), dtype=float32), dense_shape=Tensor(\"gradient_tape/model/set2_set_2/Cast_2:0\", shape=(1,), dtype=int32))) to a dense Tensor of unknown shape. This may consume a large amount of memory.\n",
      "  warnings.warn(\n"
     ]
    },
    {
     "output_type": "stream",
     "name": "stdout",
     "text": [
      "33/33 - 46s - loss: 11720238.0000 - mae: 0.6338 - val_loss: 2359155.0000 - val_mae: 0.6285\n",
      "Epoch 2/50\n",
      "33/33 - 39s - loss: 2124926.7500 - mae: 0.6077 - val_loss: 1893577.3750 - val_mae: 0.6012\n",
      "Epoch 3/50\n",
      "33/33 - 38s - loss: 1931274.2500 - mae: 0.5884 - val_loss: 1808416.8750 - val_mae: 0.5905\n",
      "Epoch 4/50\n"
     ]
    }
   ],
   "metadata": {}
  },
  {
   "cell_type": "code",
   "execution_count": null,
   "source": [
    "prob_model.set_frozen(\"VGP\", recompile=False)\n",
    "# Don't recompile until we've got all the freezing/thawing sorted!\n",
    "prob_model.set_frozen(\"GNN\", freeze=False, recompile=True)\n"
   ],
   "outputs": [],
   "metadata": {}
  },
  {
   "cell_type": "code",
   "execution_count": null,
   "source": [
    "prob_model.train(\n",
    "    train_structs,\n",
    "    train_targets,\n",
    "    epochs=100,\n",
    "    val_structs=val_structs,\n",
    "    val_targets=val_targets,\n",
    "    callbacks=[tb_callback_3],\n",
    ")\n"
   ],
   "outputs": [
    {
     "output_type": "stream",
     "name": "stdout",
     "text": [
      "Epoch 1/100\n",
      "33/33 - 22s - loss: 80863.4297 - mae: 0.6572 - val_loss: 44132.7539 - val_mae: 0.6679\n",
      "Epoch 2/100\n",
      "33/33 - 10s - loss: 22800.8184 - mae: 0.6724 - val_loss: 12553.1104 - val_mae: 0.7181\n",
      "Epoch 3/100\n",
      "33/33 - 10s - loss: 8190.4604 - mae: 0.6770 - val_loss: 8790.3799 - val_mae: 0.6918\n",
      "Epoch 4/100\n",
      "33/33 - 10s - loss: 5164.6772 - mae: 0.6776 - val_loss: 7416.4678 - val_mae: 0.6995\n",
      "Epoch 5/100\n",
      "33/33 - 10s - loss: 4210.4551 - mae: 0.6775 - val_loss: 6145.9316 - val_mae: 0.7040\n",
      "Epoch 6/100\n",
      "33/33 - 10s - loss: 3112.9285 - mae: 0.6776 - val_loss: 5781.2090 - val_mae: 0.7083\n",
      "Epoch 7/100\n",
      "33/33 - 10s - loss: 2659.3921 - mae: 0.6780 - val_loss: 5394.1660 - val_mae: 0.7019\n",
      "Epoch 8/100\n",
      "33/33 - 10s - loss: 2354.1545 - mae: 0.6790 - val_loss: 5417.5601 - val_mae: 0.7034\n",
      "Epoch 9/100\n",
      "33/33 - 10s - loss: 2110.5874 - mae: 0.6775 - val_loss: 5164.2505 - val_mae: 0.7054\n",
      "Epoch 10/100\n",
      "33/33 - 10s - loss: 1863.1519 - mae: 0.6793 - val_loss: 4982.6191 - val_mae: 0.7038\n",
      "Epoch 11/100\n",
      "33/33 - 10s - loss: 1782.6689 - mae: 0.6783 - val_loss: 4901.4097 - val_mae: 0.7100\n",
      "Epoch 12/100\n",
      "33/33 - 10s - loss: 1634.8467 - mae: 0.6800 - val_loss: 4854.9365 - val_mae: 0.7047\n",
      "Epoch 13/100\n",
      "33/33 - 10s - loss: 1522.9707 - mae: 0.6791 - val_loss: 4766.6592 - val_mae: 0.6957\n",
      "Epoch 14/100\n",
      "33/33 - 10s - loss: 1453.5636 - mae: 0.6793 - val_loss: 4805.5918 - val_mae: 0.7065\n",
      "Epoch 15/100\n",
      "33/33 - 10s - loss: 1391.7372 - mae: 0.6800 - val_loss: 4663.8906 - val_mae: 0.7011\n",
      "Epoch 16/100\n",
      "33/33 - 10s - loss: 1335.2629 - mae: 0.6792 - val_loss: 4618.1841 - val_mae: 0.7041\n",
      "Epoch 17/100\n",
      "33/33 - 10s - loss: 1297.5667 - mae: 0.6789 - val_loss: 4647.1611 - val_mae: 0.7022\n",
      "Epoch 18/100\n",
      "33/33 - 10s - loss: 1250.1691 - mae: 0.6796 - val_loss: 4655.5337 - val_mae: 0.7063\n",
      "Epoch 19/100\n",
      "33/33 - 10s - loss: 1238.1504 - mae: 0.6786 - val_loss: 4581.0356 - val_mae: 0.7034\n",
      "Epoch 20/100\n",
      "33/33 - 10s - loss: 1180.6963 - mae: 0.6785 - val_loss: 4557.5879 - val_mae: 0.7074\n",
      "Epoch 21/100\n",
      "33/33 - 10s - loss: 1146.2979 - mae: 0.6779 - val_loss: 4517.5464 - val_mae: 0.7053\n",
      "Epoch 22/100\n",
      "33/33 - 10s - loss: 1135.1958 - mae: 0.6786 - val_loss: 4512.6543 - val_mae: 0.7062\n",
      "Epoch 23/100\n",
      "33/33 - 10s - loss: 1084.1301 - mae: 0.6785 - val_loss: 4540.4883 - val_mae: 0.7055\n",
      "Epoch 24/100\n",
      "33/33 - 10s - loss: 1061.4867 - mae: 0.6794 - val_loss: 4517.9917 - val_mae: 0.7027\n",
      "Epoch 25/100\n",
      "33/33 - 10s - loss: 1040.6300 - mae: 0.6800 - val_loss: 4552.3267 - val_mae: 0.7067\n",
      "Epoch 26/100\n",
      "33/33 - 10s - loss: 1021.3686 - mae: 0.6792 - val_loss: 4416.2598 - val_mae: 0.7041\n",
      "Epoch 27/100\n",
      "33/33 - 10s - loss: 999.0295 - mae: 0.6799 - val_loss: 4387.5806 - val_mae: 0.7022\n",
      "Epoch 28/100\n",
      "33/33 - 10s - loss: 972.6104 - mae: 0.6786 - val_loss: 4513.8052 - val_mae: 0.7032\n",
      "Epoch 29/100\n",
      "33/33 - 10s - loss: 965.8441 - mae: 0.6788 - val_loss: 4409.9404 - val_mae: 0.7054\n",
      "Epoch 30/100\n",
      "33/33 - 10s - loss: 964.5129 - mae: 0.6800 - val_loss: 4448.7842 - val_mae: 0.7023\n",
      "Epoch 31/100\n",
      "33/33 - 10s - loss: 964.7834 - mae: 0.6794 - val_loss: 4399.0698 - val_mae: 0.7019\n",
      "Epoch 32/100\n",
      "33/33 - 10s - loss: 953.3380 - mae: 0.6803 - val_loss: 4399.6343 - val_mae: 0.7050\n",
      "Epoch 33/100\n",
      "33/33 - 10s - loss: 964.5718 - mae: 0.6793 - val_loss: 4368.2261 - val_mae: 0.7035\n",
      "Epoch 34/100\n",
      "33/33 - 10s - loss: 945.3743 - mae: 0.6800 - val_loss: 4405.4526 - val_mae: 0.7017\n",
      "Epoch 35/100\n",
      "33/33 - 10s - loss: 920.6042 - mae: 0.6786 - val_loss: 4404.2349 - val_mae: 0.7027\n",
      "Epoch 36/100\n",
      "33/33 - 10s - loss: 892.5299 - mae: 0.6796 - val_loss: 4381.8306 - val_mae: 0.7069\n",
      "Epoch 37/100\n",
      "33/33 - 10s - loss: 868.4392 - mae: 0.6799 - val_loss: 4408.5190 - val_mae: 0.7050\n",
      "Epoch 38/100\n",
      "33/33 - 10s - loss: 858.3840 - mae: 0.6792 - val_loss: 4446.3340 - val_mae: 0.7038\n",
      "Epoch 39/100\n",
      "33/33 - 10s - loss: 843.7213 - mae: 0.6799 - val_loss: 4351.2900 - val_mae: 0.7060\n",
      "Epoch 40/100\n",
      "33/33 - 10s - loss: 833.7229 - mae: 0.6789 - val_loss: 4339.3838 - val_mae: 0.7022\n",
      "Epoch 41/100\n",
      "33/33 - 10s - loss: 841.8278 - mae: 0.6802 - val_loss: 4331.3359 - val_mae: 0.7060\n",
      "Epoch 42/100\n",
      "33/33 - 10s - loss: 825.6931 - mae: 0.6807 - val_loss: 4439.4766 - val_mae: 0.7057\n",
      "Epoch 43/100\n",
      "33/33 - 10s - loss: 816.0323 - mae: 0.6803 - val_loss: 4410.8384 - val_mae: 0.7075\n",
      "Epoch 44/100\n",
      "33/33 - 10s - loss: 816.7947 - mae: 0.6789 - val_loss: 4394.8936 - val_mae: 0.7037\n",
      "Epoch 45/100\n",
      "33/33 - 10s - loss: 816.6482 - mae: 0.6792 - val_loss: 4369.2637 - val_mae: 0.7043\n",
      "Epoch 46/100\n",
      "33/33 - 10s - loss: 806.4165 - mae: 0.6791 - val_loss: 4328.4106 - val_mae: 0.7030\n",
      "Epoch 47/100\n",
      "33/33 - 10s - loss: 790.9308 - mae: 0.6789 - val_loss: 4431.1802 - val_mae: 0.7065\n",
      "Epoch 48/100\n",
      "33/33 - 10s - loss: 780.0241 - mae: 0.6800 - val_loss: 4357.2485 - val_mae: 0.7048\n",
      "Epoch 49/100\n",
      "33/33 - 10s - loss: 766.2258 - mae: 0.6804 - val_loss: 4385.6792 - val_mae: 0.7029\n",
      "Epoch 50/100\n",
      "33/33 - 10s - loss: 766.7916 - mae: 0.6793 - val_loss: 4457.1836 - val_mae: 0.7084\n",
      "Epoch 51/100\n",
      "33/33 - 10s - loss: 767.1252 - mae: 0.6793 - val_loss: 4324.2949 - val_mae: 0.7064\n",
      "Epoch 52/100\n",
      "33/33 - 10s - loss: 756.2569 - mae: 0.6788 - val_loss: 4357.1113 - val_mae: 0.7036\n",
      "Epoch 53/100\n",
      "33/33 - 10s - loss: 758.3624 - mae: 0.6801 - val_loss: 4403.2817 - val_mae: 0.7058\n",
      "Epoch 54/100\n",
      "33/33 - 10s - loss: 769.3876 - mae: 0.6803 - val_loss: 4321.0801 - val_mae: 0.7040\n",
      "Epoch 55/100\n",
      "33/33 - 10s - loss: 755.3436 - mae: 0.6799 - val_loss: 4378.4395 - val_mae: 0.7070\n",
      "Epoch 56/100\n",
      "33/33 - 10s - loss: 756.0291 - mae: 0.6793 - val_loss: 4434.2324 - val_mae: 0.7060\n",
      "Epoch 57/100\n",
      "33/33 - 10s - loss: 773.1804 - mae: 0.6815 - val_loss: 4374.8916 - val_mae: 0.7064\n",
      "Epoch 58/100\n",
      "33/33 - 10s - loss: 782.7733 - mae: 0.6797 - val_loss: 4293.7241 - val_mae: 0.7002\n",
      "Epoch 59/100\n",
      "33/33 - 10s - loss: 764.0879 - mae: 0.6801 - val_loss: 4357.2310 - val_mae: 0.7042\n",
      "Epoch 60/100\n",
      "33/33 - 10s - loss: 762.4847 - mae: 0.6800 - val_loss: 4323.4014 - val_mae: 0.7038\n",
      "Epoch 61/100\n",
      "33/33 - 10s - loss: 741.0235 - mae: 0.6799 - val_loss: 4295.5020 - val_mae: 0.7039\n",
      "Epoch 62/100\n",
      "33/33 - 10s - loss: 724.8121 - mae: 0.6796 - val_loss: 4342.1685 - val_mae: 0.7044\n",
      "Epoch 63/100\n",
      "33/33 - 10s - loss: 709.6125 - mae: 0.6804 - val_loss: 4348.0703 - val_mae: 0.7057\n",
      "Epoch 64/100\n",
      "33/33 - 10s - loss: 708.0584 - mae: 0.6798 - val_loss: 4364.4736 - val_mae: 0.7042\n",
      "Epoch 65/100\n",
      "33/33 - 10s - loss: 706.6369 - mae: 0.6795 - val_loss: 4384.1719 - val_mae: 0.7044\n",
      "Epoch 66/100\n",
      "33/33 - 10s - loss: 701.5948 - mae: 0.6792 - val_loss: 4391.2886 - val_mae: 0.7037\n",
      "Epoch 67/100\n",
      "33/33 - 10s - loss: 719.0862 - mae: 0.6796 - val_loss: 4377.4829 - val_mae: 0.7040\n",
      "Epoch 68/100\n",
      "33/33 - 10s - loss: 727.3200 - mae: 0.6796 - val_loss: 4286.7153 - val_mae: 0.7047\n",
      "Epoch 69/100\n",
      "33/33 - 11s - loss: 723.6478 - mae: 0.6800 - val_loss: 4343.5444 - val_mae: 0.7024\n",
      "Epoch 70/100\n",
      "33/33 - 11s - loss: 716.1513 - mae: 0.6794 - val_loss: 4447.8613 - val_mae: 0.7072\n",
      "Epoch 71/100\n"
     ]
    },
    {
     "output_type": "error",
     "ename": "KeyboardInterrupt",
     "evalue": "",
     "traceback": [
      "\u001b[0;31m---------------------------------------------------------------------------\u001b[0m",
      "\u001b[0;31mKeyboardInterrupt\u001b[0m                         Traceback (most recent call last)",
      "\u001b[0;32m<ipython-input-14-8cc1867836a9>\u001b[0m in \u001b[0;36m<module>\u001b[0;34m\u001b[0m\n\u001b[0;32m----> 1\u001b[0;31m prob_model.train(\n\u001b[0m\u001b[1;32m      2\u001b[0m     \u001b[0mtrain_structs\u001b[0m\u001b[0;34m,\u001b[0m\u001b[0;34m\u001b[0m\u001b[0;34m\u001b[0m\u001b[0m\n\u001b[1;32m      3\u001b[0m     \u001b[0mtrain_targets\u001b[0m\u001b[0;34m,\u001b[0m\u001b[0;34m\u001b[0m\u001b[0;34m\u001b[0m\u001b[0m\n\u001b[1;32m      4\u001b[0m     \u001b[0mepochs\u001b[0m\u001b[0;34m=\u001b[0m\u001b[0;36m100\u001b[0m\u001b[0;34m,\u001b[0m\u001b[0;34m\u001b[0m\u001b[0;34m\u001b[0m\u001b[0m\n\u001b[1;32m      5\u001b[0m     \u001b[0mval_structs\u001b[0m\u001b[0;34m=\u001b[0m\u001b[0mval_structs\u001b[0m\u001b[0;34m,\u001b[0m\u001b[0;34m\u001b[0m\u001b[0;34m\u001b[0m\u001b[0m\n",
      "\u001b[0;32m~/dev/unlockGNN/unlockgnn/model.py\u001b[0m in \u001b[0;36mtrain\u001b[0;34m(self, structs, targets, epochs, val_structs, val_targets, callbacks, use_default_ckpt_handler, batch_size, scrub_failed_structs, verbose)\u001b[0m\n\u001b[1;32m    554\u001b[0m \u001b[0;34m\u001b[0m\u001b[0m\n\u001b[1;32m    555\u001b[0m         \u001b[0;31m# Train\u001b[0m\u001b[0;34m\u001b[0m\u001b[0;34m\u001b[0m\u001b[0;34m\u001b[0m\u001b[0m\n\u001b[0;32m--> 556\u001b[0;31m         self.model.fit(\n\u001b[0m\u001b[1;32m    557\u001b[0m             \u001b[0mtrain_gen\u001b[0m\u001b[0;34m,\u001b[0m\u001b[0;34m\u001b[0m\u001b[0;34m\u001b[0m\u001b[0m\n\u001b[1;32m    558\u001b[0m             \u001b[0msteps_per_epoch\u001b[0m\u001b[0;34m=\u001b[0m\u001b[0msteps_per_train\u001b[0m\u001b[0;34m,\u001b[0m\u001b[0;34m\u001b[0m\u001b[0;34m\u001b[0m\u001b[0m\n",
      "\u001b[0;32m~/anaconda3/envs/unlockGNN/lib/python3.8/site-packages/tensorflow/python/keras/engine/training.py\u001b[0m in \u001b[0;36mfit\u001b[0;34m(self, x, y, batch_size, epochs, verbose, callbacks, validation_split, validation_data, shuffle, class_weight, sample_weight, initial_epoch, steps_per_epoch, validation_steps, validation_batch_size, validation_freq, max_queue_size, workers, use_multiprocessing)\u001b[0m\n\u001b[1;32m   1181\u001b[0m                 _r=1):\n\u001b[1;32m   1182\u001b[0m               \u001b[0mcallbacks\u001b[0m\u001b[0;34m.\u001b[0m\u001b[0mon_train_batch_begin\u001b[0m\u001b[0;34m(\u001b[0m\u001b[0mstep\u001b[0m\u001b[0;34m)\u001b[0m\u001b[0;34m\u001b[0m\u001b[0;34m\u001b[0m\u001b[0m\n\u001b[0;32m-> 1183\u001b[0;31m               \u001b[0mtmp_logs\u001b[0m \u001b[0;34m=\u001b[0m \u001b[0mself\u001b[0m\u001b[0;34m.\u001b[0m\u001b[0mtrain_function\u001b[0m\u001b[0;34m(\u001b[0m\u001b[0miterator\u001b[0m\u001b[0;34m)\u001b[0m\u001b[0;34m\u001b[0m\u001b[0;34m\u001b[0m\u001b[0m\n\u001b[0m\u001b[1;32m   1184\u001b[0m               \u001b[0;32mif\u001b[0m \u001b[0mdata_handler\u001b[0m\u001b[0;34m.\u001b[0m\u001b[0mshould_sync\u001b[0m\u001b[0;34m:\u001b[0m\u001b[0;34m\u001b[0m\u001b[0;34m\u001b[0m\u001b[0m\n\u001b[1;32m   1185\u001b[0m                 \u001b[0mcontext\u001b[0m\u001b[0;34m.\u001b[0m\u001b[0masync_wait\u001b[0m\u001b[0;34m(\u001b[0m\u001b[0;34m)\u001b[0m\u001b[0;34m\u001b[0m\u001b[0;34m\u001b[0m\u001b[0m\n",
      "\u001b[0;32m~/anaconda3/envs/unlockGNN/lib/python3.8/site-packages/tensorflow/python/eager/def_function.py\u001b[0m in \u001b[0;36m__call__\u001b[0;34m(self, *args, **kwds)\u001b[0m\n\u001b[1;32m    887\u001b[0m \u001b[0;34m\u001b[0m\u001b[0m\n\u001b[1;32m    888\u001b[0m       \u001b[0;32mwith\u001b[0m \u001b[0mOptionalXlaContext\u001b[0m\u001b[0;34m(\u001b[0m\u001b[0mself\u001b[0m\u001b[0;34m.\u001b[0m\u001b[0m_jit_compile\u001b[0m\u001b[0;34m)\u001b[0m\u001b[0;34m:\u001b[0m\u001b[0;34m\u001b[0m\u001b[0;34m\u001b[0m\u001b[0m\n\u001b[0;32m--> 889\u001b[0;31m         \u001b[0mresult\u001b[0m \u001b[0;34m=\u001b[0m \u001b[0mself\u001b[0m\u001b[0;34m.\u001b[0m\u001b[0m_call\u001b[0m\u001b[0;34m(\u001b[0m\u001b[0;34m*\u001b[0m\u001b[0margs\u001b[0m\u001b[0;34m,\u001b[0m \u001b[0;34m**\u001b[0m\u001b[0mkwds\u001b[0m\u001b[0;34m)\u001b[0m\u001b[0;34m\u001b[0m\u001b[0;34m\u001b[0m\u001b[0m\n\u001b[0m\u001b[1;32m    890\u001b[0m \u001b[0;34m\u001b[0m\u001b[0m\n\u001b[1;32m    891\u001b[0m       \u001b[0mnew_tracing_count\u001b[0m \u001b[0;34m=\u001b[0m \u001b[0mself\u001b[0m\u001b[0;34m.\u001b[0m\u001b[0mexperimental_get_tracing_count\u001b[0m\u001b[0;34m(\u001b[0m\u001b[0;34m)\u001b[0m\u001b[0;34m\u001b[0m\u001b[0;34m\u001b[0m\u001b[0m\n",
      "\u001b[0;32m~/anaconda3/envs/unlockGNN/lib/python3.8/site-packages/tensorflow/python/eager/def_function.py\u001b[0m in \u001b[0;36m_call\u001b[0;34m(self, *args, **kwds)\u001b[0m\n\u001b[1;32m    915\u001b[0m       \u001b[0;31m# In this case we have created variables on the first call, so we run the\u001b[0m\u001b[0;34m\u001b[0m\u001b[0;34m\u001b[0m\u001b[0;34m\u001b[0m\u001b[0m\n\u001b[1;32m    916\u001b[0m       \u001b[0;31m# defunned version which is guaranteed to never create variables.\u001b[0m\u001b[0;34m\u001b[0m\u001b[0;34m\u001b[0m\u001b[0;34m\u001b[0m\u001b[0m\n\u001b[0;32m--> 917\u001b[0;31m       \u001b[0;32mreturn\u001b[0m \u001b[0mself\u001b[0m\u001b[0;34m.\u001b[0m\u001b[0m_stateless_fn\u001b[0m\u001b[0;34m(\u001b[0m\u001b[0;34m*\u001b[0m\u001b[0margs\u001b[0m\u001b[0;34m,\u001b[0m \u001b[0;34m**\u001b[0m\u001b[0mkwds\u001b[0m\u001b[0;34m)\u001b[0m  \u001b[0;31m# pylint: disable=not-callable\u001b[0m\u001b[0;34m\u001b[0m\u001b[0;34m\u001b[0m\u001b[0m\n\u001b[0m\u001b[1;32m    918\u001b[0m     \u001b[0;32melif\u001b[0m \u001b[0mself\u001b[0m\u001b[0;34m.\u001b[0m\u001b[0m_stateful_fn\u001b[0m \u001b[0;32mis\u001b[0m \u001b[0;32mnot\u001b[0m \u001b[0;32mNone\u001b[0m\u001b[0;34m:\u001b[0m\u001b[0;34m\u001b[0m\u001b[0;34m\u001b[0m\u001b[0m\n\u001b[1;32m    919\u001b[0m       \u001b[0;31m# Release the lock early so that multiple threads can perform the call\u001b[0m\u001b[0;34m\u001b[0m\u001b[0;34m\u001b[0m\u001b[0;34m\u001b[0m\u001b[0m\n",
      "\u001b[0;32m~/anaconda3/envs/unlockGNN/lib/python3.8/site-packages/tensorflow/python/eager/function.py\u001b[0m in \u001b[0;36m__call__\u001b[0;34m(self, *args, **kwargs)\u001b[0m\n\u001b[1;32m   3021\u001b[0m       (graph_function,\n\u001b[1;32m   3022\u001b[0m        filtered_flat_args) = self._maybe_define_function(args, kwargs)\n\u001b[0;32m-> 3023\u001b[0;31m     return graph_function._call_flat(\n\u001b[0m\u001b[1;32m   3024\u001b[0m         filtered_flat_args, captured_inputs=graph_function.captured_inputs)  # pylint: disable=protected-access\n\u001b[1;32m   3025\u001b[0m \u001b[0;34m\u001b[0m\u001b[0m\n",
      "\u001b[0;32m~/anaconda3/envs/unlockGNN/lib/python3.8/site-packages/tensorflow/python/eager/function.py\u001b[0m in \u001b[0;36m_call_flat\u001b[0;34m(self, args, captured_inputs, cancellation_manager)\u001b[0m\n\u001b[1;32m   1958\u001b[0m         and executing_eagerly):\n\u001b[1;32m   1959\u001b[0m       \u001b[0;31m# No tape is watching; skip to running the function.\u001b[0m\u001b[0;34m\u001b[0m\u001b[0;34m\u001b[0m\u001b[0;34m\u001b[0m\u001b[0m\n\u001b[0;32m-> 1960\u001b[0;31m       return self._build_call_outputs(self._inference_function.call(\n\u001b[0m\u001b[1;32m   1961\u001b[0m           ctx, args, cancellation_manager=cancellation_manager))\n\u001b[1;32m   1962\u001b[0m     forward_backward = self._select_forward_and_backward_functions(\n",
      "\u001b[0;32m~/anaconda3/envs/unlockGNN/lib/python3.8/site-packages/tensorflow/python/eager/function.py\u001b[0m in \u001b[0;36mcall\u001b[0;34m(self, ctx, args, cancellation_manager)\u001b[0m\n\u001b[1;32m    589\u001b[0m       \u001b[0;32mwith\u001b[0m \u001b[0m_InterpolateFunctionError\u001b[0m\u001b[0;34m(\u001b[0m\u001b[0mself\u001b[0m\u001b[0;34m)\u001b[0m\u001b[0;34m:\u001b[0m\u001b[0;34m\u001b[0m\u001b[0;34m\u001b[0m\u001b[0m\n\u001b[1;32m    590\u001b[0m         \u001b[0;32mif\u001b[0m \u001b[0mcancellation_manager\u001b[0m \u001b[0;32mis\u001b[0m \u001b[0;32mNone\u001b[0m\u001b[0;34m:\u001b[0m\u001b[0;34m\u001b[0m\u001b[0;34m\u001b[0m\u001b[0m\n\u001b[0;32m--> 591\u001b[0;31m           outputs = execute.execute(\n\u001b[0m\u001b[1;32m    592\u001b[0m               \u001b[0mstr\u001b[0m\u001b[0;34m(\u001b[0m\u001b[0mself\u001b[0m\u001b[0;34m.\u001b[0m\u001b[0msignature\u001b[0m\u001b[0;34m.\u001b[0m\u001b[0mname\u001b[0m\u001b[0;34m)\u001b[0m\u001b[0;34m,\u001b[0m\u001b[0;34m\u001b[0m\u001b[0;34m\u001b[0m\u001b[0m\n\u001b[1;32m    593\u001b[0m               \u001b[0mnum_outputs\u001b[0m\u001b[0;34m=\u001b[0m\u001b[0mself\u001b[0m\u001b[0;34m.\u001b[0m\u001b[0m_num_outputs\u001b[0m\u001b[0;34m,\u001b[0m\u001b[0;34m\u001b[0m\u001b[0;34m\u001b[0m\u001b[0m\n",
      "\u001b[0;32m~/anaconda3/envs/unlockGNN/lib/python3.8/site-packages/tensorflow/python/eager/execute.py\u001b[0m in \u001b[0;36mquick_execute\u001b[0;34m(op_name, num_outputs, inputs, attrs, ctx, name)\u001b[0m\n\u001b[1;32m     57\u001b[0m   \u001b[0;32mtry\u001b[0m\u001b[0;34m:\u001b[0m\u001b[0;34m\u001b[0m\u001b[0;34m\u001b[0m\u001b[0m\n\u001b[1;32m     58\u001b[0m     \u001b[0mctx\u001b[0m\u001b[0;34m.\u001b[0m\u001b[0mensure_initialized\u001b[0m\u001b[0;34m(\u001b[0m\u001b[0;34m)\u001b[0m\u001b[0;34m\u001b[0m\u001b[0;34m\u001b[0m\u001b[0m\n\u001b[0;32m---> 59\u001b[0;31m     tensors = pywrap_tfe.TFE_Py_Execute(ctx._handle, device_name, op_name,\n\u001b[0m\u001b[1;32m     60\u001b[0m                                         inputs, attrs, num_outputs)\n\u001b[1;32m     61\u001b[0m   \u001b[0;32mexcept\u001b[0m \u001b[0mcore\u001b[0m\u001b[0;34m.\u001b[0m\u001b[0m_NotOkStatusException\u001b[0m \u001b[0;32mas\u001b[0m \u001b[0me\u001b[0m\u001b[0;34m:\u001b[0m\u001b[0;34m\u001b[0m\u001b[0;34m\u001b[0m\u001b[0m\n",
      "\u001b[0;31mKeyboardInterrupt\u001b[0m: "
     ]
    }
   ],
   "metadata": {}
  },
  {
   "cell_type": "code",
   "execution_count": null,
   "source": [
    "prob_model.set_frozen([\"GNN\", \"Norm\", \"VGP\"], freeze=False)"
   ],
   "outputs": [],
   "metadata": {}
  },
  {
   "cell_type": "code",
   "execution_count": null,
   "source": [
    "prob_model.train(\n",
    "    train_structs,\n",
    "    train_targets,\n",
    "    epochs=50,\n",
    "    val_structs=val_structs,\n",
    "    val_targets=val_targets,\n",
    "    callbacks=[tb_callback_4],\n",
    ")"
   ],
   "outputs": [],
   "metadata": {}
  },
  {
   "cell_type": "code",
   "execution_count": null,
   "source": [
    "prob_model.save()"
   ],
   "outputs": [],
   "metadata": {}
  },
  {
   "cell_type": "markdown",
   "source": [
    "# Model evaluation\n",
    "\n",
    "Finally, we'll evaluate model metrics and make some sample predictions! Note that the predictions give predicted values and standard deviations. The standard deviations can then be converted to an uncertainty;\n",
    "in this example, we'll take the uncertainty as twice the standard deviation, which will give us the 95% confidence interval (see <https://en.wikipedia.org/wiki/68%E2%80%9395%E2%80%9399.7_rule>).\n"
   ],
   "metadata": {}
  },
  {
   "cell_type": "code",
   "execution_count": null,
   "source": [
    "prob_model.evaluate(val_structs, val_targets)\n"
   ],
   "outputs": [
    {
     "output_type": "stream",
     "name": "stdout",
     "text": [
      "9/9 [==============================] - 2s 183ms/step - loss: 6162.5742 - mae: 0.7021\n"
     ]
    },
    {
     "output_type": "execute_result",
     "data": {
      "text/plain": [
       "{'loss': 6162.57421875, 'mae': 0.7020843029022217}"
      ]
     },
     "metadata": {},
     "execution_count": 13
    }
   ],
   "metadata": {}
  },
  {
   "cell_type": "code",
   "execution_count": null,
   "source": [
    "example_structs = val_structs[:10].tolist()\n",
    "example_targets = val_targets[:10].tolist()\n",
    "\n",
    "predicted, stddevs = prob_model.predict(example_structs)\n",
    "uncerts = 2 * stddevs\n"
   ],
   "outputs": [],
   "metadata": {}
  },
  {
   "cell_type": "code",
   "execution_count": null,
   "source": [
    "pd.DataFrame(\n",
    "    {\n",
    "        \"Composition\": [struct.composition.reduced_formula for struct in example_structs],\n",
    "        \"Formation energy per atom / eV\": example_targets,\n",
    "        \"Predicted / eV\": [\n",
    "            f\"{pred:.2f} ± {uncert:.2f}\" for pred, uncert in zip(predicted, stddevs)\n",
    "        ],\n",
    "    }\n",
    ")\n"
   ],
   "outputs": [
    {
     "output_type": "execute_result",
     "data": {
      "text/plain": [
       "  Composition  Formation energy per atom / eV Predicted / eV\n",
       "0       Zr2Cu                       -0.132384   -0.08 ± 0.02\n",
       "1        NbRh                       -0.401313   -0.49 ± 0.02\n",
       "2       Cu3Ge                       -0.005707   -0.04 ± 0.02\n",
       "3       Pr3In                       -0.273232   -0.18 ± 0.02\n",
       "4         InS                       -0.742895   -0.80 ± 0.02\n",
       "5       TmPb3                       -0.215892   -0.18 ± 0.02\n",
       "6        InNi                       -0.174754   -0.19 ± 0.02\n",
       "7        GdGe                       -0.857117   -0.82 ± 0.02\n",
       "8        GdTl                       -0.380423   -0.42 ± 0.02\n",
       "9       HoTl3                       -0.215986   -0.20 ± 0.02"
      ],
      "text/html": [
       "<div>\n",
       "<style scoped>\n",
       "    .dataframe tbody tr th:only-of-type {\n",
       "        vertical-align: middle;\n",
       "    }\n",
       "\n",
       "    .dataframe tbody tr th {\n",
       "        vertical-align: top;\n",
       "    }\n",
       "\n",
       "    .dataframe thead th {\n",
       "        text-align: right;\n",
       "    }\n",
       "</style>\n",
       "<table border=\"1\" class=\"dataframe\">\n",
       "  <thead>\n",
       "    <tr style=\"text-align: right;\">\n",
       "      <th></th>\n",
       "      <th>Composition</th>\n",
       "      <th>Formation energy per atom / eV</th>\n",
       "      <th>Predicted / eV</th>\n",
       "    </tr>\n",
       "  </thead>\n",
       "  <tbody>\n",
       "    <tr>\n",
       "      <th>0</th>\n",
       "      <td>Zr2Cu</td>\n",
       "      <td>-0.132384</td>\n",
       "      <td>-0.08 ± 0.02</td>\n",
       "    </tr>\n",
       "    <tr>\n",
       "      <th>1</th>\n",
       "      <td>NbRh</td>\n",
       "      <td>-0.401313</td>\n",
       "      <td>-0.49 ± 0.02</td>\n",
       "    </tr>\n",
       "    <tr>\n",
       "      <th>2</th>\n",
       "      <td>Cu3Ge</td>\n",
       "      <td>-0.005707</td>\n",
       "      <td>-0.04 ± 0.02</td>\n",
       "    </tr>\n",
       "    <tr>\n",
       "      <th>3</th>\n",
       "      <td>Pr3In</td>\n",
       "      <td>-0.273232</td>\n",
       "      <td>-0.18 ± 0.02</td>\n",
       "    </tr>\n",
       "    <tr>\n",
       "      <th>4</th>\n",
       "      <td>InS</td>\n",
       "      <td>-0.742895</td>\n",
       "      <td>-0.80 ± 0.02</td>\n",
       "    </tr>\n",
       "    <tr>\n",
       "      <th>5</th>\n",
       "      <td>TmPb3</td>\n",
       "      <td>-0.215892</td>\n",
       "      <td>-0.18 ± 0.02</td>\n",
       "    </tr>\n",
       "    <tr>\n",
       "      <th>6</th>\n",
       "      <td>InNi</td>\n",
       "      <td>-0.174754</td>\n",
       "      <td>-0.19 ± 0.02</td>\n",
       "    </tr>\n",
       "    <tr>\n",
       "      <th>7</th>\n",
       "      <td>GdGe</td>\n",
       "      <td>-0.857117</td>\n",
       "      <td>-0.82 ± 0.02</td>\n",
       "    </tr>\n",
       "    <tr>\n",
       "      <th>8</th>\n",
       "      <td>GdTl</td>\n",
       "      <td>-0.380423</td>\n",
       "      <td>-0.42 ± 0.02</td>\n",
       "    </tr>\n",
       "    <tr>\n",
       "      <th>9</th>\n",
       "      <td>HoTl3</td>\n",
       "      <td>-0.215986</td>\n",
       "      <td>-0.20 ± 0.02</td>\n",
       "    </tr>\n",
       "  </tbody>\n",
       "</table>\n",
       "</div>"
      ]
     },
     "metadata": {},
     "execution_count": 17
    }
   ],
   "metadata": {}
  }
 ],
 "metadata": {
  "orig_nbformat": 4,
  "language_info": {
   "name": "python",
   "version": "3.8.10",
   "mimetype": "text/x-python",
   "codemirror_mode": {
    "name": "ipython",
    "version": 3
   },
   "pygments_lexer": "ipython3",
   "nbconvert_exporter": "python",
   "file_extension": ".py"
  },
  "kernelspec": {
   "name": "python3",
   "display_name": "Python 3.8.10 64-bit ('unlockGNN': conda)"
  },
  "interpreter": {
   "hash": "89b7f93fe079f836b09e45c7f268da6ce6b6a37c7513991ddecdb911874680b7"
  }
 },
 "nbformat": 4,
 "nbformat_minor": 2
}