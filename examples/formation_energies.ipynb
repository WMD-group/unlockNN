{
 "cells": [
  {
   "cell_type": "markdown",
   "metadata": {},
   "source": [
    "# Binary compound formation energy prediction example\n",
    "\n",
    "This notebook demonstrates how to create a probabilistic model for predicting\n",
    "formation energies of binary compounds with a quantified uncertainty. Before\n",
    "running this notebook, ensure that you have a valid Materials Project API key\n",
    "from <https://www.materialsproject.org/dashboard>. Next, either put this\n",
    "key in a `.config` file, or change `MAPI_KEY` to the key.\n",
    "\n",
    "<div class=\"alert alert-block alert-warning\">\n",
    "Be careful not to include API keys in published versions of this notebook!\n",
    "</div>\n"
   ]
  },
  {
   "cell_type": "code",
   "execution_count": 1,
   "metadata": {},
   "outputs": [],
   "source": [
    "import shutil\n",
    "from pathlib import Path\n",
    "\n",
    "import pandas as pd\n",
    "from megnet.models import MEGNetModel\n",
    "from pymatgen.ext.matproj import MPRester\n",
    "from tensorflow.keras.callbacks import TensorBoard\n",
    "from unlockgnn import MEGNetProbModel\n",
    "from unlockgnn.metrics import evaluate_uq_metrics\n"
   ]
  },
  {
   "cell_type": "code",
   "execution_count": 2,
   "metadata": {},
   "outputs": [],
   "source": [
    "THIS_DIR = Path(\".\").parent\n",
    "CONFIG_FILE = THIS_DIR / \".config\"\n",
    "\n",
    "MAPI_KEY = None\n",
    "MODEL_SAVE_DIR: Path = THIS_DIR / \"binary_e_form_model\"\n",
    "DATA_SAVE_DIR: Path = THIS_DIR / \"binary_data.pkl\"\n",
    "LOG_DIR = THIS_DIR / \"logs\"\n",
    "BATCH_SIZE: int = 128\n",
    "NUM_INDUCING_POINTS: int = 500\n",
    "OVERWRITE: bool = True\n",
    "TRAINING_RATIO: float = 0.8\n",
    "\n",
    "if OVERWRITE:\n",
    "    for directory in [MODEL_SAVE_DIR, LOG_DIR]:\n",
    "        if directory.exists():\n",
    "            shutil.rmtree(directory)\n",
    "\n",
    "try:\n",
    "    mp_key = CONFIG_FILE.read_text()\n",
    "except FileNotFoundError:\n",
    "    if MAPI_KEY is None:\n",
    "        raise ValueError(\"Enter Materials Project API key either in a `.config` file or in the notebook itself.\")\n",
    "    mp_key = MAPI_KEY\n"
   ]
  },
  {
   "cell_type": "markdown",
   "metadata": {},
   "source": [
    "# Data gathering\n",
    "\n",
    "Here we download binary compounds that lie on the convex hull from the Materials\n",
    "Project, then split them into training and validation subsets.\n"
   ]
  },
  {
   "cell_type": "code",
   "execution_count": 3,
   "metadata": {},
   "outputs": [],
   "source": [
    "query = {\n",
    "    \"criteria\": {\"nelements\": 2, \"e_above_hull\": 0},\n",
    "    \"properties\": [\"structure\", \"formation_energy_per_atom\"],\n",
    "}\n",
    "\n",
    "if DATA_SAVE_DIR.exists():\n",
    "    full_df = pd.read_pickle(DATA_SAVE_DIR)\n",
    "else:\n",
    "    with MPRester(mp_key) as mpr:\n",
    "        full_df = pd.DataFrame(mpr.query(**query))\n",
    "    full_df.to_pickle(DATA_SAVE_DIR)\n"
   ]
  },
  {
   "cell_type": "code",
   "execution_count": 4,
   "metadata": {},
   "outputs": [
    {
     "data": {
      "text/html": [
       "<div>\n",
       "<style scoped>\n",
       "    .dataframe tbody tr th:only-of-type {\n",
       "        vertical-align: middle;\n",
       "    }\n",
       "\n",
       "    .dataframe tbody tr th {\n",
       "        vertical-align: top;\n",
       "    }\n",
       "\n",
       "    .dataframe thead th {\n",
       "        text-align: right;\n",
       "    }\n",
       "</style>\n",
       "<table border=\"1\" class=\"dataframe\">\n",
       "  <thead>\n",
       "    <tr style=\"text-align: right;\">\n",
       "      <th></th>\n",
       "      <th>structure</th>\n",
       "      <th>formation_energy_per_atom</th>\n",
       "    </tr>\n",
       "  </thead>\n",
       "  <tbody>\n",
       "    <tr>\n",
       "      <th>0</th>\n",
       "      <td>[[ 1.982598   -4.08421341  3.2051745 ] La, [1....</td>\n",
       "      <td>-0.737439</td>\n",
       "    </tr>\n",
       "    <tr>\n",
       "      <th>1</th>\n",
       "      <td>[[0. 0. 0.] Fe, [1.880473 1.880473 1.880473] H]</td>\n",
       "      <td>-0.068482</td>\n",
       "    </tr>\n",
       "    <tr>\n",
       "      <th>2</th>\n",
       "      <td>[[1.572998 0.       0.      ] Ta, [0.         ...</td>\n",
       "      <td>-0.773151</td>\n",
       "    </tr>\n",
       "    <tr>\n",
       "      <th>3</th>\n",
       "      <td>[[0.         0.         7.42288687] Hf, [0.   ...</td>\n",
       "      <td>-0.177707</td>\n",
       "    </tr>\n",
       "    <tr>\n",
       "      <th>4</th>\n",
       "      <td>[[ 1.823716   -3.94193291  3.47897025] Tm, [1....</td>\n",
       "      <td>-0.905038</td>\n",
       "    </tr>\n",
       "  </tbody>\n",
       "</table>\n",
       "</div>"
      ],
      "text/plain": [
       "                                           structure  \\\n",
       "0  [[ 1.982598   -4.08421341  3.2051745 ] La, [1....   \n",
       "1    [[0. 0. 0.] Fe, [1.880473 1.880473 1.880473] H]   \n",
       "2  [[1.572998 0.       0.      ] Ta, [0.         ...   \n",
       "3  [[0.         0.         7.42288687] Hf, [0.   ...   \n",
       "4  [[ 1.823716   -3.94193291  3.47897025] Tm, [1....   \n",
       "\n",
       "   formation_energy_per_atom  \n",
       "0                  -0.737439  \n",
       "1                  -0.068482  \n",
       "2                  -0.773151  \n",
       "3                  -0.177707  \n",
       "4                  -0.905038  "
      ]
     },
     "execution_count": 4,
     "metadata": {},
     "output_type": "execute_result"
    }
   ],
   "source": [
    "full_df.head()"
   ]
  },
  {
   "cell_type": "code",
   "execution_count": 5,
   "metadata": {},
   "outputs": [
    {
     "name": "stdout",
     "output_type": "stream",
     "text": [
      "4217 training samples, 1055 validation samples.\n"
     ]
    }
   ],
   "source": [
    "num_training = int(TRAINING_RATIO * len(full_df.index))\n",
    "train_df = full_df[:num_training]\n",
    "val_df = full_df[num_training:]\n",
    "\n",
    "print(f\"{num_training} training samples, {len(val_df.index)} validation samples.\")\n",
    "\n",
    "train_structs = train_df[\"structure\"]\n",
    "val_structs = val_df[\"structure\"]\n",
    "\n",
    "train_targets = train_df[\"formation_energy_per_atom\"]\n",
    "val_targets = val_df[\"formation_energy_per_atom\"]\n"
   ]
  },
  {
   "cell_type": "markdown",
   "metadata": {},
   "source": [
    "# Model creation\n",
    "\n",
    "Now we load the `MEGNet` 2019 formation energies model, then convert this to a\n",
    "probabilistic model.\n"
   ]
  },
  {
   "cell_type": "code",
   "execution_count": 6,
   "metadata": {
    "scrolled": true
   },
   "outputs": [
    {
     "name": "stderr",
     "output_type": "stream",
     "text": [
      "INFO:megnet.utils.models:Package-level mvl_models not included, trying temperary mvl_models downloads..\n",
      "INFO:megnet.utils.models:Model found in local mvl_models path\n"
     ]
    },
    {
     "name": "stdout",
     "output_type": "stream",
     "text": [
      "WARNING:tensorflow:From /home/awsm/anaconda3/envs/unlockGNN/lib/python3.8/site-packages/tensorflow/python/ops/array_ops.py:5043: calling gather (from tensorflow.python.ops.array_ops) with validate_indices is deprecated and will be removed in a future version.\n",
      "Instructions for updating:\n",
      "The `validate_indices` argument has no effect. Indices are always validated on CPU and never validated on GPU.\n"
     ]
    },
    {
     "name": "stderr",
     "output_type": "stream",
     "text": [
      "WARNING:tensorflow:From /home/awsm/anaconda3/envs/unlockGNN/lib/python3.8/site-packages/tensorflow/python/ops/array_ops.py:5043: calling gather (from tensorflow.python.ops.array_ops) with validate_indices is deprecated and will be removed in a future version.\n",
      "Instructions for updating:\n",
      "The `validate_indices` argument has no effect. Indices are always validated on CPU and never validated on GPU.\n"
     ]
    }
   ],
   "source": [
    "meg_model = MEGNetModel.from_mvl_models(\"Eform_MP_2019\")\n"
   ]
  },
  {
   "cell_type": "code",
   "execution_count": 7,
   "metadata": {
    "scrolled": true
   },
   "outputs": [
    {
     "name": "stdout",
     "output_type": "stream",
     "text": [
      "INFO:tensorflow:Assets written to: binary_e_form_model/megnet/assets\n"
     ]
    },
    {
     "name": "stderr",
     "output_type": "stream",
     "text": [
      "/home/awsm/anaconda3/envs/unlockGNN/lib/python3.8/site-packages/tensorflow/python/keras/utils/generic_utils.py:494: CustomMaskWarning: Custom mask layers require a config and must override get_config. When loading, the custom mask layer must be passed to the custom_objects argument.\n",
      "  warnings.warn('Custom mask layers require a config and must override '\n",
      "INFO:tensorflow:Assets written to: binary_e_form_model/megnet/assets\n"
     ]
    },
    {
     "name": "stdout",
     "output_type": "stream",
     "text": [
      "INFO:tensorflow:Assets written to: binary_e_form_model/gnn/assets\n"
     ]
    },
    {
     "name": "stderr",
     "output_type": "stream",
     "text": [
      "/home/awsm/anaconda3/envs/unlockGNN/lib/python3.8/site-packages/tensorflow/python/keras/utils/generic_utils.py:494: CustomMaskWarning: Custom mask layers require a config and must override get_config. When loading, the custom mask layer must be passed to the custom_objects argument.\n",
      "  warnings.warn('Custom mask layers require a config and must override '\n",
      "INFO:tensorflow:Assets written to: binary_e_form_model/gnn/assets\n"
     ]
    },
    {
     "name": "stdout",
     "output_type": "stream",
     "text": [
      "WARNING:tensorflow:From /home/awsm/anaconda3/envs/unlockGNN/lib/python3.8/site-packages/tensorflow_probability/python/distributions/distribution.py:346: calling GaussianProcess.__init__ (from tensorflow_probability.python.distributions.gaussian_process) with jitter is deprecated and will be removed after 2021-05-10.\n",
      "Instructions for updating:\n",
      "`jitter` is deprecated; please use `marginal_fn` directly.\n"
     ]
    },
    {
     "name": "stderr",
     "output_type": "stream",
     "text": [
      "WARNING:tensorflow:From /home/awsm/anaconda3/envs/unlockGNN/lib/python3.8/site-packages/tensorflow_probability/python/distributions/distribution.py:346: calling GaussianProcess.__init__ (from tensorflow_probability.python.distributions.gaussian_process) with jitter is deprecated and will be removed after 2021-05-10.\n",
      "Instructions for updating:\n",
      "`jitter` is deprecated; please use `marginal_fn` directly.\n",
      "/home/awsm/anaconda3/envs/unlockGNN/lib/python3.8/site-packages/tensorflow_probability/python/distributions/gaussian_process.py:363: UserWarning: Unable to detect statically whether the number of index_points is 1. As a result, defaulting to treating the marginal GP at `index_points` as a multivariate Gaussian. This makes some methods, like `cdf` unavailable.\n",
      "  warnings.warn(\n"
     ]
    }
   ],
   "source": [
    "kl_weight = BATCH_SIZE / num_training\n",
    "\n",
    "prob_model = MEGNetProbModel(\n",
    "    num_inducing_points=NUM_INDUCING_POINTS,\n",
    "    save_path=MODEL_SAVE_DIR,\n",
    "    meg_model=meg_model,\n",
    "    kl_weight=kl_weight,\n",
    ")\n"
   ]
  },
  {
   "cell_type": "markdown",
   "metadata": {},
   "source": [
    "# Train the uncertainty quantifier\n",
    "\n",
    "Now we train the model. By default, the `MEGNet` (GNN) layers of the model are\n",
    "frozen after initialization. Therefore, when we call `prob_model.train()`, the\n",
    "only layers that are optimized are the `VariationalGaussianProcess` (VGP) and the\n",
    "`BatchNormalization` layer (`Norm`) that feeds into it.\n",
    "\n",
    "After this initial training, we unfreeze _all_ the layers and train the full model simulateously.\n"
   ]
  },
  {
   "cell_type": "code",
   "execution_count": 8,
   "metadata": {},
   "outputs": [],
   "source": [
    "tb_callback_1 = TensorBoard(log_dir=LOG_DIR / \"vgp_training\", write_graph=False)\n",
    "tb_callback_2 = TensorBoard(log_dir=LOG_DIR / \"fine_tuning\", write_graph=False)\n"
   ]
  },
  {
   "cell_type": "code",
   "execution_count": 9,
   "metadata": {},
   "outputs": [
    {
     "data": {
      "text/html": [
       "\n",
       "      <iframe id=\"tensorboard-frame-924186908c62f958\" width=\"100%\" height=\"800\" frameborder=\"0\">\n",
       "      </iframe>\n",
       "      <script>\n",
       "        (function() {\n",
       "          const frame = document.getElementById(\"tensorboard-frame-924186908c62f958\");\n",
       "          const url = new URL(\"/\", window.location);\n",
       "          const port = 6006;\n",
       "          if (port) {\n",
       "            url.port = port;\n",
       "          }\n",
       "          frame.src = url;\n",
       "        })();\n",
       "      </script>\n",
       "    "
      ],
      "text/plain": [
       "<IPython.core.display.HTML object>"
      ]
     },
     "metadata": {},
     "output_type": "display_data"
    }
   ],
   "source": [
    "%load_ext tensorboard\n",
    "%tensorboard --logdir logs"
   ]
  },
  {
   "cell_type": "code",
   "execution_count": 10,
   "metadata": {},
   "outputs": [
    {
     "name": "stdout",
     "output_type": "stream",
     "text": [
      "Epoch 1/50\n"
     ]
    },
    {
     "name": "stderr",
     "output_type": "stream",
     "text": [
      "/home/awsm/anaconda3/envs/unlockGNN/lib/python3.8/site-packages/tensorflow_probability/python/distributions/gaussian_process.py:363: UserWarning: Unable to detect statically whether the number of index_points is 1. As a result, defaulting to treating the marginal GP at `index_points` as a multivariate Gaussian. This makes some methods, like `cdf` unavailable.\n",
      "  warnings.warn(\n",
      "/home/awsm/anaconda3/envs/unlockGNN/lib/python3.8/site-packages/tensorflow/python/framework/indexed_slices.py:447: UserWarning: Converting sparse IndexedSlices(IndexedSlices(indices=Tensor(\"gradient_tape/model/set2_set_1/Reshape_9:0\", shape=(None,), dtype=int32), values=Tensor(\"gradient_tape/model/set2_set_1/Reshape_8:0\", shape=(None,), dtype=float32), dense_shape=Tensor(\"gradient_tape/model/set2_set_1/Cast:0\", shape=(1,), dtype=int32))) to a dense Tensor of unknown shape. This may consume a large amount of memory.\n",
      "  warnings.warn(\n",
      "/home/awsm/anaconda3/envs/unlockGNN/lib/python3.8/site-packages/tensorflow/python/framework/indexed_slices.py:447: UserWarning: Converting sparse IndexedSlices(IndexedSlices(indices=Tensor(\"gradient_tape/model/set2_set_2/Reshape_9:0\", shape=(None,), dtype=int32), values=Tensor(\"gradient_tape/model/set2_set_2/Reshape_8:0\", shape=(None,), dtype=float32), dense_shape=Tensor(\"gradient_tape/model/set2_set_2/Cast:0\", shape=(1,), dtype=int32))) to a dense Tensor of unknown shape. This may consume a large amount of memory.\n",
      "  warnings.warn(\n",
      "/home/awsm/anaconda3/envs/unlockGNN/lib/python3.8/site-packages/tensorflow/python/framework/indexed_slices.py:447: UserWarning: Converting sparse IndexedSlices(IndexedSlices(indices=Tensor(\"gradient_tape/model/set2_set_1/Reshape_27:0\", shape=(None,), dtype=int32), values=Tensor(\"gradient_tape/model/set2_set_1/Reshape_26:0\", shape=(None,), dtype=float32), dense_shape=Tensor(\"gradient_tape/model/set2_set_1/Cast_2:0\", shape=(1,), dtype=int32))) to a dense Tensor of unknown shape. This may consume a large amount of memory.\n",
      "  warnings.warn(\n",
      "/home/awsm/anaconda3/envs/unlockGNN/lib/python3.8/site-packages/tensorflow/python/framework/indexed_slices.py:447: UserWarning: Converting sparse IndexedSlices(IndexedSlices(indices=Tensor(\"gradient_tape/model/set2_set_2/Reshape_27:0\", shape=(None,), dtype=int32), values=Tensor(\"gradient_tape/model/set2_set_2/Reshape_26:0\", shape=(None,), dtype=float32), dense_shape=Tensor(\"gradient_tape/model/set2_set_2/Cast_2:0\", shape=(1,), dtype=int32))) to a dense Tensor of unknown shape. This may consume a large amount of memory.\n",
      "  warnings.warn(\n"
     ]
    },
    {
     "name": "stdout",
     "output_type": "stream",
     "text": [
      "33/33 - 19s - loss: 2040835.1250 - val_loss: 1886394.0000\n",
      "Epoch 2/50\n",
      "33/33 - 9s - loss: 1890396.6250 - val_loss: 1722113.5000\n",
      "Epoch 3/50\n",
      "33/33 - 9s - loss: 1607083.1250 - val_loss: 1349981.2500\n",
      "Epoch 4/50\n",
      "33/33 - 9s - loss: 1222383.6250 - val_loss: 955772.6875\n",
      "Epoch 5/50\n",
      "33/33 - 9s - loss: 878158.5000 - val_loss: 623919.1250\n",
      "Epoch 6/50\n",
      "33/33 - 9s - loss: 590655.4375 - val_loss: 360427.2500\n",
      "Epoch 7/50\n",
      "33/33 - 9s - loss: 364731.6250 - val_loss: 184351.3125\n",
      "Epoch 8/50\n",
      "33/33 - 8s - loss: 221803.8438 - val_loss: 113347.5859\n",
      "Epoch 9/50\n",
      "33/33 - 9s - loss: 159917.9688 - val_loss: 83589.1562\n",
      "Epoch 10/50\n",
      "33/33 - 9s - loss: 127261.2578 - val_loss: 69015.7344\n",
      "Epoch 11/50\n",
      "33/33 - 9s - loss: 95602.8047 - val_loss: 58286.9648\n",
      "Epoch 12/50\n",
      "33/33 - 9s - loss: 88059.0234 - val_loss: 51375.9141\n",
      "Epoch 13/50\n",
      "33/33 - 9s - loss: 73762.1484 - val_loss: 46060.8203\n",
      "Epoch 14/50\n",
      "33/33 - 9s - loss: 66971.9453 - val_loss: 43101.3164\n",
      "Epoch 15/50\n",
      "33/33 - 9s - loss: 56670.4688 - val_loss: 38042.2930\n",
      "Epoch 16/50\n",
      "33/33 - 9s - loss: 52553.5039 - val_loss: 36080.7539\n",
      "Epoch 17/50\n",
      "33/33 - 9s - loss: 55187.2383 - val_loss: 31713.3223\n",
      "Epoch 18/50\n",
      "33/33 - 9s - loss: 46500.3516 - val_loss: 29323.6250\n",
      "Epoch 19/50\n",
      "33/33 - 9s - loss: 40172.9531 - val_loss: 27661.2832\n",
      "Epoch 20/50\n",
      "33/33 - 9s - loss: 43223.6953 - val_loss: 25691.2109\n",
      "Epoch 21/50\n",
      "33/33 - 9s - loss: 35048.3789 - val_loss: 24041.2051\n",
      "Epoch 22/50\n",
      "33/33 - 9s - loss: 40183.0000 - val_loss: 24048.6230\n",
      "Epoch 23/50\n",
      "33/33 - 9s - loss: 37340.8945 - val_loss: 22854.7129\n",
      "Epoch 24/50\n",
      "33/33 - 9s - loss: 35227.0156 - val_loss: 21443.0312\n",
      "Epoch 25/50\n",
      "33/33 - 9s - loss: 27709.9531 - val_loss: 20144.4883\n",
      "Epoch 26/50\n",
      "33/33 - 9s - loss: 27688.1875 - val_loss: 19245.8047\n",
      "Epoch 27/50\n",
      "33/33 - 9s - loss: 29527.6074 - val_loss: 19661.3223\n",
      "Epoch 28/50\n",
      "33/33 - 9s - loss: 28134.4453 - val_loss: 17949.7324\n",
      "Epoch 29/50\n",
      "33/33 - 9s - loss: 31512.1895 - val_loss: 17681.6270\n",
      "Epoch 30/50\n",
      "33/33 - 8s - loss: 27623.1094 - val_loss: 16935.1152\n",
      "Epoch 31/50\n",
      "33/33 - 8s - loss: 31113.3828 - val_loss: 16589.9785\n",
      "Epoch 32/50\n",
      "33/33 - 9s - loss: 29498.2715 - val_loss: 17693.1641\n",
      "Epoch 33/50\n",
      "33/33 - 9s - loss: 28702.6348 - val_loss: 15745.3105\n",
      "Epoch 34/50\n",
      "33/33 - 9s - loss: 25711.8730 - val_loss: 15414.8457\n",
      "Epoch 35/50\n",
      "33/33 - 9s - loss: 26761.5508 - val_loss: 15421.8555\n",
      "Epoch 36/50\n",
      "33/33 - 9s - loss: 24299.9082 - val_loss: 14666.1611\n",
      "Epoch 37/50\n",
      "33/33 - 9s - loss: 24760.9453 - val_loss: 14402.4717\n",
      "Epoch 38/50\n",
      "33/33 - 9s - loss: 23726.7480 - val_loss: 14235.2969\n",
      "Epoch 39/50\n",
      "33/33 - 9s - loss: 27544.6348 - val_loss: 17575.3711\n",
      "Epoch 40/50\n",
      "33/33 - 9s - loss: 31468.3574 - val_loss: 20513.9297\n",
      "Epoch 41/50\n",
      "33/33 - 9s - loss: 32152.9805 - val_loss: 18340.5254\n",
      "Epoch 42/50\n",
      "33/33 - 9s - loss: 21578.5234 - val_loss: 14237.9805\n",
      "Epoch 43/50\n",
      "33/33 - 9s - loss: 21680.0879 - val_loss: 14346.8320\n",
      "Epoch 44/50\n",
      "33/33 - 9s - loss: 26924.5781 - val_loss: 14538.2168\n",
      "Epoch 45/50\n",
      "33/33 - 9s - loss: 26338.6465 - val_loss: 15580.7744\n",
      "Epoch 46/50\n",
      "33/33 - 9s - loss: 21758.0938 - val_loss: 13075.9961\n",
      "Epoch 47/50\n",
      "33/33 - 9s - loss: 21791.2422 - val_loss: 14049.5508\n",
      "Epoch 48/50\n",
      "33/33 - 9s - loss: 22696.7266 - val_loss: 13157.8398\n",
      "Epoch 49/50\n",
      "33/33 - 9s - loss: 22940.0840 - val_loss: 12993.6523\n",
      "Epoch 50/50\n",
      "33/33 - 9s - loss: 32636.5684 - val_loss: 13025.7803\n"
     ]
    }
   ],
   "source": [
    "prob_model.train(\n",
    "    train_structs,\n",
    "    train_targets,\n",
    "    epochs=50,\n",
    "    val_structs=val_structs,\n",
    "    val_targets=val_targets,\n",
    "    callbacks=[tb_callback_1],\n",
    ")\n",
    "prob_model.save()\n"
   ]
  },
  {
   "cell_type": "code",
   "execution_count": 11,
   "metadata": {},
   "outputs": [],
   "source": [
    "prob_model.set_frozen([\"GNN\", \"VGP\"], freeze=False)\n"
   ]
  },
  {
   "cell_type": "code",
   "execution_count": 12,
   "metadata": {
    "scrolled": true
   },
   "outputs": [
    {
     "name": "stdout",
     "output_type": "stream",
     "text": [
      "Epoch 1/50\n",
      "33/33 - 21s - loss: 57860.1680 - val_loss: 323303.4062\n",
      "Epoch 2/50\n",
      "33/33 - 9s - loss: 33428.8008 - val_loss: 45801.1406\n",
      "Epoch 3/50\n",
      "33/33 - 9s - loss: 23308.4512 - val_loss: 26309.8672\n",
      "Epoch 4/50\n",
      "33/33 - 9s - loss: 21981.1074 - val_loss: 29651.7012\n",
      "Epoch 5/50\n",
      "33/33 - 9s - loss: 17631.1172 - val_loss: 16150.3232\n",
      "Epoch 6/50\n",
      "33/33 - 9s - loss: 17124.3574 - val_loss: 11733.7979\n",
      "Epoch 7/50\n",
      "33/33 - 9s - loss: 19093.7812 - val_loss: 19135.8906\n",
      "Epoch 8/50\n",
      "33/33 - 9s - loss: 14067.5352 - val_loss: 11712.0547\n",
      "Epoch 9/50\n",
      "33/33 - 9s - loss: 10313.1748 - val_loss: 13322.2100\n",
      "Epoch 10/50\n",
      "33/33 - 9s - loss: 10201.9355 - val_loss: 9943.5732\n",
      "Epoch 11/50\n",
      "33/33 - 9s - loss: 10354.8184 - val_loss: 8510.2705\n",
      "Epoch 12/50\n",
      "33/33 - 9s - loss: 12133.2998 - val_loss: 9315.1436\n",
      "Epoch 13/50\n",
      "33/33 - 9s - loss: 10313.0898 - val_loss: 10559.1055\n",
      "Epoch 14/50\n",
      "33/33 - 9s - loss: 9158.5723 - val_loss: 9083.2881\n",
      "Epoch 15/50\n",
      "33/33 - 9s - loss: 9402.1826 - val_loss: 9860.4131\n",
      "Epoch 16/50\n",
      "33/33 - 9s - loss: 10662.2314 - val_loss: 8997.1289\n",
      "Epoch 17/50\n",
      "33/33 - 9s - loss: 7323.0303 - val_loss: 9411.5869\n",
      "Epoch 18/50\n",
      "33/33 - 9s - loss: 10056.3350 - val_loss: 12163.6953\n",
      "Epoch 19/50\n",
      "33/33 - 9s - loss: 8028.2993 - val_loss: 8647.5742\n",
      "Epoch 20/50\n",
      "33/33 - 9s - loss: 7532.9404 - val_loss: 7344.7959\n",
      "Epoch 21/50\n",
      "33/33 - 9s - loss: 5566.5938 - val_loss: 7844.7588\n",
      "Epoch 22/50\n",
      "33/33 - 9s - loss: 7668.1172 - val_loss: 6163.2319\n",
      "Epoch 23/50\n",
      "33/33 - 9s - loss: 9006.1973 - val_loss: 7720.6128\n",
      "Epoch 24/50\n",
      "33/33 - 9s - loss: 7250.6606 - val_loss: 6761.5312\n",
      "Epoch 25/50\n",
      "33/33 - 9s - loss: 8862.6406 - val_loss: 7472.8994\n",
      "Epoch 26/50\n",
      "33/33 - 9s - loss: 8186.0425 - val_loss: 6962.0093\n",
      "Epoch 27/50\n",
      "33/33 - 9s - loss: 6261.1934 - val_loss: 6860.3306\n",
      "Epoch 28/50\n",
      "33/33 - 9s - loss: 7940.8140 - val_loss: 7267.0000\n",
      "Epoch 29/50\n",
      "33/33 - 9s - loss: 6189.0239 - val_loss: 7241.2798\n",
      "Epoch 30/50\n",
      "33/33 - 9s - loss: 8491.2285 - val_loss: 12056.2637\n",
      "Epoch 31/50\n",
      "33/33 - 9s - loss: 8546.0234 - val_loss: 7431.9810\n",
      "Epoch 32/50\n",
      "33/33 - 9s - loss: 8492.8340 - val_loss: 6970.5645\n",
      "Epoch 33/50\n",
      "33/33 - 9s - loss: 6707.6240 - val_loss: 6074.1138\n",
      "Epoch 34/50\n",
      "33/33 - 9s - loss: 6885.6943 - val_loss: 7051.9590\n",
      "Epoch 35/50\n",
      "33/33 - 9s - loss: 6046.2109 - val_loss: 6281.9966\n",
      "Epoch 36/50\n",
      "33/33 - 9s - loss: 4158.2949 - val_loss: 5895.8228\n",
      "Epoch 37/50\n",
      "33/33 - 9s - loss: 5866.5752 - val_loss: 5879.3521\n",
      "Epoch 38/50\n",
      "33/33 - 9s - loss: 6865.2358 - val_loss: 7078.5840\n",
      "Epoch 39/50\n",
      "33/33 - 9s - loss: 6366.7925 - val_loss: 6825.7734\n",
      "Epoch 40/50\n",
      "33/33 - 9s - loss: 5024.8301 - val_loss: 5409.4185\n",
      "Epoch 41/50\n",
      "33/33 - 9s - loss: 5630.2998 - val_loss: 8149.4219\n",
      "Epoch 42/50\n",
      "33/33 - 9s - loss: 5339.2056 - val_loss: 5905.9424\n",
      "Epoch 43/50\n",
      "33/33 - 9s - loss: 5697.3491 - val_loss: 6067.0718\n",
      "Epoch 44/50\n",
      "33/33 - 9s - loss: 4899.7300 - val_loss: 5809.4585\n",
      "Epoch 45/50\n",
      "33/33 - 9s - loss: 4991.5806 - val_loss: 6916.7812\n",
      "Epoch 46/50\n",
      "33/33 - 9s - loss: 4567.7422 - val_loss: 5416.5757\n",
      "Epoch 47/50\n",
      "33/33 - 9s - loss: 4948.7983 - val_loss: 5989.8726\n",
      "Epoch 48/50\n",
      "33/33 - 9s - loss: 4042.3020 - val_loss: 5228.7764\n",
      "Epoch 49/50\n",
      "33/33 - 9s - loss: 4605.8208 - val_loss: 8058.4980\n",
      "Epoch 50/50\n",
      "33/33 - 9s - loss: 4265.2559 - val_loss: 5532.5347\n"
     ]
    }
   ],
   "source": [
    "prob_model.train(\n",
    "    train_structs,\n",
    "    train_targets,\n",
    "    epochs=50,\n",
    "    val_structs=val_structs,\n",
    "    val_targets=val_targets,\n",
    "    callbacks=[tb_callback_2],\n",
    ")\n",
    "prob_model.save()\n"
   ]
  },
  {
   "cell_type": "markdown",
   "metadata": {},
   "source": [
    "# Model evaluation\n",
    "\n",
    "Finally, we'll evaluate model metrics and make some sample predictions! Note that the predictions give predicted values and standard deviations. The standard deviations can then be converted to an uncertainty;\n",
    "in this example, we'll take the uncertainty as twice the standard deviation, which will give us the 95% confidence interval (see <https://en.wikipedia.org/wiki/68%E2%80%9395%E2%80%9399.7_rule>).\n"
   ]
  },
  {
   "cell_type": "code",
   "execution_count": 13,
   "metadata": {},
   "outputs": [],
   "source": [
    "example_structs = val_structs[:10].tolist()\n",
    "example_targets = val_targets[:10].tolist()\n",
    "\n",
    "predicted, stddevs = prob_model.predict(example_structs)\n",
    "uncerts = 2 * stddevs\n"
   ]
  },
  {
   "cell_type": "code",
   "execution_count": 14,
   "metadata": {},
   "outputs": [
    {
     "data": {
      "text/html": [
       "<div>\n",
       "<style scoped>\n",
       "    .dataframe tbody tr th:only-of-type {\n",
       "        vertical-align: middle;\n",
       "    }\n",
       "\n",
       "    .dataframe tbody tr th {\n",
       "        vertical-align: top;\n",
       "    }\n",
       "\n",
       "    .dataframe thead th {\n",
       "        text-align: right;\n",
       "    }\n",
       "</style>\n",
       "<table border=\"1\" class=\"dataframe\">\n",
       "  <thead>\n",
       "    <tr style=\"text-align: right;\">\n",
       "      <th></th>\n",
       "      <th>Composition</th>\n",
       "      <th>Formation energy per atom / eV</th>\n",
       "      <th>Predicted / eV</th>\n",
       "    </tr>\n",
       "  </thead>\n",
       "  <tbody>\n",
       "    <tr>\n",
       "      <th>0</th>\n",
       "      <td>Zr2Cu</td>\n",
       "      <td>-0.132384</td>\n",
       "      <td>-0.09 ± 0.03</td>\n",
       "    </tr>\n",
       "    <tr>\n",
       "      <th>1</th>\n",
       "      <td>NbRh</td>\n",
       "      <td>-0.401313</td>\n",
       "      <td>-0.44 ± 0.05</td>\n",
       "    </tr>\n",
       "    <tr>\n",
       "      <th>2</th>\n",
       "      <td>Cu3Ge</td>\n",
       "      <td>-0.005707</td>\n",
       "      <td>-0.03 ± 0.04</td>\n",
       "    </tr>\n",
       "    <tr>\n",
       "      <th>3</th>\n",
       "      <td>Pr3In</td>\n",
       "      <td>-0.273232</td>\n",
       "      <td>-0.29 ± 0.03</td>\n",
       "    </tr>\n",
       "    <tr>\n",
       "      <th>4</th>\n",
       "      <td>InS</td>\n",
       "      <td>-0.742895</td>\n",
       "      <td>-0.78 ± 0.05</td>\n",
       "    </tr>\n",
       "    <tr>\n",
       "      <th>5</th>\n",
       "      <td>TmPb3</td>\n",
       "      <td>-0.215892</td>\n",
       "      <td>-0.25 ± 0.03</td>\n",
       "    </tr>\n",
       "    <tr>\n",
       "      <th>6</th>\n",
       "      <td>InNi</td>\n",
       "      <td>-0.174754</td>\n",
       "      <td>-0.13 ± 0.03</td>\n",
       "    </tr>\n",
       "    <tr>\n",
       "      <th>7</th>\n",
       "      <td>GdGe</td>\n",
       "      <td>-0.857117</td>\n",
       "      <td>-0.86 ± 0.07</td>\n",
       "    </tr>\n",
       "    <tr>\n",
       "      <th>8</th>\n",
       "      <td>GdTl</td>\n",
       "      <td>-0.380423</td>\n",
       "      <td>-0.38 ± 0.03</td>\n",
       "    </tr>\n",
       "    <tr>\n",
       "      <th>9</th>\n",
       "      <td>HoTl3</td>\n",
       "      <td>-0.215986</td>\n",
       "      <td>-0.21 ± 0.03</td>\n",
       "    </tr>\n",
       "  </tbody>\n",
       "</table>\n",
       "</div>"
      ],
      "text/plain": [
       "  Composition  Formation energy per atom / eV Predicted / eV\n",
       "0       Zr2Cu                       -0.132384   -0.09 ± 0.03\n",
       "1        NbRh                       -0.401313   -0.44 ± 0.05\n",
       "2       Cu3Ge                       -0.005707   -0.03 ± 0.04\n",
       "3       Pr3In                       -0.273232   -0.29 ± 0.03\n",
       "4         InS                       -0.742895   -0.78 ± 0.05\n",
       "5       TmPb3                       -0.215892   -0.25 ± 0.03\n",
       "6        InNi                       -0.174754   -0.13 ± 0.03\n",
       "7        GdGe                       -0.857117   -0.86 ± 0.07\n",
       "8        GdTl                       -0.380423   -0.38 ± 0.03\n",
       "9       HoTl3                       -0.215986   -0.21 ± 0.03"
      ]
     },
     "execution_count": 14,
     "metadata": {},
     "output_type": "execute_result"
    }
   ],
   "source": [
    "pd.DataFrame(\n",
    "    {\n",
    "        \"Composition\": [struct.composition.reduced_formula for struct in example_structs],\n",
    "        \"Formation energy per atom / eV\": example_targets,\n",
    "        \"Predicted / eV\": [\n",
    "            f\"{pred:.2f} ± {uncert:.2f}\" for pred, uncert in zip(predicted, uncerts)\n",
    "        ],\n",
    "    }\n",
    ")\n"
   ]
  },
  {
   "cell_type": "code",
   "execution_count": 15,
   "metadata": {},
   "outputs": [
    {
     "name": "stderr",
     "output_type": "stream",
     "text": [
      "/home/awsm/anaconda3/envs/unlockGNN/lib/python3.8/site-packages/tensorflow_probability/python/distributions/gaussian_process.py:363: UserWarning: Unable to detect statically whether the number of index_points is 1. As a result, defaulting to treating the marginal GP at `index_points` as a multivariate Gaussian. This makes some methods, like `cdf` unavailable.\n",
      "  warnings.warn(\n"
     ]
    },
    {
     "name": "stdout",
     "output_type": "stream",
     "text": [
      "val_metrics={'nll': 1274.4541579063027, 'sharpness': 0.031452605507070706, 'variation': 0.5576342435625041, 'mae': 0.048892347989350424, 'mse': 0.005417255757233144, 'rmse': 0.07360200919290957}\n",
      "train_metrics={'nll': -7537.376558210598, 'sharpness': 0.03125057564791146, 'variation': 0.5446802327284079, 'mae': 0.02896238446924681, 'mse': 0.00164909309210959, 'rmse': 0.040609027224369584}\n"
     ]
    }
   ],
   "source": [
    "val_metrics = evaluate_uq_metrics(prob_model, val_structs, val_targets)\n",
    "train_metrics = evaluate_uq_metrics(prob_model, train_structs, train_targets)\n",
    "\n",
    "print(f\"{val_metrics=}\")\n",
    "print(f\"{train_metrics=}\")\n"
   ]
  }
 ],
 "metadata": {
  "interpreter": {
   "hash": "89b7f93fe079f836b09e45c7f268da6ce6b6a37c7513991ddecdb911874680b7"
  },
  "kernelspec": {
   "display_name": "Python 3",
   "language": "python",
   "name": "python3"
  },
  "language_info": {
   "codemirror_mode": {
    "name": "ipython",
    "version": 3
   },
   "file_extension": ".py",
   "mimetype": "text/x-python",
   "name": "python",
   "nbconvert_exporter": "python",
   "pygments_lexer": "ipython3",
   "version": "3.8.10"
  }
 },
 "nbformat": 4,
 "nbformat_minor": 2
}
