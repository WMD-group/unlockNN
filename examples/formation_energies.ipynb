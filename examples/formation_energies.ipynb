{
 "cells": [
  {
   "cell_type": "markdown",
   "source": [
    "# Binary compound formation energy prediction example\n",
    "\n",
    "This notebook demonstrates how to create a probabilistic model for predicting\n",
    "formation energies of binary compounds with a quantified uncertainty. Before\n",
    "running this notebook, ensure that you have a valid Materials Project API key\n",
    "from <https://www.materialsproject.org/dashboard>. Next, either put this\n",
    "key in a `.config` file, or change `MAPI_KEY` to the key.\n",
    "\n",
    "<div class=\"alert alert-block alert-warning\">\n",
    "Be careful not to include API keys in published versions of this notebook!\n",
    "</div>\n"
   ],
   "metadata": {}
  },
  {
   "cell_type": "code",
   "execution_count": 1,
   "source": [
    "import shutil\n",
    "from pathlib import Path\n",
    "\n",
    "import numpy as np\n",
    "import pandas as pd\n",
    "from megnet.models import MEGNetModel\n",
    "from pymatgen.ext.matproj import MPRester\n",
    "from tensorflow.keras.callbacks import TensorBoard\n",
    "from unlockgnn import MEGNetProbModel\n",
    "from unlockgnn.initializers import SampleInitializer\n"
   ],
   "outputs": [],
   "metadata": {}
  },
  {
   "cell_type": "code",
   "execution_count": 2,
   "source": [
    "THIS_DIR = Path(\".\").parent\n",
    "CONFIG_FILE = THIS_DIR / \".config\"\n",
    "\n",
    "MAPI_KEY = None\n",
    "MODEL_SAVE_DIR: Path = THIS_DIR / \"binary_e_form_model\"\n",
    "DATA_SAVE_DIR: Path = THIS_DIR / \"binary_data.pkl\"\n",
    "LOG_DIR = THIS_DIR / \"logs\"\n",
    "BATCH_SIZE: int = 128\n",
    "NUM_INDUCING_POINTS: int = 3000\n",
    "OVERWRITE: bool = True\n",
    "\n",
    "if OVERWRITE:\n",
    "    for directory in [MODEL_SAVE_DIR, LOG_DIR]:\n",
    "        if directory.exists():\n",
    "            shutil.rmtree(directory)\n",
    "\n",
    "try:\n",
    "    mp_key = CONFIG_FILE.read_text()\n",
    "except FileNotFoundError:\n",
    "    if MAPI_KEY is None:\n",
    "        raise ValueError(\"Enter Materials Project API key either in a `.config` file or in the notebook itself.\")\n",
    "    mp_key = MAPI_KEY\n"
   ],
   "outputs": [],
   "metadata": {}
  },
  {
   "cell_type": "markdown",
   "source": [
    "# Data gathering\n",
    "\n",
    "Here we download binary compounds that lie on the convex hull from the Materials\n",
    "Project, then split them into training and validation subsets.\n"
   ],
   "metadata": {}
  },
  {
   "cell_type": "code",
   "execution_count": 3,
   "source": [
    "query = {\n",
    "    \"criteria\": {\"nelements\": 2, \"e_above_hull\": 0},\n",
    "    \"properties\": [\"structure\", \"formation_energy_per_atom\"],\n",
    "}\n",
    "\n",
    "if DATA_SAVE_DIR.exists():\n",
    "    full_df = pd.read_pickle(DATA_SAVE_DIR)\n",
    "else:\n",
    "    with MPRester(mp_key) as mpr:\n",
    "        full_df = pd.DataFrame(mpr.query(**query))\n",
    "    full_df.to_pickle(DATA_SAVE_DIR)\n"
   ],
   "outputs": [],
   "metadata": {}
  },
  {
   "cell_type": "code",
   "execution_count": 4,
   "source": [
    "full_df.head()"
   ],
   "outputs": [
    {
     "output_type": "execute_result",
     "data": {
      "text/plain": [
       "                                           structure  \\\n",
       "0  [[ 1.982598   -4.08421341  3.2051745 ] La, [1....   \n",
       "1    [[0. 0. 0.] Fe, [1.880473 1.880473 1.880473] H]   \n",
       "2  [[1.572998 0.       0.      ] Ta, [0.         ...   \n",
       "3  [[0.         0.         7.42288687] Hf, [0.   ...   \n",
       "4  [[ 1.823716   -3.94193291  3.47897025] Tm, [1....   \n",
       "\n",
       "   formation_energy_per_atom  \n",
       "0                  -0.737439  \n",
       "1                  -0.068482  \n",
       "2                  -0.773151  \n",
       "3                  -0.177707  \n",
       "4                  -0.905038  "
      ],
      "text/html": [
       "<div>\n",
       "<style scoped>\n",
       "    .dataframe tbody tr th:only-of-type {\n",
       "        vertical-align: middle;\n",
       "    }\n",
       "\n",
       "    .dataframe tbody tr th {\n",
       "        vertical-align: top;\n",
       "    }\n",
       "\n",
       "    .dataframe thead th {\n",
       "        text-align: right;\n",
       "    }\n",
       "</style>\n",
       "<table border=\"1\" class=\"dataframe\">\n",
       "  <thead>\n",
       "    <tr style=\"text-align: right;\">\n",
       "      <th></th>\n",
       "      <th>structure</th>\n",
       "      <th>formation_energy_per_atom</th>\n",
       "    </tr>\n",
       "  </thead>\n",
       "  <tbody>\n",
       "    <tr>\n",
       "      <th>0</th>\n",
       "      <td>[[ 1.982598   -4.08421341  3.2051745 ] La, [1....</td>\n",
       "      <td>-0.737439</td>\n",
       "    </tr>\n",
       "    <tr>\n",
       "      <th>1</th>\n",
       "      <td>[[0. 0. 0.] Fe, [1.880473 1.880473 1.880473] H]</td>\n",
       "      <td>-0.068482</td>\n",
       "    </tr>\n",
       "    <tr>\n",
       "      <th>2</th>\n",
       "      <td>[[1.572998 0.       0.      ] Ta, [0.         ...</td>\n",
       "      <td>-0.773151</td>\n",
       "    </tr>\n",
       "    <tr>\n",
       "      <th>3</th>\n",
       "      <td>[[0.         0.         7.42288687] Hf, [0.   ...</td>\n",
       "      <td>-0.177707</td>\n",
       "    </tr>\n",
       "    <tr>\n",
       "      <th>4</th>\n",
       "      <td>[[ 1.823716   -3.94193291  3.47897025] Tm, [1....</td>\n",
       "      <td>-0.905038</td>\n",
       "    </tr>\n",
       "  </tbody>\n",
       "</table>\n",
       "</div>"
      ]
     },
     "metadata": {},
     "execution_count": 4
    }
   ],
   "metadata": {}
  },
  {
   "cell_type": "code",
   "execution_count": 4,
   "source": [
    "TRAINING_RATIO: float = 0.8\n",
    "\n",
    "num_training = int(TRAINING_RATIO * len(full_df.index))\n",
    "train_df = full_df[:num_training]\n",
    "val_df = full_df[num_training:]\n",
    "\n",
    "print(f\"{num_training} training samples, {len(val_df.index)} validation samples.\")\n"
   ],
   "outputs": [
    {
     "output_type": "stream",
     "name": "stdout",
     "text": [
      "4217 training samples, 1055 validation samples.\n"
     ]
    }
   ],
   "metadata": {}
  },
  {
   "cell_type": "markdown",
   "source": [
    "# Model creation\n",
    "\n",
    "Now we load the `MEGNet` 2019 formation energies model, then convert this to a\n",
    "probabilistic model. We begin by first training this `MEGNetModel` on our data to\n",
    "achieve a slightly more precise fit.\n"
   ],
   "metadata": {}
  },
  {
   "cell_type": "code",
   "execution_count": 6,
   "source": [
    "meg_model = MEGNetModel.from_mvl_models(\"Eform_MP_2019\")\n"
   ],
   "outputs": [
    {
     "output_type": "stream",
     "name": "stderr",
     "text": [
      "INFO:megnet.utils.models:Package-level mvl_models not included, trying temperary mvl_models downloads..\n",
      "INFO:megnet.utils.models:Model found in local mvl_models path\n"
     ]
    },
    {
     "output_type": "stream",
     "name": "stdout",
     "text": [
      "WARNING:tensorflow:From /home/awsm/anaconda3/envs/unlockGNN/lib/python3.8/site-packages/tensorflow/python/ops/array_ops.py:5043: calling gather (from tensorflow.python.ops.array_ops) with validate_indices is deprecated and will be removed in a future version.\n",
      "Instructions for updating:\n",
      "The `validate_indices` argument has no effect. Indices are always validated on CPU and never validated on GPU.\n"
     ]
    },
    {
     "output_type": "stream",
     "name": "stderr",
     "text": [
      "WARNING:tensorflow:From /home/awsm/anaconda3/envs/unlockGNN/lib/python3.8/site-packages/tensorflow/python/ops/array_ops.py:5043: calling gather (from tensorflow.python.ops.array_ops) with validate_indices is deprecated and will be removed in a future version.\n",
      "Instructions for updating:\n",
      "The `validate_indices` argument has no effect. Indices are always validated on CPU and never validated on GPU.\n"
     ]
    }
   ],
   "metadata": {}
  },
  {
   "cell_type": "code",
   "execution_count": 5,
   "source": [
    "tb_callback_1 = TensorBoard(log_dir=LOG_DIR / \"megnet\", write_graph=False)\n",
    "\n",
    "train_structs = train_df[\"structure\"]\n",
    "val_structs = val_df[\"structure\"]\n",
    "\n",
    "train_targets = train_df[\"formation_energy_per_atom\"]\n",
    "val_targets = val_df[\"formation_energy_per_atom\"]"
   ],
   "outputs": [],
   "metadata": {}
  },
  {
   "cell_type": "code",
   "execution_count": 8,
   "source": [
    "# Make the initializer\n",
    "index_points_init = SampleInitializer(train_structs, meg_model)\n",
    "# index_points_init = None"
   ],
   "outputs": [],
   "metadata": {}
  },
  {
   "cell_type": "code",
   "execution_count": 6,
   "source": [
    "KL_WEIGHT = BATCH_SIZE / num_training\n",
    "\n",
    "prob_model = MEGNetProbModel(\n",
    "    num_inducing_points=NUM_INDUCING_POINTS,\n",
    "    save_path=MODEL_SAVE_DIR,\n",
    "    meg_model=meg_model,\n",
    "    kl_weight=KL_WEIGHT,\n",
    "    index_initializer=index_points_init,\n",
    ")\n",
    "# prob_model = MEGNetProbModel.load(MODEL_SAVE_DIR)"
   ],
   "outputs": [
    {
     "output_type": "stream",
     "name": "stdout",
     "text": [
      "WARNING:tensorflow:From /home/awsm/anaconda3/envs/unlockGNN/lib/python3.8/site-packages/tensorflow/python/ops/array_ops.py:5043: calling gather (from tensorflow.python.ops.array_ops) with validate_indices is deprecated and will be removed in a future version.\n",
      "Instructions for updating:\n",
      "The `validate_indices` argument has no effect. Indices are always validated on CPU and never validated on GPU.\n"
     ]
    },
    {
     "output_type": "stream",
     "name": "stderr",
     "text": [
      "WARNING:tensorflow:From /home/awsm/anaconda3/envs/unlockGNN/lib/python3.8/site-packages/tensorflow/python/ops/array_ops.py:5043: calling gather (from tensorflow.python.ops.array_ops) with validate_indices is deprecated and will be removed in a future version.\n",
      "Instructions for updating:\n",
      "The `validate_indices` argument has no effect. Indices are always validated on CPU and never validated on GPU.\n"
     ]
    },
    {
     "output_type": "stream",
     "name": "stdout",
     "text": [
      "WARNING:tensorflow:From /home/awsm/anaconda3/envs/unlockGNN/lib/python3.8/site-packages/tensorflow_probability/python/distributions/distribution.py:346: calling GaussianProcess.__init__ (from tensorflow_probability.python.distributions.gaussian_process) with jitter is deprecated and will be removed after 2021-05-10.\n",
      "Instructions for updating:\n",
      "`jitter` is deprecated; please use `marginal_fn` directly.\n"
     ]
    },
    {
     "output_type": "stream",
     "name": "stderr",
     "text": [
      "WARNING:tensorflow:From /home/awsm/anaconda3/envs/unlockGNN/lib/python3.8/site-packages/tensorflow_probability/python/distributions/distribution.py:346: calling GaussianProcess.__init__ (from tensorflow_probability.python.distributions.gaussian_process) with jitter is deprecated and will be removed after 2021-05-10.\n",
      "Instructions for updating:\n",
      "`jitter` is deprecated; please use `marginal_fn` directly.\n",
      "/home/awsm/anaconda3/envs/unlockGNN/lib/python3.8/site-packages/tensorflow_probability/python/distributions/gaussian_process.py:363: UserWarning: Unable to detect statically whether the number of index_points is 1. As a result, defaulting to treating the marginal GP at `index_points` as a multivariate Gaussian. This makes some methods, like `cdf` unavailable.\n",
      "  warnings.warn(\n"
     ]
    }
   ],
   "metadata": {}
  },
  {
   "cell_type": "markdown",
   "source": [
    "# Train the uncertainty quantifier\n",
    "\n",
    "Now we train the model. By default, the `MEGNet` (GNN) layers of the model are\n",
    "frozen after initialization. Therefore, when we call `prob_model.train()`, the\n",
    "only layers that are optimized are the `VariationalGaussianProcess` (VGP) and the\n",
    "`BatchNormalization` layer (`Norm`) that feeds into it.\n",
    "\n",
    "After this initial training, we will then fine tune the model by freezing the\n",
    "`Norm` and VGP layers and training just the GNN layers. Then, finally, we\n",
    "unfreeze _all_ the layers and train the full model simulateously.\n"
   ],
   "metadata": {}
  },
  {
   "cell_type": "code",
   "execution_count": 10,
   "source": [
    "tb_callback_2 = TensorBoard(log_dir=LOG_DIR / \"vgp_training\", write_graph=False)\n",
    "tb_callback_3 = TensorBoard(log_dir=LOG_DIR / \"fine_tuning\", write_graph=False)\n"
   ],
   "outputs": [],
   "metadata": {}
  },
  {
   "cell_type": "code",
   "execution_count": 11,
   "source": [
    "%load_ext tensorboard\n",
    "%tensorboard --logdir logs"
   ],
   "outputs": [
    {
     "output_type": "display_data",
     "data": {
      "text/plain": [
       "<IPython.core.display.HTML object>"
      ],
      "text/html": [
       "\n",
       "      <iframe id=\"tensorboard-frame-d68a290780d9a454\" width=\"100%\" height=\"800\" frameborder=\"0\">\n",
       "      </iframe>\n",
       "      <script>\n",
       "        (function() {\n",
       "          const frame = document.getElementById(\"tensorboard-frame-d68a290780d9a454\");\n",
       "          const url = new URL(\"/\", window.location);\n",
       "          const port = 6006;\n",
       "          if (port) {\n",
       "            url.port = port;\n",
       "          }\n",
       "          frame.src = url;\n",
       "        })();\n",
       "      </script>\n",
       "    "
      ]
     },
     "metadata": {}
    }
   ],
   "metadata": {}
  },
  {
   "cell_type": "code",
   "execution_count": 12,
   "source": [
    "prob_model.train(\n",
    "    train_structs,\n",
    "    train_targets,\n",
    "    epochs=50,\n",
    "    val_structs=val_structs,\n",
    "    val_targets=val_targets,\n",
    "    callbacks=[tb_callback_2],\n",
    ")\n"
   ],
   "outputs": [
    {
     "output_type": "stream",
     "name": "stdout",
     "text": [
      "Epoch 1/50\n"
     ]
    },
    {
     "output_type": "stream",
     "name": "stderr",
     "text": [
      "/home/awsm/anaconda3/envs/unlockGNN/lib/python3.8/site-packages/tensorflow_probability/python/distributions/gaussian_process.py:363: UserWarning: Unable to detect statically whether the number of index_points is 1. As a result, defaulting to treating the marginal GP at `index_points` as a multivariate Gaussian. This makes some methods, like `cdf` unavailable.\n",
      "  warnings.warn(\n",
      "/home/awsm/anaconda3/envs/unlockGNN/lib/python3.8/site-packages/tensorflow/python/framework/indexed_slices.py:447: UserWarning: Converting sparse IndexedSlices(IndexedSlices(indices=Tensor(\"gradient_tape/model/set2_set_1/Reshape_9:0\", shape=(None,), dtype=int32), values=Tensor(\"gradient_tape/model/set2_set_1/Reshape_8:0\", shape=(None,), dtype=float32), dense_shape=Tensor(\"gradient_tape/model/set2_set_1/Cast:0\", shape=(1,), dtype=int32))) to a dense Tensor of unknown shape. This may consume a large amount of memory.\n",
      "  warnings.warn(\n",
      "/home/awsm/anaconda3/envs/unlockGNN/lib/python3.8/site-packages/tensorflow/python/framework/indexed_slices.py:447: UserWarning: Converting sparse IndexedSlices(IndexedSlices(indices=Tensor(\"gradient_tape/model/set2_set_2/Reshape_9:0\", shape=(None,), dtype=int32), values=Tensor(\"gradient_tape/model/set2_set_2/Reshape_8:0\", shape=(None,), dtype=float32), dense_shape=Tensor(\"gradient_tape/model/set2_set_2/Cast:0\", shape=(1,), dtype=int32))) to a dense Tensor of unknown shape. This may consume a large amount of memory.\n",
      "  warnings.warn(\n",
      "/home/awsm/anaconda3/envs/unlockGNN/lib/python3.8/site-packages/tensorflow/python/framework/indexed_slices.py:447: UserWarning: Converting sparse IndexedSlices(IndexedSlices(indices=Tensor(\"gradient_tape/model/set2_set_1/Reshape_27:0\", shape=(None,), dtype=int32), values=Tensor(\"gradient_tape/model/set2_set_1/Reshape_26:0\", shape=(None,), dtype=float32), dense_shape=Tensor(\"gradient_tape/model/set2_set_1/Cast_2:0\", shape=(1,), dtype=int32))) to a dense Tensor of unknown shape. This may consume a large amount of memory.\n",
      "  warnings.warn(\n",
      "/home/awsm/anaconda3/envs/unlockGNN/lib/python3.8/site-packages/tensorflow/python/framework/indexed_slices.py:447: UserWarning: Converting sparse IndexedSlices(IndexedSlices(indices=Tensor(\"gradient_tape/model/set2_set_2/Reshape_27:0\", shape=(None,), dtype=int32), values=Tensor(\"gradient_tape/model/set2_set_2/Reshape_26:0\", shape=(None,), dtype=float32), dense_shape=Tensor(\"gradient_tape/model/set2_set_2/Cast_2:0\", shape=(1,), dtype=int32))) to a dense Tensor of unknown shape. This may consume a large amount of memory.\n",
      "  warnings.warn(\n"
     ]
    },
    {
     "output_type": "stream",
     "name": "stdout",
     "text": [
      "33/33 - 21s - loss: 2091617.7500 - mae: 0.6478 - val_loss: 1869004.0000 - val_mae: 0.6430\n",
      "Epoch 2/50\n",
      "33/33 - 9s - loss: 1896041.3750 - mae: 0.6150 - val_loss: 1754264.1250 - val_mae: 0.6148\n",
      "Epoch 3/50\n",
      "33/33 - 9s - loss: 1785994.5000 - mae: 0.5935 - val_loss: 1656106.7500 - val_mae: 0.6004\n",
      "Epoch 4/50\n",
      "33/33 - 10s - loss: 1687178.7500 - mae: 0.5765 - val_loss: 1567845.3750 - val_mae: 0.5793\n",
      "Epoch 5/50\n",
      "33/33 - 10s - loss: 1598149.1250 - mae: 0.5615 - val_loss: 1487190.3750 - val_mae: 0.5670\n",
      "Epoch 6/50\n",
      "33/33 - 10s - loss: 1516122.0000 - mae: 0.5489 - val_loss: 1414070.8750 - val_mae: 0.5561\n",
      "Epoch 7/50\n",
      "33/33 - 9s - loss: 1441278.8750 - mae: 0.5382 - val_loss: 1346037.5000 - val_mae: 0.5419\n",
      "Epoch 8/50\n",
      "33/33 - 9s - loss: 1371843.1250 - mae: 0.5286 - val_loss: 1282792.7500 - val_mae: 0.5400\n",
      "Epoch 9/50\n",
      "33/33 - 9s - loss: 1307924.7500 - mae: 0.5208 - val_loss: 1225147.0000 - val_mae: 0.5245\n",
      "Epoch 10/50\n",
      "33/33 - 9s - loss: 1249076.8750 - mae: 0.5129 - val_loss: 1170159.7500 - val_mae: 0.5224\n",
      "Epoch 11/50\n",
      "33/33 - 9s - loss: 1193656.7500 - mae: 0.5064 - val_loss: 1119658.1250 - val_mae: 0.5210\n",
      "Epoch 12/50\n",
      "33/33 - 10s - loss: 1142385.0000 - mae: 0.5020 - val_loss: 1072986.6250 - val_mae: 0.5104\n",
      "Epoch 13/50\n",
      "33/33 - 9s - loss: 1094946.3750 - mae: 0.4973 - val_loss: 1028935.4375 - val_mae: 0.5070\n",
      "Epoch 14/50\n",
      "33/33 - 9s - loss: 1050591.1250 - mae: 0.4946 - val_loss: 988377.2500 - val_mae: 0.5062\n",
      "Epoch 15/50\n",
      "33/33 - 9s - loss: 1008824.6875 - mae: 0.4917 - val_loss: 950532.4375 - val_mae: 0.5047\n",
      "Epoch 16/50\n",
      "33/33 - 9s - loss: 970091.6875 - mae: 0.4896 - val_loss: 914318.5625 - val_mae: 0.5026\n",
      "Epoch 17/50\n",
      "33/33 - 10s - loss: 933818.0000 - mae: 0.4885 - val_loss: 880641.2500 - val_mae: 0.5035\n",
      "Epoch 18/50\n",
      "33/33 - 9s - loss: 899308.8750 - mae: 0.4875 - val_loss: 849508.5000 - val_mae: 0.5032\n",
      "Epoch 19/50\n",
      "33/33 - 9s - loss: 867685.8750 - mae: 0.4865 - val_loss: 820056.8125 - val_mae: 0.5046\n",
      "Epoch 20/50\n",
      "33/33 - 10s - loss: 837290.5000 - mae: 0.4869 - val_loss: 791346.2500 - val_mae: 0.5000\n",
      "Epoch 21/50\n",
      "33/33 - 9s - loss: 808509.3750 - mae: 0.4866 - val_loss: 765486.1250 - val_mae: 0.5099\n",
      "Epoch 22/50\n",
      "33/33 - 9s - loss: 782215.0000 - mae: 0.4878 - val_loss: 740226.0625 - val_mae: 0.5025\n",
      "Epoch 23/50\n",
      "33/33 - 9s - loss: 756510.5000 - mae: 0.4874 - val_loss: 716776.9375 - val_mae: 0.5118\n",
      "Epoch 24/50\n",
      "33/33 - 9s - loss: 732009.1875 - mae: 0.4881 - val_loss: 694011.7500 - val_mae: 0.5086\n",
      "Epoch 25/50\n",
      "33/33 - 10s - loss: 709094.0000 - mae: 0.4890 - val_loss: 672000.3750 - val_mae: 0.5046\n",
      "Epoch 26/50\n",
      "33/33 - 10s - loss: 687839.1250 - mae: 0.4910 - val_loss: 652235.7500 - val_mae: 0.5093\n",
      "Epoch 27/50\n",
      "33/33 - 10s - loss: 666751.0000 - mae: 0.4913 - val_loss: 632872.4375 - val_mae: 0.5091\n",
      "Epoch 28/50\n",
      "33/33 - 10s - loss: 647601.4375 - mae: 0.4939 - val_loss: 615233.9375 - val_mae: 0.5101\n",
      "Epoch 29/50\n",
      "33/33 - 10s - loss: 631638.5000 - mae: 0.4943 - val_loss: 598241.1875 - val_mae: 0.5113\n",
      "Epoch 30/50\n",
      "33/33 - 10s - loss: 612128.3750 - mae: 0.4963 - val_loss: 579980.1875 - val_mae: 0.5108\n",
      "Epoch 31/50\n",
      "33/33 - 10s - loss: 593215.5625 - mae: 0.4987 - val_loss: 562671.9375 - val_mae: 0.5085\n",
      "Epoch 32/50\n",
      "33/33 - 10s - loss: 575812.3125 - mae: 0.5005 - val_loss: 546890.3125 - val_mae: 0.5151\n",
      "Epoch 33/50\n",
      "33/33 - 10s - loss: 559674.5000 - mae: 0.5031 - val_loss: 531965.6250 - val_mae: 0.5197\n",
      "Epoch 34/50\n",
      "33/33 - 10s - loss: 544640.3750 - mae: 0.5036 - val_loss: 519172.6250 - val_mae: 0.5361\n",
      "Epoch 35/50\n",
      "33/33 - 9s - loss: 529677.5625 - mae: 0.5061 - val_loss: 503991.8750 - val_mae: 0.5267\n",
      "Epoch 36/50\n",
      "33/33 - 9s - loss: 516810.7812 - mae: 0.5085 - val_loss: 493129.3438 - val_mae: 0.5302\n",
      "Epoch 37/50\n",
      "33/33 - 9s - loss: 505853.4062 - mae: 0.5102 - val_loss: 482261.2812 - val_mae: 0.5224\n",
      "Epoch 38/50\n",
      "33/33 - 9s - loss: 493399.5000 - mae: 0.5116 - val_loss: 468193.6250 - val_mae: 0.5293\n",
      "Epoch 39/50\n",
      "33/33 - 9s - loss: 479044.5625 - mae: 0.5138 - val_loss: 454686.8125 - val_mae: 0.5288\n",
      "Epoch 40/50\n",
      "33/33 - 9s - loss: 465772.0625 - mae: 0.5172 - val_loss: 442480.3438 - val_mae: 0.5370\n",
      "Epoch 41/50\n",
      "33/33 - 9s - loss: 453981.8438 - mae: 0.5190 - val_loss: 433572.1562 - val_mae: 0.5416\n",
      "Epoch 42/50\n",
      "33/33 - 9s - loss: 447833.5000 - mae: 0.5207 - val_loss: 432281.8750 - val_mae: 0.5409\n",
      "Epoch 43/50\n",
      "33/33 - 9s - loss: 433531.0312 - mae: 0.5222 - val_loss: 410959.9688 - val_mae: 0.5465\n",
      "Epoch 44/50\n",
      "33/33 - 9s - loss: 420877.6250 - mae: 0.5267 - val_loss: 400106.8750 - val_mae: 0.5412\n",
      "Epoch 45/50\n",
      "33/33 - 9s - loss: 409437.5000 - mae: 0.5259 - val_loss: 389896.5938 - val_mae: 0.5403\n",
      "Epoch 46/50\n",
      "33/33 - 9s - loss: 399892.5312 - mae: 0.5295 - val_loss: 381660.9688 - val_mae: 0.5383\n",
      "Epoch 47/50\n",
      "33/33 - 9s - loss: 391110.3750 - mae: 0.5310 - val_loss: 375166.5625 - val_mae: 0.5518\n",
      "Epoch 48/50\n",
      "33/33 - 9s - loss: 385434.8125 - mae: 0.5322 - val_loss: 368943.8125 - val_mae: 0.5539\n",
      "Epoch 49/50\n",
      "33/33 - 9s - loss: 378664.2812 - mae: 0.5337 - val_loss: 357773.6875 - val_mae: 0.5484\n",
      "Epoch 50/50\n",
      "33/33 - 9s - loss: 365893.0000 - mae: 0.5370 - val_loss: 347013.0312 - val_mae: 0.5519\n"
     ]
    }
   ],
   "metadata": {}
  },
  {
   "cell_type": "code",
   "execution_count": 15,
   "source": [
    "prob_model.set_frozen([\"GNN\", \"VGP\"], freeze=False)"
   ],
   "outputs": [],
   "metadata": {}
  },
  {
   "cell_type": "code",
   "execution_count": 16,
   "source": [
    "prob_model.train(\n",
    "    train_structs,\n",
    "    train_targets,\n",
    "    epochs=50,\n",
    "    val_structs=val_structs,\n",
    "    val_targets=val_targets,\n",
    "    callbacks=[tb_callback_3],\n",
    ")"
   ],
   "outputs": [
    {
     "output_type": "stream",
     "name": "stdout",
     "text": [
      "Epoch 1/50\n",
      "33/33 - 22s - loss: 498863.0000 - mae: 0.5751 - val_loss: 432173.1875 - val_mae: 0.5838\n",
      "Epoch 2/50\n",
      "33/33 - 9s - loss: 447332.3438 - mae: 0.5635 - val_loss: 420508.9375 - val_mae: 0.5786\n",
      "Epoch 3/50\n",
      "33/33 - 9s - loss: 435303.9062 - mae: 0.5584 - val_loss: 409642.0625 - val_mae: 0.5736\n",
      "Epoch 4/50\n",
      "33/33 - 9s - loss: 424099.5938 - mae: 0.5536 - val_loss: 399530.7188 - val_mae: 0.5691\n",
      "Epoch 5/50\n",
      "33/33 - 9s - loss: 413618.5625 - mae: 0.5494 - val_loss: 389930.1875 - val_mae: 0.5649\n",
      "Epoch 6/50\n",
      "33/33 - 9s - loss: 403688.5000 - mae: 0.5456 - val_loss: 380808.0000 - val_mae: 0.5612\n",
      "Epoch 7/50\n",
      "33/33 - 9s - loss: 394244.6562 - mae: 0.5420 - val_loss: 372145.2500 - val_mae: 0.5579\n",
      "Epoch 8/50\n",
      "33/33 - 9s - loss: 385253.4062 - mae: 0.5389 - val_loss: 363835.8750 - val_mae: 0.5549\n",
      "Epoch 9/50\n",
      "33/33 - 9s - loss: 376645.3125 - mae: 0.5359 - val_loss: 355896.8125 - val_mae: 0.5519\n",
      "Epoch 10/50\n",
      "33/33 - 9s - loss: 368409.1250 - mae: 0.5331 - val_loss: 348249.1562 - val_mae: 0.5494\n",
      "Epoch 11/50\n",
      "33/33 - 9s - loss: 360479.7500 - mae: 0.5307 - val_loss: 340927.4062 - val_mae: 0.5469\n",
      "Epoch 12/50\n",
      "33/33 - 9s - loss: 352862.7812 - mae: 0.5284 - val_loss: 333877.6562 - val_mae: 0.5446\n",
      "Epoch 13/50\n",
      "33/33 - 9s - loss: 345522.9688 - mae: 0.5262 - val_loss: 327076.0938 - val_mae: 0.5425\n",
      "Epoch 14/50\n",
      "33/33 - 9s - loss: 338445.3125 - mae: 0.5242 - val_loss: 320497.9375 - val_mae: 0.5406\n",
      "Epoch 15/50\n",
      "33/33 - 9s - loss: 331617.5000 - mae: 0.5225 - val_loss: 314086.9375 - val_mae: 0.5389\n",
      "Epoch 16/50\n",
      "33/33 - 9s - loss: 324973.7188 - mae: 0.5207 - val_loss: 307962.0312 - val_mae: 0.5371\n",
      "Epoch 17/50\n",
      "33/33 - 9s - loss: 318575.6562 - mae: 0.5191 - val_loss: 301994.2500 - val_mae: 0.5354\n",
      "Epoch 18/50\n",
      "33/33 - 9s - loss: 312361.2500 - mae: 0.5176 - val_loss: 296213.6562 - val_mae: 0.5340\n",
      "Epoch 19/50\n",
      "33/33 - 9s - loss: 306339.7500 - mae: 0.5163 - val_loss: 290582.3438 - val_mae: 0.5326\n",
      "Epoch 20/50\n",
      "33/33 - 9s - loss: 300518.2812 - mae: 0.5152 - val_loss: 285023.0625 - val_mae: 0.5316\n",
      "Epoch 21/50\n",
      "33/33 - 9s - loss: 294811.7812 - mae: 0.5142 - val_loss: 279701.2188 - val_mae: 0.5304\n",
      "Epoch 22/50\n",
      "33/33 - 9s - loss: 289286.3438 - mae: 0.5130 - val_loss: 274522.6562 - val_mae: 0.5293\n",
      "Epoch 23/50\n",
      "33/33 - 9s - loss: 283915.4688 - mae: 0.5119 - val_loss: 269470.6562 - val_mae: 0.5282\n",
      "Epoch 24/50\n",
      "33/33 - 9s - loss: 278672.8438 - mae: 0.5110 - val_loss: 264583.2188 - val_mae: 0.5273\n",
      "Epoch 25/50\n",
      "33/33 - 9s - loss: 273577.3750 - mae: 0.5101 - val_loss: 259828.4688 - val_mae: 0.5263\n",
      "Epoch 26/50\n",
      "33/33 - 9s - loss: 268637.4688 - mae: 0.5094 - val_loss: 255115.9375 - val_mae: 0.5256\n",
      "Epoch 27/50\n",
      "33/33 - 9s - loss: 263768.6250 - mae: 0.5086 - val_loss: 250617.7812 - val_mae: 0.5247\n",
      "Epoch 28/50\n",
      "33/33 - 9s - loss: 259081.1562 - mae: 0.5079 - val_loss: 246125.3281 - val_mae: 0.5241\n",
      "Epoch 29/50\n",
      "33/33 - 9s - loss: 254459.1875 - mae: 0.5074 - val_loss: 241802.0312 - val_mae: 0.5234\n",
      "Epoch 30/50\n",
      "33/33 - 9s - loss: 249961.3906 - mae: 0.5066 - val_loss: 237594.2188 - val_mae: 0.5228\n",
      "Epoch 31/50\n",
      "33/33 - 9s - loss: 245588.7031 - mae: 0.5061 - val_loss: 233439.4375 - val_mae: 0.5222\n",
      "Epoch 32/50\n",
      "33/33 - 9s - loss: 241303.5000 - mae: 0.5056 - val_loss: 229385.6406 - val_mae: 0.5217\n",
      "Epoch 33/50\n",
      "33/33 - 9s - loss: 237108.3750 - mae: 0.5051 - val_loss: 225454.9844 - val_mae: 0.5211\n",
      "Epoch 34/50\n",
      "33/33 - 9s - loss: 233008.1094 - mae: 0.5046 - val_loss: 221646.6250 - val_mae: 0.5206\n",
      "Epoch 35/50\n",
      "33/33 - 9s - loss: 229020.6250 - mae: 0.5041 - val_loss: 217886.2812 - val_mae: 0.5201\n",
      "Epoch 36/50\n",
      "33/33 - 9s - loss: 225127.6094 - mae: 0.5038 - val_loss: 214144.8281 - val_mae: 0.5198\n",
      "Epoch 37/50\n",
      "33/33 - 9s - loss: 221298.7031 - mae: 0.5035 - val_loss: 210503.3281 - val_mae: 0.5195\n",
      "Epoch 38/50\n",
      "33/33 - 9s - loss: 217538.7031 - mae: 0.5031 - val_loss: 207008.0938 - val_mae: 0.5189\n",
      "Epoch 39/50\n",
      "33/33 - 9s - loss: 213898.1094 - mae: 0.5028 - val_loss: 203516.1094 - val_mae: 0.5188\n",
      "Epoch 40/50\n",
      "33/33 - 9s - loss: 210301.1562 - mae: 0.5025 - val_loss: 200148.0469 - val_mae: 0.5184\n",
      "Epoch 41/50\n",
      "33/33 - 9s - loss: 206808.9062 - mae: 0.5023 - val_loss: 196805.2344 - val_mae: 0.5182\n",
      "Epoch 42/50\n",
      "33/33 - 9s - loss: 203356.2500 - mae: 0.5020 - val_loss: 193594.7188 - val_mae: 0.5178\n",
      "Epoch 43/50\n",
      "33/33 - 9s - loss: 200024.6562 - mae: 0.5018 - val_loss: 190355.7031 - val_mae: 0.5177\n",
      "Epoch 44/50\n",
      "33/33 - 9s - loss: 196706.9531 - mae: 0.5015 - val_loss: 187259.5781 - val_mae: 0.5173\n",
      "Epoch 45/50\n",
      "33/33 - 9s - loss: 193470.7812 - mae: 0.5012 - val_loss: 184253.8125 - val_mae: 0.5171\n",
      "Epoch 46/50\n",
      "33/33 - 9s - loss: 190335.2500 - mae: 0.5011 - val_loss: 181228.7188 - val_mae: 0.5169\n",
      "Epoch 47/50\n",
      "33/33 - 9s - loss: 187226.1875 - mae: 0.5008 - val_loss: 178295.0625 - val_mae: 0.5166\n",
      "Epoch 48/50\n",
      "33/33 - 9s - loss: 184185.8750 - mae: 0.5007 - val_loss: 175431.2656 - val_mae: 0.5165\n",
      "Epoch 49/50\n",
      "33/33 - 9s - loss: 181227.6250 - mae: 0.5006 - val_loss: 172569.0625 - val_mae: 0.5164\n",
      "Epoch 50/50\n",
      "33/33 - 9s - loss: 178301.7500 - mae: 0.5004 - val_loss: 169790.6562 - val_mae: 0.5162\n"
     ]
    }
   ],
   "metadata": {}
  },
  {
   "cell_type": "code",
   "execution_count": 17,
   "source": [
    "prob_model.save()"
   ],
   "outputs": [],
   "metadata": {}
  },
  {
   "cell_type": "markdown",
   "source": [
    "# Model evaluation\n",
    "\n",
    "Finally, we'll evaluate model metrics and make some sample predictions! Note that the predictions give predicted values and standard deviations. The standard deviations can then be converted to an uncertainty;\n",
    "in this example, we'll take the uncertainty as twice the standard deviation, which will give us the 95% confidence interval (see <https://en.wikipedia.org/wiki/68%E2%80%9395%E2%80%9399.7_rule>).\n"
   ],
   "metadata": {}
  },
  {
   "cell_type": "code",
   "execution_count": 18,
   "source": [
    "prob_model.evaluate(val_structs, val_targets)\n"
   ],
   "outputs": [
    {
     "output_type": "stream",
     "name": "stdout",
     "text": [
      "9/9 [==============================] - 2s 194ms/step - loss: 169790.6406 - mae: 0.5162\n"
     ]
    },
    {
     "output_type": "execute_result",
     "data": {
      "text/plain": [
       "{'loss': 169790.640625, 'mae': 0.5161992311477661}"
      ]
     },
     "metadata": {},
     "execution_count": 18
    }
   ],
   "metadata": {}
  },
  {
   "cell_type": "code",
   "execution_count": 7,
   "source": [
    "example_structs = val_structs[:10].tolist()\n",
    "example_targets = val_targets[:10].tolist()\n",
    "\n",
    "predicted, stddevs = prob_model.predict(example_structs)\n",
    "uncerts = 2 * stddevs\n"
   ],
   "outputs": [
    {
     "output_type": "stream",
     "name": "stdout",
     "text": [
      "prediction=array([-0.71716455, -0.71716455, -0.71716455, -0.71716455, -0.71716455,\n",
      "       -0.71716455, -0.71716455, -0.71716455, -0.71716455, -0.71716455,\n",
      "        0.59276481,  0.59276481,  0.59276481,  0.59276481,  0.59276481,\n",
      "        0.59276481,  0.59276481,  0.59276481,  0.59276481,  0.59276481])\n",
      "(10,)\n",
      "(10,)\n",
      "[-0.71716455 -0.71716455 -0.71716455 -0.71716455 -0.71716455 -0.71716455\n",
      " -0.71716455 -0.71716455 -0.71716455 -0.71716455]\n",
      "[1.18552961 1.18552961 1.18552961 1.18552961 1.18552961 1.18552961\n",
      " 1.18552961 1.18552961 1.18552961 1.18552961]\n"
     ]
    }
   ],
   "metadata": {}
  },
  {
   "cell_type": "code",
   "execution_count": 8,
   "source": [
    "pd.DataFrame(\n",
    "    {\n",
    "        \"Composition\": [struct.composition.reduced_formula for struct in example_structs],\n",
    "        \"Formation energy per atom / eV\": example_targets,\n",
    "        \"Predicted / eV\": [\n",
    "            f\"{pred:.2f} ± {uncert:.2f}\" for pred, uncert in zip(predicted, uncerts)\n",
    "        ],\n",
    "    }\n",
    ")\n"
   ],
   "outputs": [
    {
     "output_type": "execute_result",
     "data": {
      "text/plain": [
       "  Composition  Formation energy per atom / eV Predicted / eV\n",
       "0       Zr2Cu                       -0.132384   -0.72 ± 0.59\n",
       "1        NbRh                       -0.401313   -0.72 ± 0.59\n",
       "2       Cu3Ge                       -0.005707   -0.72 ± 0.59\n",
       "3       Pr3In                       -0.273232   -0.72 ± 0.59\n",
       "4         InS                       -0.742895   -0.72 ± 0.59\n",
       "5       TmPb3                       -0.215892   -0.72 ± 0.59\n",
       "6        InNi                       -0.174754   -0.72 ± 0.59\n",
       "7        GdGe                       -0.857117   -0.72 ± 0.59\n",
       "8        GdTl                       -0.380423   -0.72 ± 0.59\n",
       "9       HoTl3                       -0.215986   -0.72 ± 0.59"
      ],
      "text/html": [
       "<div>\n",
       "<style scoped>\n",
       "    .dataframe tbody tr th:only-of-type {\n",
       "        vertical-align: middle;\n",
       "    }\n",
       "\n",
       "    .dataframe tbody tr th {\n",
       "        vertical-align: top;\n",
       "    }\n",
       "\n",
       "    .dataframe thead th {\n",
       "        text-align: right;\n",
       "    }\n",
       "</style>\n",
       "<table border=\"1\" class=\"dataframe\">\n",
       "  <thead>\n",
       "    <tr style=\"text-align: right;\">\n",
       "      <th></th>\n",
       "      <th>Composition</th>\n",
       "      <th>Formation energy per atom / eV</th>\n",
       "      <th>Predicted / eV</th>\n",
       "    </tr>\n",
       "  </thead>\n",
       "  <tbody>\n",
       "    <tr>\n",
       "      <th>0</th>\n",
       "      <td>Zr2Cu</td>\n",
       "      <td>-0.132384</td>\n",
       "      <td>-0.72 ± 0.59</td>\n",
       "    </tr>\n",
       "    <tr>\n",
       "      <th>1</th>\n",
       "      <td>NbRh</td>\n",
       "      <td>-0.401313</td>\n",
       "      <td>-0.72 ± 0.59</td>\n",
       "    </tr>\n",
       "    <tr>\n",
       "      <th>2</th>\n",
       "      <td>Cu3Ge</td>\n",
       "      <td>-0.005707</td>\n",
       "      <td>-0.72 ± 0.59</td>\n",
       "    </tr>\n",
       "    <tr>\n",
       "      <th>3</th>\n",
       "      <td>Pr3In</td>\n",
       "      <td>-0.273232</td>\n",
       "      <td>-0.72 ± 0.59</td>\n",
       "    </tr>\n",
       "    <tr>\n",
       "      <th>4</th>\n",
       "      <td>InS</td>\n",
       "      <td>-0.742895</td>\n",
       "      <td>-0.72 ± 0.59</td>\n",
       "    </tr>\n",
       "    <tr>\n",
       "      <th>5</th>\n",
       "      <td>TmPb3</td>\n",
       "      <td>-0.215892</td>\n",
       "      <td>-0.72 ± 0.59</td>\n",
       "    </tr>\n",
       "    <tr>\n",
       "      <th>6</th>\n",
       "      <td>InNi</td>\n",
       "      <td>-0.174754</td>\n",
       "      <td>-0.72 ± 0.59</td>\n",
       "    </tr>\n",
       "    <tr>\n",
       "      <th>7</th>\n",
       "      <td>GdGe</td>\n",
       "      <td>-0.857117</td>\n",
       "      <td>-0.72 ± 0.59</td>\n",
       "    </tr>\n",
       "    <tr>\n",
       "      <th>8</th>\n",
       "      <td>GdTl</td>\n",
       "      <td>-0.380423</td>\n",
       "      <td>-0.72 ± 0.59</td>\n",
       "    </tr>\n",
       "    <tr>\n",
       "      <th>9</th>\n",
       "      <td>HoTl3</td>\n",
       "      <td>-0.215986</td>\n",
       "      <td>-0.72 ± 0.59</td>\n",
       "    </tr>\n",
       "  </tbody>\n",
       "</table>\n",
       "</div>"
      ]
     },
     "metadata": {},
     "execution_count": 8
    }
   ],
   "metadata": {}
  },
  {
   "cell_type": "code",
   "execution_count": null,
   "source": [
    "full_pred, full_stddev = prob_model.predict(train_structs)\n",
    "\n",
    "resids = train_targets - full_pred\n",
    "mae = np.mean(np.abs(resids))\n",
    "\n",
    "print(mae)"
   ],
   "outputs": [
    {
     "output_type": "error",
     "ename": "NameError",
     "evalue": "name 'prob_model' is not defined",
     "traceback": [
      "\u001b[0;31m---------------------------------------------------------------------------\u001b[0m",
      "\u001b[0;31mNameError\u001b[0m                                 Traceback (most recent call last)",
      "\u001b[0;32m<ipython-input-6-1b6658d8e18f>\u001b[0m in \u001b[0;36m<module>\u001b[0;34m\u001b[0m\n\u001b[1;32m      1\u001b[0m \u001b[0;32mimport\u001b[0m \u001b[0mnumpy\u001b[0m \u001b[0;32mas\u001b[0m \u001b[0mnp\u001b[0m\u001b[0;34m\u001b[0m\u001b[0;34m\u001b[0m\u001b[0m\n\u001b[1;32m      2\u001b[0m \u001b[0;34m\u001b[0m\u001b[0m\n\u001b[0;32m----> 3\u001b[0;31m \u001b[0mfull_pred\u001b[0m\u001b[0;34m,\u001b[0m \u001b[0mfull_stddev\u001b[0m \u001b[0;34m=\u001b[0m \u001b[0mprob_model\u001b[0m\u001b[0;34m.\u001b[0m\u001b[0mpredict\u001b[0m\u001b[0;34m(\u001b[0m\u001b[0mtrain_structs\u001b[0m\u001b[0;34m)\u001b[0m\u001b[0;34m\u001b[0m\u001b[0;34m\u001b[0m\u001b[0m\n\u001b[0m\u001b[1;32m      4\u001b[0m \u001b[0;34m\u001b[0m\u001b[0m\n\u001b[1;32m      5\u001b[0m \u001b[0mresids\u001b[0m \u001b[0;34m=\u001b[0m \u001b[0mtrain_targets\u001b[0m \u001b[0;34m-\u001b[0m \u001b[0mfull_pred\u001b[0m\u001b[0;34m\u001b[0m\u001b[0;34m\u001b[0m\u001b[0m\n",
      "\u001b[0;31mNameError\u001b[0m: name 'prob_model' is not defined"
     ]
    }
   ],
   "metadata": {}
  }
 ],
 "metadata": {
  "orig_nbformat": 4,
  "language_info": {
   "name": "python",
   "version": "3.8.10",
   "mimetype": "text/x-python",
   "codemirror_mode": {
    "name": "ipython",
    "version": 3
   },
   "pygments_lexer": "ipython3",
   "nbconvert_exporter": "python",
   "file_extension": ".py"
  },
  "kernelspec": {
   "name": "python3",
   "display_name": "Python 3.8.10 64-bit ('unlockGNN': conda)"
  },
  "interpreter": {
   "hash": "89b7f93fe079f836b09e45c7f268da6ce6b6a37c7513991ddecdb911874680b7"
  }
 },
 "nbformat": 4,
 "nbformat_minor": 2
}